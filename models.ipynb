{
  "cells": [
    {
      "cell_type": "markdown",
      "metadata": {
        "id": "view-in-github",
        "colab_type": "text"
      },
      "source": [
        "<a href=\"https://colab.research.google.com/github/aastha2003gupta/roadmap_to_ml/blob/main/models.ipynb\" target=\"_parent\"><img src=\"https://colab.research.google.com/assets/colab-badge.svg\" alt=\"Open In Colab\"/></a>"
      ]
    },
    {
      "cell_type": "markdown",
      "metadata": {
        "id": "Hzqyf2SUnru3"
      },
      "source": [
        "MODELS"
      ]
    },
    {
      "cell_type": "markdown",
      "metadata": {
        "id": "vnaKdCtJnuip"
      },
      "source": [
        "Linear regression"
      ]
    },
    {
      "cell_type": "markdown",
      "metadata": {
        "id": "ZUYdVmT13tLS"
      },
      "source": [
        "**Linear Regression:**\n",
        "\n",
        "Y = wX + b\n",
        "\n",
        "Y --> Dependent Variable\n",
        "\n",
        "X --> Independent Variable\n",
        "\n",
        "w --> weight\n",
        "\n",
        "b --> bias"
      ]
    },
    {
      "cell_type": "markdown",
      "metadata": {
        "id": "4eajFTyk3xC2"
      },
      "source": [
        "**Gradient Descent:**\n",
        "\n",
        "Gradient Descent is an optimization algorithm used for minimizing the loss function in various machine learning algorithms. It is used for updating the parameters of the learning model.\n",
        "\n",
        "w = w - α*dw\n",
        "\n",
        "b = b - α*db"
      ]
    },
    {
      "cell_type": "markdown",
      "metadata": {
        "id": "FjEuE-rE30dH"
      },
      "source": [
        "**Learning Rate:**\n",
        "\n",
        "Learning rate is a tuning parameter in an optimization algorithm that determines the step size at each iteration while moving toward a minimum of a loss function."
      ]
    },
    {
      "cell_type": "code",
      "execution_count": null,
      "metadata": {
        "id": "iK-j2K06npMT"
      },
      "outputs": [],
      "source": [
        "import numpy as np\n",
        "import pandas as pd\n"
      ]
    },
    {
      "cell_type": "code",
      "execution_count": null,
      "metadata": {
        "id": "1tWUS8oygs_X"
      },
      "outputs": [],
      "source": [
        "class linear_regression:\n",
        "#initiating the parameters\n",
        "  def __init__(self,learning_rate,no_of_iterations):\n",
        "    self.learning_rate=learning_rate\n",
        "    self.no_of_iterations=no_of_iterations\n",
        "#\n",
        "  def fit(self,x,y):\n",
        "    #number of training examples and training features\n",
        "    self.m,self.n=x.shape #number of rows and columns\n",
        "    #initiating the weight and bias\n",
        "    self.w=np.zeros(self.n)\n",
        "    self.b=0\n",
        "    self.x=x\n",
        "    self.y=y\n",
        "    #implementating gradient descent\n",
        "    for i in range (self.no_of_iterations):\n",
        "      self.update_weights()\n",
        "\n",
        "\n",
        "\n",
        "  def update_weights(self):\n",
        "    y_predict=self.predict(self.x)\n",
        "    #calculating gradient\n",
        "    dw=-(2*(self.x.T).dot(self.y-y_predict))/self.m\n",
        "    db= -2*np.sum(self.y-y_predict)/self.m\n",
        "    #update the weights\n",
        "    self.w=self.w-self.learning_rate*dw\n",
        "    self.b=self.b-self.learning_rate*db\n",
        "\n",
        "\n",
        "  def predict(self,x):\n",
        "    return x.dot(self.w) +self.b\n"
      ]
    },
    {
      "cell_type": "markdown",
      "source": [],
      "metadata": {
        "id": "Q3Uuv0598yb4"
      }
    },
    {
      "cell_type": "markdown",
      "metadata": {
        "id": "9McGx9-fn0Rx"
      },
      "source": [
        "Implementing linear regression"
      ]
    },
    {
      "cell_type": "code",
      "execution_count": null,
      "metadata": {
        "id": "h8NPS6XtoGyK"
      },
      "outputs": [],
      "source": [
        "from sklearn.model_selection import train_test_split\n",
        "import matplotlib.pyplot as plt"
      ]
    },
    {
      "cell_type": "code",
      "execution_count": null,
      "metadata": {
        "colab": {
          "base_uri": "https://localhost:8080/",
          "height": 206
        },
        "id": "A2fIL1Rvn33M",
        "outputId": "63d315a7-0343-4c00-a47e-b9ee59ee4775"
      },
      "outputs": [
        {
          "data": {
            "text/html": [
              "\n",
              "  <div id=\"df-33cdf1f9-8217-4f78-8a3d-2bf03c5b149a\" class=\"colab-df-container\">\n",
              "    <div>\n",
              "<style scoped>\n",
              "    .dataframe tbody tr th:only-of-type {\n",
              "        vertical-align: middle;\n",
              "    }\n",
              "\n",
              "    .dataframe tbody tr th {\n",
              "        vertical-align: top;\n",
              "    }\n",
              "\n",
              "    .dataframe thead th {\n",
              "        text-align: right;\n",
              "    }\n",
              "</style>\n",
              "<table border=\"1\" class=\"dataframe\">\n",
              "  <thead>\n",
              "    <tr style=\"text-align: right;\">\n",
              "      <th></th>\n",
              "      <th>YearsExperience</th>\n",
              "      <th>Salary</th>\n",
              "    </tr>\n",
              "  </thead>\n",
              "  <tbody>\n",
              "    <tr>\n",
              "      <th>0</th>\n",
              "      <td>1.1</td>\n",
              "      <td>39343</td>\n",
              "    </tr>\n",
              "    <tr>\n",
              "      <th>1</th>\n",
              "      <td>1.3</td>\n",
              "      <td>46205</td>\n",
              "    </tr>\n",
              "    <tr>\n",
              "      <th>2</th>\n",
              "      <td>1.5</td>\n",
              "      <td>37731</td>\n",
              "    </tr>\n",
              "    <tr>\n",
              "      <th>3</th>\n",
              "      <td>2.0</td>\n",
              "      <td>43525</td>\n",
              "    </tr>\n",
              "    <tr>\n",
              "      <th>4</th>\n",
              "      <td>2.2</td>\n",
              "      <td>39891</td>\n",
              "    </tr>\n",
              "  </tbody>\n",
              "</table>\n",
              "</div>\n",
              "    <div class=\"colab-df-buttons\">\n",
              "\n",
              "  <div class=\"colab-df-container\">\n",
              "    <button class=\"colab-df-convert\" onclick=\"convertToInteractive('df-33cdf1f9-8217-4f78-8a3d-2bf03c5b149a')\"\n",
              "            title=\"Convert this dataframe to an interactive table.\"\n",
              "            style=\"display:none;\">\n",
              "\n",
              "  <svg xmlns=\"http://www.w3.org/2000/svg\" height=\"24px\" viewBox=\"0 -960 960 960\">\n",
              "    <path d=\"M120-120v-720h720v720H120Zm60-500h600v-160H180v160Zm220 220h160v-160H400v160Zm0 220h160v-160H400v160ZM180-400h160v-160H180v160Zm440 0h160v-160H620v160ZM180-180h160v-160H180v160Zm440 0h160v-160H620v160Z\"/>\n",
              "  </svg>\n",
              "    </button>\n",
              "\n",
              "  <style>\n",
              "    .colab-df-container {\n",
              "      display:flex;\n",
              "      gap: 12px;\n",
              "    }\n",
              "\n",
              "    .colab-df-convert {\n",
              "      background-color: #E8F0FE;\n",
              "      border: none;\n",
              "      border-radius: 50%;\n",
              "      cursor: pointer;\n",
              "      display: none;\n",
              "      fill: #1967D2;\n",
              "      height: 32px;\n",
              "      padding: 0 0 0 0;\n",
              "      width: 32px;\n",
              "    }\n",
              "\n",
              "    .colab-df-convert:hover {\n",
              "      background-color: #E2EBFA;\n",
              "      box-shadow: 0px 1px 2px rgba(60, 64, 67, 0.3), 0px 1px 3px 1px rgba(60, 64, 67, 0.15);\n",
              "      fill: #174EA6;\n",
              "    }\n",
              "\n",
              "    .colab-df-buttons div {\n",
              "      margin-bottom: 4px;\n",
              "    }\n",
              "\n",
              "    [theme=dark] .colab-df-convert {\n",
              "      background-color: #3B4455;\n",
              "      fill: #D2E3FC;\n",
              "    }\n",
              "\n",
              "    [theme=dark] .colab-df-convert:hover {\n",
              "      background-color: #434B5C;\n",
              "      box-shadow: 0px 1px 3px 1px rgba(0, 0, 0, 0.15);\n",
              "      filter: drop-shadow(0px 1px 2px rgba(0, 0, 0, 0.3));\n",
              "      fill: #FFFFFF;\n",
              "    }\n",
              "  </style>\n",
              "\n",
              "    <script>\n",
              "      const buttonEl =\n",
              "        document.querySelector('#df-33cdf1f9-8217-4f78-8a3d-2bf03c5b149a button.colab-df-convert');\n",
              "      buttonEl.style.display =\n",
              "        google.colab.kernel.accessAllowed ? 'block' : 'none';\n",
              "\n",
              "      async function convertToInteractive(key) {\n",
              "        const element = document.querySelector('#df-33cdf1f9-8217-4f78-8a3d-2bf03c5b149a');\n",
              "        const dataTable =\n",
              "          await google.colab.kernel.invokeFunction('convertToInteractive',\n",
              "                                                    [key], {});\n",
              "        if (!dataTable) return;\n",
              "\n",
              "        const docLinkHtml = 'Like what you see? Visit the ' +\n",
              "          '<a target=\"_blank\" href=https://colab.research.google.com/notebooks/data_table.ipynb>data table notebook</a>'\n",
              "          + ' to learn more about interactive tables.';\n",
              "        element.innerHTML = '';\n",
              "        dataTable['output_type'] = 'display_data';\n",
              "        await google.colab.output.renderOutput(dataTable, element);\n",
              "        const docLink = document.createElement('div');\n",
              "        docLink.innerHTML = docLinkHtml;\n",
              "        element.appendChild(docLink);\n",
              "      }\n",
              "    </script>\n",
              "  </div>\n",
              "\n",
              "\n",
              "<div id=\"df-83bbb47f-38b0-4904-ae2c-579279b2a4c5\">\n",
              "  <button class=\"colab-df-quickchart\" onclick=\"quickchart('df-83bbb47f-38b0-4904-ae2c-579279b2a4c5')\"\n",
              "            title=\"Suggest charts.\"\n",
              "            style=\"display:none;\">\n",
              "\n",
              "<svg xmlns=\"http://www.w3.org/2000/svg\" height=\"24px\"viewBox=\"0 0 24 24\"\n",
              "     width=\"24px\">\n",
              "    <g>\n",
              "        <path d=\"M19 3H5c-1.1 0-2 .9-2 2v14c0 1.1.9 2 2 2h14c1.1 0 2-.9 2-2V5c0-1.1-.9-2-2-2zM9 17H7v-7h2v7zm4 0h-2V7h2v10zm4 0h-2v-4h2v4z\"/>\n",
              "    </g>\n",
              "</svg>\n",
              "  </button>\n",
              "\n",
              "<style>\n",
              "  .colab-df-quickchart {\n",
              "      --bg-color: #E8F0FE;\n",
              "      --fill-color: #1967D2;\n",
              "      --hover-bg-color: #E2EBFA;\n",
              "      --hover-fill-color: #174EA6;\n",
              "      --disabled-fill-color: #AAA;\n",
              "      --disabled-bg-color: #DDD;\n",
              "  }\n",
              "\n",
              "  [theme=dark] .colab-df-quickchart {\n",
              "      --bg-color: #3B4455;\n",
              "      --fill-color: #D2E3FC;\n",
              "      --hover-bg-color: #434B5C;\n",
              "      --hover-fill-color: #FFFFFF;\n",
              "      --disabled-bg-color: #3B4455;\n",
              "      --disabled-fill-color: #666;\n",
              "  }\n",
              "\n",
              "  .colab-df-quickchart {\n",
              "    background-color: var(--bg-color);\n",
              "    border: none;\n",
              "    border-radius: 50%;\n",
              "    cursor: pointer;\n",
              "    display: none;\n",
              "    fill: var(--fill-color);\n",
              "    height: 32px;\n",
              "    padding: 0;\n",
              "    width: 32px;\n",
              "  }\n",
              "\n",
              "  .colab-df-quickchart:hover {\n",
              "    background-color: var(--hover-bg-color);\n",
              "    box-shadow: 0 1px 2px rgba(60, 64, 67, 0.3), 0 1px 3px 1px rgba(60, 64, 67, 0.15);\n",
              "    fill: var(--button-hover-fill-color);\n",
              "  }\n",
              "\n",
              "  .colab-df-quickchart-complete:disabled,\n",
              "  .colab-df-quickchart-complete:disabled:hover {\n",
              "    background-color: var(--disabled-bg-color);\n",
              "    fill: var(--disabled-fill-color);\n",
              "    box-shadow: none;\n",
              "  }\n",
              "\n",
              "  .colab-df-spinner {\n",
              "    border: 2px solid var(--fill-color);\n",
              "    border-color: transparent;\n",
              "    border-bottom-color: var(--fill-color);\n",
              "    animation:\n",
              "      spin 1s steps(1) infinite;\n",
              "  }\n",
              "\n",
              "  @keyframes spin {\n",
              "    0% {\n",
              "      border-color: transparent;\n",
              "      border-bottom-color: var(--fill-color);\n",
              "      border-left-color: var(--fill-color);\n",
              "    }\n",
              "    20% {\n",
              "      border-color: transparent;\n",
              "      border-left-color: var(--fill-color);\n",
              "      border-top-color: var(--fill-color);\n",
              "    }\n",
              "    30% {\n",
              "      border-color: transparent;\n",
              "      border-left-color: var(--fill-color);\n",
              "      border-top-color: var(--fill-color);\n",
              "      border-right-color: var(--fill-color);\n",
              "    }\n",
              "    40% {\n",
              "      border-color: transparent;\n",
              "      border-right-color: var(--fill-color);\n",
              "      border-top-color: var(--fill-color);\n",
              "    }\n",
              "    60% {\n",
              "      border-color: transparent;\n",
              "      border-right-color: var(--fill-color);\n",
              "    }\n",
              "    80% {\n",
              "      border-color: transparent;\n",
              "      border-right-color: var(--fill-color);\n",
              "      border-bottom-color: var(--fill-color);\n",
              "    }\n",
              "    90% {\n",
              "      border-color: transparent;\n",
              "      border-bottom-color: var(--fill-color);\n",
              "    }\n",
              "  }\n",
              "</style>\n",
              "\n",
              "  <script>\n",
              "    async function quickchart(key) {\n",
              "      const quickchartButtonEl =\n",
              "        document.querySelector('#' + key + ' button');\n",
              "      quickchartButtonEl.disabled = true;  // To prevent multiple clicks.\n",
              "      quickchartButtonEl.classList.add('colab-df-spinner');\n",
              "      try {\n",
              "        const charts = await google.colab.kernel.invokeFunction(\n",
              "            'suggestCharts', [key], {});\n",
              "      } catch (error) {\n",
              "        console.error('Error during call to suggestCharts:', error);\n",
              "      }\n",
              "      quickchartButtonEl.classList.remove('colab-df-spinner');\n",
              "      quickchartButtonEl.classList.add('colab-df-quickchart-complete');\n",
              "    }\n",
              "    (() => {\n",
              "      let quickchartButtonEl =\n",
              "        document.querySelector('#df-83bbb47f-38b0-4904-ae2c-579279b2a4c5 button');\n",
              "      quickchartButtonEl.style.display =\n",
              "        google.colab.kernel.accessAllowed ? 'block' : 'none';\n",
              "    })();\n",
              "  </script>\n",
              "</div>\n",
              "    </div>\n",
              "  </div>\n"
            ],
            "text/plain": [
              "   YearsExperience  Salary\n",
              "0              1.1   39343\n",
              "1              1.3   46205\n",
              "2              1.5   37731\n",
              "3              2.0   43525\n",
              "4              2.2   39891"
            ]
          },
          "execution_count": 3,
          "metadata": {},
          "output_type": "execute_result"
        }
      ],
      "source": [
        "df1=pd.read_csv('/content/salary_data.csv')\n",
        "df1.head()"
      ]
    },
    {
      "cell_type": "code",
      "execution_count": null,
      "metadata": {
        "colab": {
          "base_uri": "https://localhost:8080/"
        },
        "id": "ebjnumYGpRXg",
        "outputId": "4c71c75e-875d-4f4a-e8ec-adbcdb215241"
      },
      "outputs": [
        {
          "data": {
            "text/plain": [
              "(30, 2)"
            ]
          },
          "execution_count": 6,
          "metadata": {},
          "output_type": "execute_result"
        }
      ],
      "source": [
        "#data preprocessing\n",
        "df1.shape\n"
      ]
    },
    {
      "cell_type": "code",
      "execution_count": null,
      "metadata": {
        "colab": {
          "base_uri": "https://localhost:8080/"
        },
        "id": "wSNnbyL2vDCo",
        "outputId": "8d5b8458-b96e-4794-d0b4-bcc097733f6a"
      },
      "outputs": [
        {
          "data": {
            "text/plain": [
              "YearsExperience    0\n",
              "Salary             0\n",
              "dtype: int64"
            ]
          },
          "execution_count": 7,
          "metadata": {},
          "output_type": "execute_result"
        }
      ],
      "source": [
        "df1.isnull().sum()"
      ]
    },
    {
      "cell_type": "code",
      "execution_count": null,
      "metadata": {
        "id": "cXw0NhhuvG7v"
      },
      "outputs": [],
      "source": [
        "#splitting feature and target\n",
        "x=df1.iloc[:,:-1].values\n",
        "y=df1.iloc[:,1].values"
      ]
    },
    {
      "cell_type": "code",
      "execution_count": null,
      "metadata": {
        "id": "djAau3pXv1Z4"
      },
      "outputs": [],
      "source": [
        "#split in train and test\n",
        "x_train,x_test,y_train,y_test=train_test_split(x,y,test_size=0.33,random_state=2)"
      ]
    },
    {
      "cell_type": "code",
      "execution_count": null,
      "metadata": {
        "id": "2RNlJYETwWRh"
      },
      "outputs": [],
      "source": [
        "#training linear regression model\n",
        "model=linear_regression(learning_rate=0.02,no_of_iterations=1000)\n"
      ]
    },
    {
      "cell_type": "code",
      "execution_count": null,
      "metadata": {
        "id": "BL6Sl1rww1j6"
      },
      "outputs": [],
      "source": [
        "#fitting\n",
        "model.fit(x=x_train,y=y_train)"
      ]
    },
    {
      "cell_type": "code",
      "execution_count": null,
      "metadata": {
        "colab": {
          "base_uri": "https://localhost:8080/"
        },
        "id": "5iyeFWctyIbK",
        "outputId": "a59a7326-4679-4eec-9cab-88c1fc146a0d"
      },
      "outputs": [
        {
          "name": "stdout",
          "output_type": "stream",
          "text": [
            "weight 9514.400999035135\n",
            "bias 23697.406507136307\n"
          ]
        }
      ],
      "source": [
        "#printing parameter values\n",
        "print('weight', model.w[0])\n",
        "print('bias',model.b)"
      ]
    },
    {
      "cell_type": "code",
      "execution_count": null,
      "metadata": {
        "id": "O7s7fWCmyjfs"
      },
      "outputs": [],
      "source": [
        "#y=9514(x)+23697\n",
        "test_data_prediction=model.predict(x_test)"
      ]
    },
    {
      "cell_type": "code",
      "execution_count": null,
      "metadata": {
        "colab": {
          "base_uri": "https://localhost:8080/"
        },
        "id": "tAoSi68VzCc0",
        "outputId": "a927f67e-9f1b-408c-8c32-a976945a9658"
      },
      "outputs": [
        {
          "name": "stdout",
          "output_type": "stream",
          "text": [
            "[ 36066.12780588  34163.24760607  66512.21100279  58900.69020357\n",
            "  91249.65360029  80783.81250135 101715.49469922  52240.60950424\n",
            "  42726.20850521  88395.33330058]\n"
          ]
        }
      ],
      "source": [
        "print(test_data_prediction)"
      ]
    },
    {
      "cell_type": "markdown",
      "metadata": {
        "id": "QjQww8lTzGfN"
      },
      "source": [
        "visualization"
      ]
    },
    {
      "cell_type": "code",
      "execution_count": null,
      "metadata": {
        "colab": {
          "base_uri": "https://localhost:8080/",
          "height": 472
        },
        "id": "o74FdK9HzIe9",
        "outputId": "01b9aad9-e2ec-4341-87de-e4da46efc242"
      },
      "outputs": [
        {
          "data": {
            "image/png": "[encoded data removed]",
            "text/plain": [
              "<Figure size 640x480 with 1 Axes>"
            ]
          },
          "metadata": {},
          "output_type": "display_data"
        }
      ],
      "source": [
        "plt.scatter(x_test,y_test,color='red')\n",
        "plt.plot(x_test,test_data_prediction,color='blue')\n",
        "plt.xlabel( 'Work Experience' )\n",
        "plt.ylabel( 'Salary' )\n",
        "plt.title( 'Salary vs Experience' )\n",
        "plt.show()\n"
      ]
    },
    {
      "cell_type": "markdown",
      "metadata": {
        "id": "RqziON4ZFmVb"
      },
      "source": [
        "LOGISTIC REGRESSION"
      ]
    },
    {
      "cell_type": "markdown",
      "metadata": {
        "id": "T-nmko4jFuV2"
      },
      "source": [
        "![download.png](data:image/png;base64,iVBORw0KGgoAAAANSUhEUgAAAkMAAABLCAMAAABEK3PtAAAAAXNSR0IArs4c6QAAAARnQU1BAACxjwv8YQUAAAAzUExURQAAAAAAAAAAAAAAAAAAAAAAAAAAAAAAAAAAAAAAAAAAAAAAAAAAAAAAAAAAAAAAAAAAAKMFRskAAAAQdFJOUwATIi88SlhndoWWqLjL3O5QTd6UAAAACXBIWXMAABcRAAAXEQHKJvM/AAAEFklEQVR4Xu3ci3KjIBQGYEGDiAi8/9Pu4ZJNE3Cjkm3F/t/MjiaTpo3+Hi6S7QAAAAAAAAAAAAAAAOATuNJpD+AIppxDhuA4Ju1skCGocJt5J5EhqIQMQS1kCGohQ1ALGYJayBDUQoagFjIEtZAhqIUMQS1kCGohQ1CpN84NaR9gP3eHGF2dcgtLuwBHjG5GpwVqCKfCP4CD+tCQKSfSYwCAb3YfMzHr+rADsJNK3WnMBcJRPBYiKkOYw4GDVBiSjStlSKZJwkSmpwG+oELEu86slCFkCDbwhUigNwQVfCFa9vaGUl36pPTO0CJ14F5HOu+flN4ZWkSFCIMyqKPckvYy6FP/OH8Kzj/9+4/5RWQoGtIBIPUlW/u3oa3fbLjXLZxNeyeGOeq3pFs4bZh1c3yiinHWv9uNIrRh4dbwkd/5n/1ohqy/Gp2z514FN8e/Tzvzib9TxM7DLQ+HLJS50Y1p78R+MkM8tI/a3eLDs7JhaQy17B8ZfDDnKIrM5MtHSxlSLdwNP5whJqtbauF/dSOrl/qPdQhn/4F1aNCelTJkGugO+cWwaW8fSe1Q2q0ytrGKkm39fwF9B9xvWWiyqHhlIRB0xKdSeSlkiNFrb4szV1yaI8xCA4z04Cu9M1j+gLZAxZ7wQxhfPTzO/hjaKp8l/2gqRM86Uay9hQzd3KhGeq+T9xiP4Hq4H6QXbzL0mC6IDUNv2/hWCY2iXjptqxlKK/umeHhkIS1qpVksZIiGhL5PvZy9y3jQoQy9YLaNC4zbHS1uXI1lwpKIbjbhuSfjypxPIUM6ljF90cm5HRkSdNGaQvVmi22joV/2fAlP+ygIO/kNL5ShnnqSzx/b96G++NL6pQL36zPEtBv9sCY/C2GE0i2nr9PUAu/IejjhWoaqMuU3kpiZX8cRqxnq042oqy403ZyhJSQlXJ3PlJ8/Y6oQrnOhT7pnok9ShoRlkn6IF869XhgvN2Z5Wza6yW946QK8gq0ZknHkZbJL+X71FXoMp1Ie1q/3qSlDjFpuQVHSIQJPlG++y33kPENzfN1lVwm+ZGjtBm363lHDh2FOI2v59AnWMyTcLKkJGpwc85sjcVRfnpTLM5RWKa8tVm7exgwJqjP8ppxutRqLNKzvY7vy3uCMpXPuN6na0LGJO/RkCA8du8LhyDKUvndzdBr4/Da2ZZNPlJ6avZBoFBWyM9itczR0YMJPpA35myF6s3Ag6CWFgVaWIX9vv6OOVbPX3zsbM9T6sHQOZTXYeibT/f3HfMA9Qzca1fve32Do3fJBf5ahUQv69Uv+yqv4JRn6Rnl/6Oo2ZsiPdEl/0ZEFVOBUZQsVJssQt4Z3XJamqeFX+zuyfY1RlqGup7CZKV8tA1CWZwgAAAAAAAAAAAAAAGC7rvsDkSM8e6OA8XgAAAAASUVORK5CYII=)"
      ]
    },
    {
      "cell_type": "markdown",
      "metadata": {
        "id": "2hyujAXOF_4T"
      },
      "source": [
        "Y_hat --> predicted value\n",
        "\n",
        "X --> Input Variable\n",
        "\n",
        "w --> weight\n",
        "\n",
        "b --> bias"
      ]
    },
    {
      "cell_type": "markdown",
      "metadata": {
        "id": "VhgWoL4oGDnK"
      },
      "source": [
        "Gradient Descent:\n",
        "\n",
        "Gradient Descent is an optimization algorithm used for minimizing the loss function in various machine learning algorithms. It is used for updating the parameters of the learning model.\n",
        "\n",
        "w = w - α*dw\n",
        "\n",
        "b = b - α*db"
      ]
    },
    {
      "cell_type": "markdown",
      "metadata": {
        "id": "mjZSYFHgGF8u"
      },
      "source": [
        "Learning Rate:\n",
        "\n",
        "Learning rate is a tuning parameter in an optimization algorithm that determines the step size at each iteration while moving toward a minimum of a loss function."
      ]
    },
    {
      "cell_type": "markdown",
      "metadata": {
        "id": "XCnBzxRGGGei"
      },
      "source": [
        "Derivatives:"
      ]
    },
    {
      "cell_type": "markdown",
      "metadata": {
        "id": "5w0X4b8HGGiC"
      },
      "source": [
        "![image.png](data:image/png;base64,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)"
      ]
    },
    {
      "cell_type": "code",
      "execution_count": null,
      "metadata": {
        "id": "L2JaCwYyFp4d"
      },
      "outputs": [],
      "source": [
        "class logistic_regression():\n",
        "  def __init__(self,learning_rate, no_of_iterations):\n",
        "    self.learning_rate=learning_rate\n",
        "    self.no_of_iterations=no_of_iterations\n",
        "\n",
        "  def fit(self,x,y):\n",
        "    self.m,self.n=x.shape\n",
        "    self.w = np.zeros(self.n)\n",
        "    self.b = 0\n",
        "    self.x=x\n",
        "    self.y=y\n",
        "    for i in range (self.no_of_iterations):\n",
        "      self.updates_weights()\n",
        "\n",
        "\n",
        "  def updates_weights(self):\n",
        "    Y_hat = 1 / (1 + np.exp( - (self.X.dot(self.w) + self.b ) ))\n",
        "\n",
        "    dw = (1/self.m)*np.dot(self.X.T, (Y_hat - self.Y))\n",
        "    db = (1/self.m)*np.sum(Y_hat - self.Y)\n",
        "\n",
        "    self.w = self.w - self.learning_rate * dw\n",
        "    self.b = self.b - self.learning_rate * db\n",
        "\n",
        "  def predict(self,x):\n",
        "    Y_pred = 1 / (1 + np.exp( - (X.dot(self.w) + self.b ) ))\n",
        "    Y_pred = np.where( Y_pred > 0.5, 1, 0)\n",
        "    return Y_pred\n",
        "\n"
      ]
    },
    {
      "cell_type": "code",
      "execution_count": null,
      "metadata": {
        "colab": {
          "base_uri": "https://localhost:8080/",
          "height": 206
        },
        "id": "eS_wae2TG2oh",
        "outputId": "965a1476-30da-4915-9356-ccb5088f1354"
      },
      "outputs": [
        {
          "output_type": "execute_result",
          "data": {
            "text/plain": [
              "   Pregnancies  Glucose  BloodPressure  SkinThickness  Insulin   BMI  \\\n",
              "0            6      148             72             35        0  33.6   \n",
              "1            1       85             66             29        0  26.6   \n",
              "2            8      183             64              0        0  23.3   \n",
              "3            1       89             66             23       94  28.1   \n",
              "4            0      137             40             35      168  43.1   \n",
              "\n",
              "   DiabetesPedigreeFunction  Age  Outcome  \n",
              "0                     0.627   50        1  \n",
              "1                     0.351   31        0  \n",
              "2                     0.672   32        1  \n",
              "3                     0.167   21        0  \n",
              "4                     2.288   33        1  "
            ],
            "text/html": [
              "\n",
              "  <div id=\"df-177917ce-3e7a-42f7-9e21-0b2d9eb4a6b6\" class=\"colab-df-container\">\n",
              "    <div>\n",
              "<style scoped>\n",
              "    .dataframe tbody tr th:only-of-type {\n",
              "        vertical-align: middle;\n",
              "    }\n",
              "\n",
              "    .dataframe tbody tr th {\n",
              "        vertical-align: top;\n",
              "    }\n",
              "\n",
              "    .dataframe thead th {\n",
              "        text-align: right;\n",
              "    }\n",
              "</style>\n",
              "<table border=\"1\" class=\"dataframe\">\n",
              "  <thead>\n",
              "    <tr style=\"text-align: right;\">\n",
              "      <th></th>\n",
              "      <th>Pregnancies</th>\n",
              "      <th>Glucose</th>\n",
              "      <th>BloodPressure</th>\n",
              "      <th>SkinThickness</th>\n",
              "      <th>Insulin</th>\n",
              "      <th>BMI</th>\n",
              "      <th>DiabetesPedigreeFunction</th>\n",
              "      <th>Age</th>\n",
              "      <th>Outcome</th>\n",
              "    </tr>\n",
              "  </thead>\n",
              "  <tbody>\n",
              "    <tr>\n",
              "      <th>0</th>\n",
              "      <td>6</td>\n",
              "      <td>148</td>\n",
              "      <td>72</td>\n",
              "      <td>35</td>\n",
              "      <td>0</td>\n",
              "      <td>33.6</td>\n",
              "      <td>0.627</td>\n",
              "      <td>50</td>\n",
              "      <td>1</td>\n",
              "    </tr>\n",
              "    <tr>\n",
              "      <th>1</th>\n",
              "      <td>1</td>\n",
              "      <td>85</td>\n",
              "      <td>66</td>\n",
              "      <td>29</td>\n",
              "      <td>0</td>\n",
              "      <td>26.6</td>\n",
              "      <td>0.351</td>\n",
              "      <td>31</td>\n",
              "      <td>0</td>\n",
              "    </tr>\n",
              "    <tr>\n",
              "      <th>2</th>\n",
              "      <td>8</td>\n",
              "      <td>183</td>\n",
              "      <td>64</td>\n",
              "      <td>0</td>\n",
              "      <td>0</td>\n",
              "      <td>23.3</td>\n",
              "      <td>0.672</td>\n",
              "      <td>32</td>\n",
              "      <td>1</td>\n",
              "    </tr>\n",
              "    <tr>\n",
              "      <th>3</th>\n",
              "      <td>1</td>\n",
              "      <td>89</td>\n",
              "      <td>66</td>\n",
              "      <td>23</td>\n",
              "      <td>94</td>\n",
              "      <td>28.1</td>\n",
              "      <td>0.167</td>\n",
              "      <td>21</td>\n",
              "      <td>0</td>\n",
              "    </tr>\n",
              "    <tr>\n",
              "      <th>4</th>\n",
              "      <td>0</td>\n",
              "      <td>137</td>\n",
              "      <td>40</td>\n",
              "      <td>35</td>\n",
              "      <td>168</td>\n",
              "      <td>43.1</td>\n",
              "      <td>2.288</td>\n",
              "      <td>33</td>\n",
              "      <td>1</td>\n",
              "    </tr>\n",
              "  </tbody>\n",
              "</table>\n",
              "</div>\n",
              "    <div class=\"colab-df-buttons\">\n",
              "\n",
              "  <div class=\"colab-df-container\">\n",
              "    <button class=\"colab-df-convert\" onclick=\"convertToInteractive('df-177917ce-3e7a-42f7-9e21-0b2d9eb4a6b6')\"\n",
              "            title=\"Convert this dataframe to an interactive table.\"\n",
              "            style=\"display:none;\">\n",
              "\n",
              "  <svg xmlns=\"http://www.w3.org/2000/svg\" height=\"24px\" viewBox=\"0 -960 960 960\">\n",
              "    <path d=\"M120-120v-720h720v720H120Zm60-500h600v-160H180v160Zm220 220h160v-160H400v160Zm0 220h160v-160H400v160ZM180-400h160v-160H180v160Zm440 0h160v-160H620v160ZM180-180h160v-160H180v160Zm440 0h160v-160H620v160Z\"/>\n",
              "  </svg>\n",
              "    </button>\n",
              "\n",
              "  <style>\n",
              "    .colab-df-container {\n",
              "      display:flex;\n",
              "      gap: 12px;\n",
              "    }\n",
              "\n",
              "    .colab-df-convert {\n",
              "      background-color: #E8F0FE;\n",
              "      border: none;\n",
              "      border-radius: 50%;\n",
              "      cursor: pointer;\n",
              "      display: none;\n",
              "      fill: #1967D2;\n",
              "      height: 32px;\n",
              "      padding: 0 0 0 0;\n",
              "      width: 32px;\n",
              "    }\n",
              "\n",
              "    .colab-df-convert:hover {\n",
              "      background-color: #E2EBFA;\n",
              "      box-shadow: 0px 1px 2px rgba(60, 64, 67, 0.3), 0px 1px 3px 1px rgba(60, 64, 67, 0.15);\n",
              "      fill: #174EA6;\n",
              "    }\n",
              "\n",
              "    .colab-df-buttons div {\n",
              "      margin-bottom: 4px;\n",
              "    }\n",
              "\n",
              "    [theme=dark] .colab-df-convert {\n",
              "      background-color: #3B4455;\n",
              "      fill: #D2E3FC;\n",
              "    }\n",
              "\n",
              "    [theme=dark] .colab-df-convert:hover {\n",
              "      background-color: #434B5C;\n",
              "      box-shadow: 0px 1px 3px 1px rgba(0, 0, 0, 0.15);\n",
              "      filter: drop-shadow(0px 1px 2px rgba(0, 0, 0, 0.3));\n",
              "      fill: #FFFFFF;\n",
              "    }\n",
              "  </style>\n",
              "\n",
              "    <script>\n",
              "      const buttonEl =\n",
              "        document.querySelector('#df-177917ce-3e7a-42f7-9e21-0b2d9eb4a6b6 button.colab-df-convert');\n",
              "      buttonEl.style.display =\n",
              "        google.colab.kernel.accessAllowed ? 'block' : 'none';\n",
              "\n",
              "      async function convertToInteractive(key) {\n",
              "        const element = document.querySelector('#df-177917ce-3e7a-42f7-9e21-0b2d9eb4a6b6');\n",
              "        const dataTable =\n",
              "          await google.colab.kernel.invokeFunction('convertToInteractive',\n",
              "                                                    [key], {});\n",
              "        if (!dataTable) return;\n",
              "\n",
              "        const docLinkHtml = 'Like what you see? Visit the ' +\n",
              "          '<a target=\"_blank\" href=https://colab.research.google.com/notebooks/data_table.ipynb>data table notebook</a>'\n",
              "          + ' to learn more about interactive tables.';\n",
              "        element.innerHTML = '';\n",
              "        dataTable['output_type'] = 'display_data';\n",
              "        await google.colab.output.renderOutput(dataTable, element);\n",
              "        const docLink = document.createElement('div');\n",
              "        docLink.innerHTML = docLinkHtml;\n",
              "        element.appendChild(docLink);\n",
              "      }\n",
              "    </script>\n",
              "  </div>\n",
              "\n",
              "\n",
              "<div id=\"df-29fcdbf4-5766-4e4a-9fca-68fba8161597\">\n",
              "  <button class=\"colab-df-quickchart\" onclick=\"quickchart('df-29fcdbf4-5766-4e4a-9fca-68fba8161597')\"\n",
              "            title=\"Suggest charts.\"\n",
              "            style=\"display:none;\">\n",
              "\n",
              "<svg xmlns=\"http://www.w3.org/2000/svg\" height=\"24px\"viewBox=\"0 0 24 24\"\n",
              "     width=\"24px\">\n",
              "    <g>\n",
              "        <path d=\"M19 3H5c-1.1 0-2 .9-2 2v14c0 1.1.9 2 2 2h14c1.1 0 2-.9 2-2V5c0-1.1-.9-2-2-2zM9 17H7v-7h2v7zm4 0h-2V7h2v10zm4 0h-2v-4h2v4z\"/>\n",
              "    </g>\n",
              "</svg>\n",
              "  </button>\n",
              "\n",
              "<style>\n",
              "  .colab-df-quickchart {\n",
              "      --bg-color: #E8F0FE;\n",
              "      --fill-color: #1967D2;\n",
              "      --hover-bg-color: #E2EBFA;\n",
              "      --hover-fill-color: #174EA6;\n",
              "      --disabled-fill-color: #AAA;\n",
              "      --disabled-bg-color: #DDD;\n",
              "  }\n",
              "\n",
              "  [theme=dark] .colab-df-quickchart {\n",
              "      --bg-color: #3B4455;\n",
              "      --fill-color: #D2E3FC;\n",
              "      --hover-bg-color: #434B5C;\n",
              "      --hover-fill-color: #FFFFFF;\n",
              "      --disabled-bg-color: #3B4455;\n",
              "      --disabled-fill-color: #666;\n",
              "  }\n",
              "\n",
              "  .colab-df-quickchart {\n",
              "    background-color: var(--bg-color);\n",
              "    border: none;\n",
              "    border-radius: 50%;\n",
              "    cursor: pointer;\n",
              "    display: none;\n",
              "    fill: var(--fill-color);\n",
              "    height: 32px;\n",
              "    padding: 0;\n",
              "    width: 32px;\n",
              "  }\n",
              "\n",
              "  .colab-df-quickchart:hover {\n",
              "    background-color: var(--hover-bg-color);\n",
              "    box-shadow: 0 1px 2px rgba(60, 64, 67, 0.3), 0 1px 3px 1px rgba(60, 64, 67, 0.15);\n",
              "    fill: var(--button-hover-fill-color);\n",
              "  }\n",
              "\n",
              "  .colab-df-quickchart-complete:disabled,\n",
              "  .colab-df-quickchart-complete:disabled:hover {\n",
              "    background-color: var(--disabled-bg-color);\n",
              "    fill: var(--disabled-fill-color);\n",
              "    box-shadow: none;\n",
              "  }\n",
              "\n",
              "  .colab-df-spinner {\n",
              "    border: 2px solid var(--fill-color);\n",
              "    border-color: transparent;\n",
              "    border-bottom-color: var(--fill-color);\n",
              "    animation:\n",
              "      spin 1s steps(1) infinite;\n",
              "  }\n",
              "\n",
              "  @keyframes spin {\n",
              "    0% {\n",
              "      border-color: transparent;\n",
              "      border-bottom-color: var(--fill-color);\n",
              "      border-left-color: var(--fill-color);\n",
              "    }\n",
              "    20% {\n",
              "      border-color: transparent;\n",
              "      border-left-color: var(--fill-color);\n",
              "      border-top-color: var(--fill-color);\n",
              "    }\n",
              "    30% {\n",
              "      border-color: transparent;\n",
              "      border-left-color: var(--fill-color);\n",
              "      border-top-color: var(--fill-color);\n",
              "      border-right-color: var(--fill-color);\n",
              "    }\n",
              "    40% {\n",
              "      border-color: transparent;\n",
              "      border-right-color: var(--fill-color);\n",
              "      border-top-color: var(--fill-color);\n",
              "    }\n",
              "    60% {\n",
              "      border-color: transparent;\n",
              "      border-right-color: var(--fill-color);\n",
              "    }\n",
              "    80% {\n",
              "      border-color: transparent;\n",
              "      border-right-color: var(--fill-color);\n",
              "      border-bottom-color: var(--fill-color);\n",
              "    }\n",
              "    90% {\n",
              "      border-color: transparent;\n",
              "      border-bottom-color: var(--fill-color);\n",
              "    }\n",
              "  }\n",
              "</style>\n",
              "\n",
              "  <script>\n",
              "    async function quickchart(key) {\n",
              "      const quickchartButtonEl =\n",
              "        document.querySelector('#' + key + ' button');\n",
              "      quickchartButtonEl.disabled = true;  // To prevent multiple clicks.\n",
              "      quickchartButtonEl.classList.add('colab-df-spinner');\n",
              "      try {\n",
              "        const charts = await google.colab.kernel.invokeFunction(\n",
              "            'suggestCharts', [key], {});\n",
              "      } catch (error) {\n",
              "        console.error('Error during call to suggestCharts:', error);\n",
              "      }\n",
              "      quickchartButtonEl.classList.remove('colab-df-spinner');\n",
              "      quickchartButtonEl.classList.add('colab-df-quickchart-complete');\n",
              "    }\n",
              "    (() => {\n",
              "      let quickchartButtonEl =\n",
              "        document.querySelector('#df-29fcdbf4-5766-4e4a-9fca-68fba8161597 button');\n",
              "      quickchartButtonEl.style.display =\n",
              "        google.colab.kernel.accessAllowed ? 'block' : 'none';\n",
              "    })();\n",
              "  </script>\n",
              "</div>\n",
              "    </div>\n",
              "  </div>\n"
            ]
          },
          "metadata": {},
          "execution_count": 9
        }
      ],
      "source": [
        "df2=pd.read_csv('/content/diabetes (1).csv')\n",
        "df2.head()"
      ]
    },
    {
      "cell_type": "code",
      "execution_count": null,
      "metadata": {
        "id": "3SISexkkMK5U"
      },
      "outputs": [],
      "source": [
        "from sklearn.preprocessing import StandardScaler\n",
        "from sklearn.model_selection import train_test_split\n",
        "from sklearn.metrics import accuracy_score"
      ]
    },
    {
      "cell_type": "code",
      "execution_count": null,
      "metadata": {
        "colab": {
          "base_uri": "https://localhost:8080/"
        },
        "id": "08RAJwLvMh-5",
        "outputId": "4cb247f8-4e01-4bc5-bb39-fbdc988c4121"
      },
      "outputs": [
        {
          "output_type": "execute_result",
          "data": {
            "text/plain": [
              "(768, 9)"
            ]
          },
          "metadata": {},
          "execution_count": 7
        }
      ],
      "source": [
        "df2.shape"
      ]
    },
    {
      "cell_type": "code",
      "execution_count": null,
      "metadata": {
        "colab": {
          "base_uri": "https://localhost:8080/"
        },
        "id": "gJOIvpKtMfOY",
        "outputId": "975b7c01-6c2c-43d9-bd07-286dc958cd5e"
      },
      "outputs": [
        {
          "output_type": "execute_result",
          "data": {
            "text/plain": [
              "Pregnancies                 0\n",
              "Glucose                     0\n",
              "BloodPressure               0\n",
              "SkinThickness               0\n",
              "Insulin                     0\n",
              "BMI                         0\n",
              "DiabetesPedigreeFunction    0\n",
              "Age                         0\n",
              "Outcome                     0\n",
              "dtype: int64"
            ]
          },
          "metadata": {},
          "execution_count": 8
        }
      ],
      "source": [
        "df2.isnull().sum()"
      ]
    },
    {
      "cell_type": "code",
      "execution_count": null,
      "metadata": {
        "colab": {
          "base_uri": "https://localhost:8080/",
          "height": 320
        },
        "id": "1xMl-NdSMqCi",
        "outputId": "fbd07a39-c9a9-4822-eb4a-2bd44f972cd9"
      },
      "outputs": [
        {
          "output_type": "execute_result",
          "data": {
            "text/plain": [
              "       Pregnancies     Glucose  BloodPressure  SkinThickness     Insulin  \\\n",
              "count   768.000000  768.000000     768.000000     768.000000  768.000000   \n",
              "mean      3.845052  120.894531      69.105469      20.536458   79.799479   \n",
              "std       3.369578   31.972618      19.355807      15.952218  115.244002   \n",
              "min       0.000000    0.000000       0.000000       0.000000    0.000000   \n",
              "25%       1.000000   99.000000      62.000000       0.000000    0.000000   \n",
              "50%       3.000000  117.000000      72.000000      23.000000   30.500000   \n",
              "75%       6.000000  140.250000      80.000000      32.000000  127.250000   \n",
              "max      17.000000  199.000000     122.000000      99.000000  846.000000   \n",
              "\n",
              "              BMI  DiabetesPedigreeFunction         Age     Outcome  \n",
              "count  768.000000                768.000000  768.000000  768.000000  \n",
              "mean    31.992578                  0.471876   33.240885    0.348958  \n",
              "std      7.884160                  0.331329   11.760232    0.476951  \n",
              "min      0.000000                  0.078000   21.000000    0.000000  \n",
              "25%     27.300000                  0.243750   24.000000    0.000000  \n",
              "50%     32.000000                  0.372500   29.000000    0.000000  \n",
              "75%     36.600000                  0.626250   41.000000    1.000000  \n",
              "max     67.100000                  2.420000   81.000000    1.000000  "
            ],
            "text/html": [
              "\n",
              "  <div id=\"df-2dfc6c61-8f94-4b06-b1bf-1275ab598d19\" class=\"colab-df-container\">\n",
              "    <div>\n",
              "<style scoped>\n",
              "    .dataframe tbody tr th:only-of-type {\n",
              "        vertical-align: middle;\n",
              "    }\n",
              "\n",
              "    .dataframe tbody tr th {\n",
              "        vertical-align: top;\n",
              "    }\n",
              "\n",
              "    .dataframe thead th {\n",
              "        text-align: right;\n",
              "    }\n",
              "</style>\n",
              "<table border=\"1\" class=\"dataframe\">\n",
              "  <thead>\n",
              "    <tr style=\"text-align: right;\">\n",
              "      <th></th>\n",
              "      <th>Pregnancies</th>\n",
              "      <th>Glucose</th>\n",
              "      <th>BloodPressure</th>\n",
              "      <th>SkinThickness</th>\n",
              "      <th>Insulin</th>\n",
              "      <th>BMI</th>\n",
              "      <th>DiabetesPedigreeFunction</th>\n",
              "      <th>Age</th>\n",
              "      <th>Outcome</th>\n",
              "    </tr>\n",
              "  </thead>\n",
              "  <tbody>\n",
              "    <tr>\n",
              "      <th>count</th>\n",
              "      <td>768.000000</td>\n",
              "      <td>768.000000</td>\n",
              "      <td>768.000000</td>\n",
              "      <td>768.000000</td>\n",
              "      <td>768.000000</td>\n",
              "      <td>768.000000</td>\n",
              "      <td>768.000000</td>\n",
              "      <td>768.000000</td>\n",
              "      <td>768.000000</td>\n",
              "    </tr>\n",
              "    <tr>\n",
              "      <th>mean</th>\n",
              "      <td>3.845052</td>\n",
              "      <td>120.894531</td>\n",
              "      <td>69.105469</td>\n",
              "      <td>20.536458</td>\n",
              "      <td>79.799479</td>\n",
              "      <td>31.992578</td>\n",
              "      <td>0.471876</td>\n",
              "      <td>33.240885</td>\n",
              "      <td>0.348958</td>\n",
              "    </tr>\n",
              "    <tr>\n",
              "      <th>std</th>\n",
              "      <td>3.369578</td>\n",
              "      <td>31.972618</td>\n",
              "      <td>19.355807</td>\n",
              "      <td>15.952218</td>\n",
              "      <td>115.244002</td>\n",
              "      <td>7.884160</td>\n",
              "      <td>0.331329</td>\n",
              "      <td>11.760232</td>\n",
              "      <td>0.476951</td>\n",
              "    </tr>\n",
              "    <tr>\n",
              "      <th>min</th>\n",
              "      <td>0.000000</td>\n",
              "      <td>0.000000</td>\n",
              "      <td>0.000000</td>\n",
              "      <td>0.000000</td>\n",
              "      <td>0.000000</td>\n",
              "      <td>0.000000</td>\n",
              "      <td>0.078000</td>\n",
              "      <td>21.000000</td>\n",
              "      <td>0.000000</td>\n",
              "    </tr>\n",
              "    <tr>\n",
              "      <th>25%</th>\n",
              "      <td>1.000000</td>\n",
              "      <td>99.000000</td>\n",
              "      <td>62.000000</td>\n",
              "      <td>0.000000</td>\n",
              "      <td>0.000000</td>\n",
              "      <td>27.300000</td>\n",
              "      <td>0.243750</td>\n",
              "      <td>24.000000</td>\n",
              "      <td>0.000000</td>\n",
              "    </tr>\n",
              "    <tr>\n",
              "      <th>50%</th>\n",
              "      <td>3.000000</td>\n",
              "      <td>117.000000</td>\n",
              "      <td>72.000000</td>\n",
              "      <td>23.000000</td>\n",
              "      <td>30.500000</td>\n",
              "      <td>32.000000</td>\n",
              "      <td>0.372500</td>\n",
              "      <td>29.000000</td>\n",
              "      <td>0.000000</td>\n",
              "    </tr>\n",
              "    <tr>\n",
              "      <th>75%</th>\n",
              "      <td>6.000000</td>\n",
              "      <td>140.250000</td>\n",
              "      <td>80.000000</td>\n",
              "      <td>32.000000</td>\n",
              "      <td>127.250000</td>\n",
              "      <td>36.600000</td>\n",
              "      <td>0.626250</td>\n",
              "      <td>41.000000</td>\n",
              "      <td>1.000000</td>\n",
              "    </tr>\n",
              "    <tr>\n",
              "      <th>max</th>\n",
              "      <td>17.000000</td>\n",
              "      <td>199.000000</td>\n",
              "      <td>122.000000</td>\n",
              "      <td>99.000000</td>\n",
              "      <td>846.000000</td>\n",
              "      <td>67.100000</td>\n",
              "      <td>2.420000</td>\n",
              "      <td>81.000000</td>\n",
              "      <td>1.000000</td>\n",
              "    </tr>\n",
              "  </tbody>\n",
              "</table>\n",
              "</div>\n",
              "    <div class=\"colab-df-buttons\">\n",
              "\n",
              "  <div class=\"colab-df-container\">\n",
              "    <button class=\"colab-df-convert\" onclick=\"convertToInteractive('df-2dfc6c61-8f94-4b06-b1bf-1275ab598d19')\"\n",
              "            title=\"Convert this dataframe to an interactive table.\"\n",
              "            style=\"display:none;\">\n",
              "\n",
              "  <svg xmlns=\"http://www.w3.org/2000/svg\" height=\"24px\" viewBox=\"0 -960 960 960\">\n",
              "    <path d=\"M120-120v-720h720v720H120Zm60-500h600v-160H180v160Zm220 220h160v-160H400v160Zm0 220h160v-160H400v160ZM180-400h160v-160H180v160Zm440 0h160v-160H620v160ZM180-180h160v-160H180v160Zm440 0h160v-160H620v160Z\"/>\n",
              "  </svg>\n",
              "    </button>\n",
              "\n",
              "  <style>\n",
              "    .colab-df-container {\n",
              "      display:flex;\n",
              "      gap: 12px;\n",
              "    }\n",
              "\n",
              "    .colab-df-convert {\n",
              "      background-color: #E8F0FE;\n",
              "      border: none;\n",
              "      border-radius: 50%;\n",
              "      cursor: pointer;\n",
              "      display: none;\n",
              "      fill: #1967D2;\n",
              "      height: 32px;\n",
              "      padding: 0 0 0 0;\n",
              "      width: 32px;\n",
              "    }\n",
              "\n",
              "    .colab-df-convert:hover {\n",
              "      background-color: #E2EBFA;\n",
              "      box-shadow: 0px 1px 2px rgba(60, 64, 67, 0.3), 0px 1px 3px 1px rgba(60, 64, 67, 0.15);\n",
              "      fill: #174EA6;\n",
              "    }\n",
              "\n",
              "    .colab-df-buttons div {\n",
              "      margin-bottom: 4px;\n",
              "    }\n",
              "\n",
              "    [theme=dark] .colab-df-convert {\n",
              "      background-color: #3B4455;\n",
              "      fill: #D2E3FC;\n",
              "    }\n",
              "\n",
              "    [theme=dark] .colab-df-convert:hover {\n",
              "      background-color: #434B5C;\n",
              "      box-shadow: 0px 1px 3px 1px rgba(0, 0, 0, 0.15);\n",
              "      filter: drop-shadow(0px 1px 2px rgba(0, 0, 0, 0.3));\n",
              "      fill: #FFFFFF;\n",
              "    }\n",
              "  </style>\n",
              "\n",
              "    <script>\n",
              "      const buttonEl =\n",
              "        document.querySelector('#df-2dfc6c61-8f94-4b06-b1bf-1275ab598d19 button.colab-df-convert');\n",
              "      buttonEl.style.display =\n",
              "        google.colab.kernel.accessAllowed ? 'block' : 'none';\n",
              "\n",
              "      async function convertToInteractive(key) {\n",
              "        const element = document.querySelector('#df-2dfc6c61-8f94-4b06-b1bf-1275ab598d19');\n",
              "        const dataTable =\n",
              "          await google.colab.kernel.invokeFunction('convertToInteractive',\n",
              "                                                    [key], {});\n",
              "        if (!dataTable) return;\n",
              "\n",
              "        const docLinkHtml = 'Like what you see? Visit the ' +\n",
              "          '<a target=\"_blank\" href=https://colab.research.google.com/notebooks/data_table.ipynb>data table notebook</a>'\n",
              "          + ' to learn more about interactive tables.';\n",
              "        element.innerHTML = '';\n",
              "        dataTable['output_type'] = 'display_data';\n",
              "        await google.colab.output.renderOutput(dataTable, element);\n",
              "        const docLink = document.createElement('div');\n",
              "        docLink.innerHTML = docLinkHtml;\n",
              "        element.appendChild(docLink);\n",
              "      }\n",
              "    </script>\n",
              "  </div>\n",
              "\n",
              "\n",
              "<div id=\"df-ce7b498e-0fb2-4807-ad04-e7a1f479fa89\">\n",
              "  <button class=\"colab-df-quickchart\" onclick=\"quickchart('df-ce7b498e-0fb2-4807-ad04-e7a1f479fa89')\"\n",
              "            title=\"Suggest charts.\"\n",
              "            style=\"display:none;\">\n",
              "\n",
              "<svg xmlns=\"http://www.w3.org/2000/svg\" height=\"24px\"viewBox=\"0 0 24 24\"\n",
              "     width=\"24px\">\n",
              "    <g>\n",
              "        <path d=\"M19 3H5c-1.1 0-2 .9-2 2v14c0 1.1.9 2 2 2h14c1.1 0 2-.9 2-2V5c0-1.1-.9-2-2-2zM9 17H7v-7h2v7zm4 0h-2V7h2v10zm4 0h-2v-4h2v4z\"/>\n",
              "    </g>\n",
              "</svg>\n",
              "  </button>\n",
              "\n",
              "<style>\n",
              "  .colab-df-quickchart {\n",
              "      --bg-color: #E8F0FE;\n",
              "      --fill-color: #1967D2;\n",
              "      --hover-bg-color: #E2EBFA;\n",
              "      --hover-fill-color: #174EA6;\n",
              "      --disabled-fill-color: #AAA;\n",
              "      --disabled-bg-color: #DDD;\n",
              "  }\n",
              "\n",
              "  [theme=dark] .colab-df-quickchart {\n",
              "      --bg-color: #3B4455;\n",
              "      --fill-color: #D2E3FC;\n",
              "      --hover-bg-color: #434B5C;\n",
              "      --hover-fill-color: #FFFFFF;\n",
              "      --disabled-bg-color: #3B4455;\n",
              "      --disabled-fill-color: #666;\n",
              "  }\n",
              "\n",
              "  .colab-df-quickchart {\n",
              "    background-color: var(--bg-color);\n",
              "    border: none;\n",
              "    border-radius: 50%;\n",
              "    cursor: pointer;\n",
              "    display: none;\n",
              "    fill: var(--fill-color);\n",
              "    height: 32px;\n",
              "    padding: 0;\n",
              "    width: 32px;\n",
              "  }\n",
              "\n",
              "  .colab-df-quickchart:hover {\n",
              "    background-color: var(--hover-bg-color);\n",
              "    box-shadow: 0 1px 2px rgba(60, 64, 67, 0.3), 0 1px 3px 1px rgba(60, 64, 67, 0.15);\n",
              "    fill: var(--button-hover-fill-color);\n",
              "  }\n",
              "\n",
              "  .colab-df-quickchart-complete:disabled,\n",
              "  .colab-df-quickchart-complete:disabled:hover {\n",
              "    background-color: var(--disabled-bg-color);\n",
              "    fill: var(--disabled-fill-color);\n",
              "    box-shadow: none;\n",
              "  }\n",
              "\n",
              "  .colab-df-spinner {\n",
              "    border: 2px solid var(--fill-color);\n",
              "    border-color: transparent;\n",
              "    border-bottom-color: var(--fill-color);\n",
              "    animation:\n",
              "      spin 1s steps(1) infinite;\n",
              "  }\n",
              "\n",
              "  @keyframes spin {\n",
              "    0% {\n",
              "      border-color: transparent;\n",
              "      border-bottom-color: var(--fill-color);\n",
              "      border-left-color: var(--fill-color);\n",
              "    }\n",
              "    20% {\n",
              "      border-color: transparent;\n",
              "      border-left-color: var(--fill-color);\n",
              "      border-top-color: var(--fill-color);\n",
              "    }\n",
              "    30% {\n",
              "      border-color: transparent;\n",
              "      border-left-color: var(--fill-color);\n",
              "      border-top-color: var(--fill-color);\n",
              "      border-right-color: var(--fill-color);\n",
              "    }\n",
              "    40% {\n",
              "      border-color: transparent;\n",
              "      border-right-color: var(--fill-color);\n",
              "      border-top-color: var(--fill-color);\n",
              "    }\n",
              "    60% {\n",
              "      border-color: transparent;\n",
              "      border-right-color: var(--fill-color);\n",
              "    }\n",
              "    80% {\n",
              "      border-color: transparent;\n",
              "      border-right-color: var(--fill-color);\n",
              "      border-bottom-color: var(--fill-color);\n",
              "    }\n",
              "    90% {\n",
              "      border-color: transparent;\n",
              "      border-bottom-color: var(--fill-color);\n",
              "    }\n",
              "  }\n",
              "</style>\n",
              "\n",
              "  <script>\n",
              "    async function quickchart(key) {\n",
              "      const quickchartButtonEl =\n",
              "        document.querySelector('#' + key + ' button');\n",
              "      quickchartButtonEl.disabled = true;  // To prevent multiple clicks.\n",
              "      quickchartButtonEl.classList.add('colab-df-spinner');\n",
              "      try {\n",
              "        const charts = await google.colab.kernel.invokeFunction(\n",
              "            'suggestCharts', [key], {});\n",
              "      } catch (error) {\n",
              "        console.error('Error during call to suggestCharts:', error);\n",
              "      }\n",
              "      quickchartButtonEl.classList.remove('colab-df-spinner');\n",
              "      quickchartButtonEl.classList.add('colab-df-quickchart-complete');\n",
              "    }\n",
              "    (() => {\n",
              "      let quickchartButtonEl =\n",
              "        document.querySelector('#df-ce7b498e-0fb2-4807-ad04-e7a1f479fa89 button');\n",
              "      quickchartButtonEl.style.display =\n",
              "        google.colab.kernel.accessAllowed ? 'block' : 'none';\n",
              "    })();\n",
              "  </script>\n",
              "</div>\n",
              "    </div>\n",
              "  </div>\n"
            ]
          },
          "metadata": {},
          "execution_count": 9
        }
      ],
      "source": [
        "df2.describe()"
      ]
    },
    {
      "cell_type": "code",
      "execution_count": null,
      "metadata": {
        "colab": {
          "base_uri": "https://localhost:8080/"
        },
        "id": "AfPnoIrkMt7l",
        "outputId": "77d53309-2892-4117-803b-3682c8eed53f"
      },
      "outputs": [
        {
          "output_type": "execute_result",
          "data": {
            "text/plain": [
              "0    500\n",
              "1    268\n",
              "Name: Outcome, dtype: int64"
            ]
          },
          "metadata": {},
          "execution_count": 10
        }
      ],
      "source": [
        "df2['Outcome'].value_counts()"
      ]
    },
    {
      "cell_type": "markdown",
      "metadata": {
        "id": "d0NiHDVaM7Xt"
      },
      "source": [
        "0:non diabetic , 1 diabetic"
      ]
    },
    {
      "cell_type": "code",
      "execution_count": null,
      "metadata": {
        "colab": {
          "base_uri": "https://localhost:8080/",
          "height": 143
        },
        "id": "6c3OLtToM-jE",
        "outputId": "54d57c4d-386e-4a30-ec8b-0c9a6b877e7a"
      },
      "outputs": [
        {
          "output_type": "execute_result",
          "data": {
            "text/plain": [
              "         Pregnancies     Glucose  BloodPressure  SkinThickness     Insulin  \\\n",
              "Outcome                                                                      \n",
              "0           3.298000  109.980000      68.184000      19.664000   68.792000   \n",
              "1           4.865672  141.257463      70.824627      22.164179  100.335821   \n",
              "\n",
              "               BMI  DiabetesPedigreeFunction        Age  \n",
              "Outcome                                                  \n",
              "0        30.304200                  0.429734  31.190000  \n",
              "1        35.142537                  0.550500  37.067164  "
            ],
            "text/html": [
              "\n",
              "  <div id=\"df-7ca91ac4-d44d-48b1-8cf9-83ab3e4fc3ee\" class=\"colab-df-container\">\n",
              "    <div>\n",
              "<style scoped>\n",
              "    .dataframe tbody tr th:only-of-type {\n",
              "        vertical-align: middle;\n",
              "    }\n",
              "\n",
              "    .dataframe tbody tr th {\n",
              "        vertical-align: top;\n",
              "    }\n",
              "\n",
              "    .dataframe thead th {\n",
              "        text-align: right;\n",
              "    }\n",
              "</style>\n",
              "<table border=\"1\" class=\"dataframe\">\n",
              "  <thead>\n",
              "    <tr style=\"text-align: right;\">\n",
              "      <th></th>\n",
              "      <th>Pregnancies</th>\n",
              "      <th>Glucose</th>\n",
              "      <th>BloodPressure</th>\n",
              "      <th>SkinThickness</th>\n",
              "      <th>Insulin</th>\n",
              "      <th>BMI</th>\n",
              "      <th>DiabetesPedigreeFunction</th>\n",
              "      <th>Age</th>\n",
              "    </tr>\n",
              "    <tr>\n",
              "      <th>Outcome</th>\n",
              "      <th></th>\n",
              "      <th></th>\n",
              "      <th></th>\n",
              "      <th></th>\n",
              "      <th></th>\n",
              "      <th></th>\n",
              "      <th></th>\n",
              "      <th></th>\n",
              "    </tr>\n",
              "  </thead>\n",
              "  <tbody>\n",
              "    <tr>\n",
              "      <th>0</th>\n",
              "      <td>3.298000</td>\n",
              "      <td>109.980000</td>\n",
              "      <td>68.184000</td>\n",
              "      <td>19.664000</td>\n",
              "      <td>68.792000</td>\n",
              "      <td>30.304200</td>\n",
              "      <td>0.429734</td>\n",
              "      <td>31.190000</td>\n",
              "    </tr>\n",
              "    <tr>\n",
              "      <th>1</th>\n",
              "      <td>4.865672</td>\n",
              "      <td>141.257463</td>\n",
              "      <td>70.824627</td>\n",
              "      <td>22.164179</td>\n",
              "      <td>100.335821</td>\n",
              "      <td>35.142537</td>\n",
              "      <td>0.550500</td>\n",
              "      <td>37.067164</td>\n",
              "    </tr>\n",
              "  </tbody>\n",
              "</table>\n",
              "</div>\n",
              "    <div class=\"colab-df-buttons\">\n",
              "\n",
              "  <div class=\"colab-df-container\">\n",
              "    <button class=\"colab-df-convert\" onclick=\"convertToInteractive('df-7ca91ac4-d44d-48b1-8cf9-83ab3e4fc3ee')\"\n",
              "            title=\"Convert this dataframe to an interactive table.\"\n",
              "            style=\"display:none;\">\n",
              "\n",
              "  <svg xmlns=\"http://www.w3.org/2000/svg\" height=\"24px\" viewBox=\"0 -960 960 960\">\n",
              "    <path d=\"M120-120v-720h720v720H120Zm60-500h600v-160H180v160Zm220 220h160v-160H400v160Zm0 220h160v-160H400v160ZM180-400h160v-160H180v160Zm440 0h160v-160H620v160ZM180-180h160v-160H180v160Zm440 0h160v-160H620v160Z\"/>\n",
              "  </svg>\n",
              "    </button>\n",
              "\n",
              "  <style>\n",
              "    .colab-df-container {\n",
              "      display:flex;\n",
              "      gap: 12px;\n",
              "    }\n",
              "\n",
              "    .colab-df-convert {\n",
              "      background-color: #E8F0FE;\n",
              "      border: none;\n",
              "      border-radius: 50%;\n",
              "      cursor: pointer;\n",
              "      display: none;\n",
              "      fill: #1967D2;\n",
              "      height: 32px;\n",
              "      padding: 0 0 0 0;\n",
              "      width: 32px;\n",
              "    }\n",
              "\n",
              "    .colab-df-convert:hover {\n",
              "      background-color: #E2EBFA;\n",
              "      box-shadow: 0px 1px 2px rgba(60, 64, 67, 0.3), 0px 1px 3px 1px rgba(60, 64, 67, 0.15);\n",
              "      fill: #174EA6;\n",
              "    }\n",
              "\n",
              "    .colab-df-buttons div {\n",
              "      margin-bottom: 4px;\n",
              "    }\n",
              "\n",
              "    [theme=dark] .colab-df-convert {\n",
              "      background-color: #3B4455;\n",
              "      fill: #D2E3FC;\n",
              "    }\n",
              "\n",
              "    [theme=dark] .colab-df-convert:hover {\n",
              "      background-color: #434B5C;\n",
              "      box-shadow: 0px 1px 3px 1px rgba(0, 0, 0, 0.15);\n",
              "      filter: drop-shadow(0px 1px 2px rgba(0, 0, 0, 0.3));\n",
              "      fill: #FFFFFF;\n",
              "    }\n",
              "  </style>\n",
              "\n",
              "    <script>\n",
              "      const buttonEl =\n",
              "        document.querySelector('#df-7ca91ac4-d44d-48b1-8cf9-83ab3e4fc3ee button.colab-df-convert');\n",
              "      buttonEl.style.display =\n",
              "        google.colab.kernel.accessAllowed ? 'block' : 'none';\n",
              "\n",
              "      async function convertToInteractive(key) {\n",
              "        const element = document.querySelector('#df-7ca91ac4-d44d-48b1-8cf9-83ab3e4fc3ee');\n",
              "        const dataTable =\n",
              "          await google.colab.kernel.invokeFunction('convertToInteractive',\n",
              "                                                    [key], {});\n",
              "        if (!dataTable) return;\n",
              "\n",
              "        const docLinkHtml = 'Like what you see? Visit the ' +\n",
              "          '<a target=\"_blank\" href=https://colab.research.google.com/notebooks/data_table.ipynb>data table notebook</a>'\n",
              "          + ' to learn more about interactive tables.';\n",
              "        element.innerHTML = '';\n",
              "        dataTable['output_type'] = 'display_data';\n",
              "        await google.colab.output.renderOutput(dataTable, element);\n",
              "        const docLink = document.createElement('div');\n",
              "        docLink.innerHTML = docLinkHtml;\n",
              "        element.appendChild(docLink);\n",
              "      }\n",
              "    </script>\n",
              "  </div>\n",
              "\n",
              "\n",
              "<div id=\"df-9de36f6b-d244-4500-b1d8-055869fa239c\">\n",
              "  <button class=\"colab-df-quickchart\" onclick=\"quickchart('df-9de36f6b-d244-4500-b1d8-055869fa239c')\"\n",
              "            title=\"Suggest charts.\"\n",
              "            style=\"display:none;\">\n",
              "\n",
              "<svg xmlns=\"http://www.w3.org/2000/svg\" height=\"24px\"viewBox=\"0 0 24 24\"\n",
              "     width=\"24px\">\n",
              "    <g>\n",
              "        <path d=\"M19 3H5c-1.1 0-2 .9-2 2v14c0 1.1.9 2 2 2h14c1.1 0 2-.9 2-2V5c0-1.1-.9-2-2-2zM9 17H7v-7h2v7zm4 0h-2V7h2v10zm4 0h-2v-4h2v4z\"/>\n",
              "    </g>\n",
              "</svg>\n",
              "  </button>\n",
              "\n",
              "<style>\n",
              "  .colab-df-quickchart {\n",
              "      --bg-color: #E8F0FE;\n",
              "      --fill-color: #1967D2;\n",
              "      --hover-bg-color: #E2EBFA;\n",
              "      --hover-fill-color: #174EA6;\n",
              "      --disabled-fill-color: #AAA;\n",
              "      --disabled-bg-color: #DDD;\n",
              "  }\n",
              "\n",
              "  [theme=dark] .colab-df-quickchart {\n",
              "      --bg-color: #3B4455;\n",
              "      --fill-color: #D2E3FC;\n",
              "      --hover-bg-color: #434B5C;\n",
              "      --hover-fill-color: #FFFFFF;\n",
              "      --disabled-bg-color: #3B4455;\n",
              "      --disabled-fill-color: #666;\n",
              "  }\n",
              "\n",
              "  .colab-df-quickchart {\n",
              "    background-color: var(--bg-color);\n",
              "    border: none;\n",
              "    border-radius: 50%;\n",
              "    cursor: pointer;\n",
              "    display: none;\n",
              "    fill: var(--fill-color);\n",
              "    height: 32px;\n",
              "    padding: 0;\n",
              "    width: 32px;\n",
              "  }\n",
              "\n",
              "  .colab-df-quickchart:hover {\n",
              "    background-color: var(--hover-bg-color);\n",
              "    box-shadow: 0 1px 2px rgba(60, 64, 67, 0.3), 0 1px 3px 1px rgba(60, 64, 67, 0.15);\n",
              "    fill: var(--button-hover-fill-color);\n",
              "  }\n",
              "\n",
              "  .colab-df-quickchart-complete:disabled,\n",
              "  .colab-df-quickchart-complete:disabled:hover {\n",
              "    background-color: var(--disabled-bg-color);\n",
              "    fill: var(--disabled-fill-color);\n",
              "    box-shadow: none;\n",
              "  }\n",
              "\n",
              "  .colab-df-spinner {\n",
              "    border: 2px solid var(--fill-color);\n",
              "    border-color: transparent;\n",
              "    border-bottom-color: var(--fill-color);\n",
              "    animation:\n",
              "      spin 1s steps(1) infinite;\n",
              "  }\n",
              "\n",
              "  @keyframes spin {\n",
              "    0% {\n",
              "      border-color: transparent;\n",
              "      border-bottom-color: var(--fill-color);\n",
              "      border-left-color: var(--fill-color);\n",
              "    }\n",
              "    20% {\n",
              "      border-color: transparent;\n",
              "      border-left-color: var(--fill-color);\n",
              "      border-top-color: var(--fill-color);\n",
              "    }\n",
              "    30% {\n",
              "      border-color: transparent;\n",
              "      border-left-color: var(--fill-color);\n",
              "      border-top-color: var(--fill-color);\n",
              "      border-right-color: var(--fill-color);\n",
              "    }\n",
              "    40% {\n",
              "      border-color: transparent;\n",
              "      border-right-color: var(--fill-color);\n",
              "      border-top-color: var(--fill-color);\n",
              "    }\n",
              "    60% {\n",
              "      border-color: transparent;\n",
              "      border-right-color: var(--fill-color);\n",
              "    }\n",
              "    80% {\n",
              "      border-color: transparent;\n",
              "      border-right-color: var(--fill-color);\n",
              "      border-bottom-color: var(--fill-color);\n",
              "    }\n",
              "    90% {\n",
              "      border-color: transparent;\n",
              "      border-bottom-color: var(--fill-color);\n",
              "    }\n",
              "  }\n",
              "</style>\n",
              "\n",
              "  <script>\n",
              "    async function quickchart(key) {\n",
              "      const quickchartButtonEl =\n",
              "        document.querySelector('#' + key + ' button');\n",
              "      quickchartButtonEl.disabled = true;  // To prevent multiple clicks.\n",
              "      quickchartButtonEl.classList.add('colab-df-spinner');\n",
              "      try {\n",
              "        const charts = await google.colab.kernel.invokeFunction(\n",
              "            'suggestCharts', [key], {});\n",
              "      } catch (error) {\n",
              "        console.error('Error during call to suggestCharts:', error);\n",
              "      }\n",
              "      quickchartButtonEl.classList.remove('colab-df-spinner');\n",
              "      quickchartButtonEl.classList.add('colab-df-quickchart-complete');\n",
              "    }\n",
              "    (() => {\n",
              "      let quickchartButtonEl =\n",
              "        document.querySelector('#df-9de36f6b-d244-4500-b1d8-055869fa239c button');\n",
              "      quickchartButtonEl.style.display =\n",
              "        google.colab.kernel.accessAllowed ? 'block' : 'none';\n",
              "    })();\n",
              "  </script>\n",
              "</div>\n",
              "    </div>\n",
              "  </div>\n"
            ]
          },
          "metadata": {},
          "execution_count": 11
        }
      ],
      "source": [
        "df2.groupby('Outcome').mean()"
      ]
    },
    {
      "cell_type": "code",
      "execution_count": null,
      "metadata": {
        "id": "8SNpx5GGNKqO"
      },
      "outputs": [],
      "source": [
        "features=df2.drop(columns='Outcome',axis=1)\n",
        "target=df2['Outcome']"
      ]
    },
    {
      "cell_type": "code",
      "execution_count": null,
      "metadata": {
        "id": "TGPv0OAkNYT8"
      },
      "outputs": [],
      "source": [
        "#data standardization\n",
        "scaler=StandardScaler()\n",
        "scaler.fit(features)\n",
        "standardized_data=scaler.transform(features)"
      ]
    },
    {
      "cell_type": "code",
      "execution_count": null,
      "metadata": {
        "colab": {
          "base_uri": "https://localhost:8080/"
        },
        "id": "bN0_6IJlOF9H",
        "outputId": "62614249-f2c3-44a6-e94f-8ca9485fe7cd"
      },
      "outputs": [
        {
          "output_type": "stream",
          "name": "stdout",
          "text": [
            "[[ 0.63994726  0.84832379  0.14964075 ...  0.20401277  0.46849198\n",
            "   1.4259954 ]\n",
            " [-0.84488505 -1.12339636 -0.16054575 ... -0.68442195 -0.36506078\n",
            "  -0.19067191]\n",
            " [ 1.23388019  1.94372388 -0.26394125 ... -1.10325546  0.60439732\n",
            "  -0.10558415]\n",
            " ...\n",
            " [ 0.3429808   0.00330087  0.14964075 ... -0.73518964 -0.68519336\n",
            "  -0.27575966]\n",
            " [-0.84488505  0.1597866  -0.47073225 ... -0.24020459 -0.37110101\n",
            "   1.17073215]\n",
            " [-0.84488505 -0.8730192   0.04624525 ... -0.20212881 -0.47378505\n",
            "  -0.87137393]]\n"
          ]
        }
      ],
      "source": [
        "print(standardized_data)"
      ]
    },
    {
      "cell_type": "code",
      "execution_count": null,
      "metadata": {
        "id": "_Sa9_ox1ONm3"
      },
      "outputs": [],
      "source": [
        "X_train, X_test, Y_train, Y_test = train_test_split(features,target, test_size = 0.2, random_state=2)"
      ]
    },
    {
      "cell_type": "code",
      "source": [
        "classifier = logistic_regression(learning_rate=0.01, no_of_iterations=1000)"
      ],
      "metadata": {
        "id": "DC3bm_3ZRQaS"
      },
      "execution_count": null,
      "outputs": []
    },
    {
      "cell_type": "code",
      "source": [
        "classifier.fit(X_train, Y_train)"
      ],
      "metadata": {
        "id": "ybIljxGpRWKq"
      },
      "execution_count": null,
      "outputs": []
    },
    {
      "cell_type": "code",
      "source": [
        "# accuracy score on the training data\n",
        "X_train_prediction = classifier.predict(X_train)\n",
        "training_data_accuracy = accuracy_score( Y_train, X_train_prediction)"
      ],
      "metadata": {
        "id": "Ij7GVQTiRYfe"
      },
      "execution_count": null,
      "outputs": []
    },
    {
      "cell_type": "code",
      "source": [
        "print('Accuracy score of the training data : ', training_data_accuracy)"
      ],
      "metadata": {
        "colab": {
          "base_uri": "https://localhost:8080/"
        },
        "id": "-YhxgMyIRdSZ",
        "outputId": "5012b301-28ea-4a94-ca5c-30ba2c212cb5"
      },
      "execution_count": null,
      "outputs": [
        {
          "output_type": "stream",
          "name": "stdout",
          "text": [
            "Accuracy score of the training data :  0.7768729641693811\n"
          ]
        }
      ]
    },
    {
      "cell_type": "code",
      "source": [
        "# accuracy score on the test data\n",
        "X_test_prediction = classifier.predict(X_test)\n",
        "test_data_accuracy = accuracy_score( Y_test, X_test_prediction)"
      ],
      "metadata": {
        "id": "ZBaO5oSQReZn"
      },
      "execution_count": null,
      "outputs": []
    },
    {
      "cell_type": "code",
      "source": [
        "print('Accuracy score of the test data : ', test_data_accuracy)"
      ],
      "metadata": {
        "colab": {
          "base_uri": "https://localhost:8080/"
        },
        "id": "N_orAILdRhVF",
        "outputId": "93f2b30c-6530-4ee9-9828-d4c7ffd29b09"
      },
      "execution_count": null,
      "outputs": [
        {
          "output_type": "stream",
          "name": "stdout",
          "text": [
            "Accuracy score of the test data :  0.7662337662337663\n"
          ]
        }
      ]
    },
    {
      "cell_type": "code",
      "source": [
        "input_data = (5,166,72,19,175,25.8,0.587,51)\n",
        "\n",
        "# changing the input_data to numpy array\n",
        "input_data_as_numpy_array = np.asarray(input_data)\n",
        "\n",
        "# reshape the array as we are predicting for one instance\n",
        "input_data_reshaped = input_data_as_numpy_array.reshape(1,-1)\n",
        "\n",
        "# standardize the input data\n",
        "std_data = scaler.transform(input_data_reshaped)\n",
        "print(std_data)\n",
        "\n",
        "prediction = classifier.predict(std_data)\n",
        "print(prediction)\n",
        "\n",
        "if (prediction[0] == 0):\n",
        "  print('The person is not diabetic')\n",
        "else:\n",
        "  print('The person is diabetic')"
      ],
      "metadata": {
        "colab": {
          "base_uri": "https://localhost:8080/"
        },
        "id": "J748Tfk_Rjtz",
        "outputId": "1c315e98-66ad-4627-df4f-08a174e8c9e1"
      },
      "execution_count": null,
      "outputs": [
        {
          "output_type": "stream",
          "name": "stdout",
          "text": [
            "[[ 0.3429808   1.41167241  0.14964075 -0.09637905  0.82661621 -0.78595734\n",
            "   0.34768723  1.51108316]]\n",
            "[1]\n",
            "The person is diabetic\n"
          ]
        },
        {
          "output_type": "stream",
          "name": "stderr",
          "text": [
            "/usr/local/lib/python3.10/dist-packages/sklearn/base.py:439: UserWarning: X does not have valid feature names, but StandardScaler was fitted with feature names\n",
            "  warnings.warn(\n"
          ]
        }
      ]
    },
    {
      "cell_type": "markdown",
      "source": [
        "Support Vector Machine"
      ],
      "metadata": {
        "id": "poB6ksEAuCW0"
      }
    },
    {
      "cell_type": "markdown",
      "source": [
        "**Equation of the Hyperplane:**\n",
        "\n",
        "y = wx - b"
      ],
      "metadata": {
        "id": "L67rollyuGbC"
      }
    },
    {
      "cell_type": "markdown",
      "source": [
        "**Gradient Descent:**\n",
        "\n",
        "Gradient Descent is an optimization algorithm used for minimizing the loss function in various machine learning algorithms. It is used for updating the parameters of the learning model.\n",
        "\n",
        "w = w - α*dw\n",
        "\n",
        "b = b - α*db"
      ],
      "metadata": {
        "id": "u-Nri9cauJzy"
      }
    },
    {
      "cell_type": "markdown",
      "source": [
        "**Learning Rate:**\n",
        "\n",
        "Learning rate is a tuning parameter in an optimization algorithm that determines the step size at each iteration while moving toward a minimum of a loss function"
      ],
      "metadata": {
        "id": "1rfWfK3RuMwl"
      }
    },
    {
      "cell_type": "code",
      "source": [
        "class SVM_classifier():\n",
        "  def __init__(self, learning_rate, no_of_iterations, lambda_parameter):\n",
        "\n",
        "    self.learning_rate = learning_rate\n",
        "    self.no_of_iterations = no_of_iterations\n",
        "    self.lambda_parameter = lambda_parameter\n",
        "\n",
        "  def fit(self,x,y):\n",
        "    self.m,self.n=x.shape\n",
        "    self.w=np.zeros(self.n)\n",
        "    self.b=0\n",
        "    self.x=x\n",
        "    self.y=y\n",
        "\n",
        "    for i in range(self.no_of_iterations):\n",
        "      self.update_weights()\n",
        "\n",
        "  def update_weights(self):\n",
        "    y_label = np.where(self.y <= 0, -1, 1)\n",
        "\n",
        "    for index,x_i in enumerate(self.x):\n",
        "      condition=y_label[index]*(np.dot(x_i, self.w)-self.b)>=1\n",
        "      if(condition==True):\n",
        "        dw=2*self.lambda_parameter*self.w\n",
        "        db=0\n",
        "      else:\n",
        "        dw=2*self.lambda_parameter*self.w-np.dot(x_i, y_label[index])\n",
        "        db=y_label[index]\n",
        "\n",
        "    self.w=self.w-self.learning_rate*dw\n",
        "    self.b=self.b-self.learning_rate*db\n",
        "\n",
        "  def predict(self,x):\n",
        "    output=np.dot(x,self.w)-self.b\n",
        "    predicted_labels=np.sign(output)\n",
        "    y_hat = np.where(predicted_labels <= -1, 0, 1)\n",
        "    return y_hat\n",
        "\n",
        "\n",
        "\n"
      ],
      "metadata": {
        "id": "8-xyrDl2ug16"
      },
      "execution_count": null,
      "outputs": []
    },
    {
      "cell_type": "code",
      "source": [
        "from sklearn.preprocessing import StandardScaler\n",
        "from sklearn.model_selection import train_test_split\n",
        "from sklearn.metrics import accuracy_score"
      ],
      "metadata": {
        "id": "kU6IldR10JOR"
      },
      "execution_count": null,
      "outputs": []
    },
    {
      "cell_type": "code",
      "source": [
        "features = df2.drop(columns='Outcome', axis=1)\n",
        "\n",
        "target = df2['Outcome']\n"
      ],
      "metadata": {
        "id": "cY5j-C0hqzrm"
      },
      "execution_count": null,
      "outputs": []
    },
    {
      "cell_type": "code",
      "source": [
        "scaler = StandardScaler()\n",
        "scaler.fit(features)\n",
        "\n"
      ],
      "metadata": {
        "colab": {
          "base_uri": "https://localhost:8080/",
          "height": 74
        },
        "id": "hpvdCrnzqPyY",
        "outputId": "569fb03a-d04f-47b2-c1e9-0b06901d5aae"
      },
      "execution_count": null,
      "outputs": [
        {
          "output_type": "execute_result",
          "data": {
            "text/plain": [
              "StandardScaler()"
            ],
            "text/html": [
              "<style>#sk-container-id-1 {color: black;background-color: white;}#sk-container-id-1 pre{padding: 0;}#sk-container-id-1 div.sk-toggleable {background-color: white;}#sk-container-id-1 label.sk-toggleable__label {cursor: pointer;display: block;width: 100%;margin-bottom: 0;padding: 0.3em;box-sizing: border-box;text-align: center;}#sk-container-id-1 label.sk-toggleable__label-arrow:before {content: \"▸\";float: left;margin-right: 0.25em;color: #696969;}#sk-container-id-1 label.sk-toggleable__label-arrow:hover:before {color: black;}#sk-container-id-1 div.sk-estimator:hover label.sk-toggleable__label-arrow:before {color: black;}#sk-container-id-1 div.sk-toggleable__content {max-height: 0;max-width: 0;overflow: hidden;text-align: left;background-color: #f0f8ff;}#sk-container-id-1 div.sk-toggleable__content pre {margin: 0.2em;color: black;border-radius: 0.25em;background-color: #f0f8ff;}#sk-container-id-1 input.sk-toggleable__control:checked~div.sk-toggleable__content {max-height: 200px;max-width: 100%;overflow: auto;}#sk-container-id-1 input.sk-toggleable__control:checked~label.sk-toggleable__label-arrow:before {content: \"▾\";}#sk-container-id-1 div.sk-estimator input.sk-toggleable__control:checked~label.sk-toggleable__label {background-color: #d4ebff;}#sk-container-id-1 div.sk-label input.sk-toggleable__control:checked~label.sk-toggleable__label {background-color: #d4ebff;}#sk-container-id-1 input.sk-hidden--visually {border: 0;clip: rect(1px 1px 1px 1px);clip: rect(1px, 1px, 1px, 1px);height: 1px;margin: -1px;overflow: hidden;padding: 0;position: absolute;width: 1px;}#sk-container-id-1 div.sk-estimator {font-family: monospace;background-color: #f0f8ff;border: 1px dotted black;border-radius: 0.25em;box-sizing: border-box;margin-bottom: 0.5em;}#sk-container-id-1 div.sk-estimator:hover {background-color: #d4ebff;}#sk-container-id-1 div.sk-parallel-item::after {content: \"\";width: 100%;border-bottom: 1px solid gray;flex-grow: 1;}#sk-container-id-1 div.sk-label:hover label.sk-toggleable__label {background-color: #d4ebff;}#sk-container-id-1 div.sk-serial::before {content: \"\";position: absolute;border-left: 1px solid gray;box-sizing: border-box;top: 0;bottom: 0;left: 50%;z-index: 0;}#sk-container-id-1 div.sk-serial {display: flex;flex-direction: column;align-items: center;background-color: white;padding-right: 0.2em;padding-left: 0.2em;position: relative;}#sk-container-id-1 div.sk-item {position: relative;z-index: 1;}#sk-container-id-1 div.sk-parallel {display: flex;align-items: stretch;justify-content: center;background-color: white;position: relative;}#sk-container-id-1 div.sk-item::before, #sk-container-id-1 div.sk-parallel-item::before {content: \"\";position: absolute;border-left: 1px solid gray;box-sizing: border-box;top: 0;bottom: 0;left: 50%;z-index: -1;}#sk-container-id-1 div.sk-parallel-item {display: flex;flex-direction: column;z-index: 1;position: relative;background-color: white;}#sk-container-id-1 div.sk-parallel-item:first-child::after {align-self: flex-end;width: 50%;}#sk-container-id-1 div.sk-parallel-item:last-child::after {align-self: flex-start;width: 50%;}#sk-container-id-1 div.sk-parallel-item:only-child::after {width: 0;}#sk-container-id-1 div.sk-dashed-wrapped {border: 1px dashed gray;margin: 0 0.4em 0.5em 0.4em;box-sizing: border-box;padding-bottom: 0.4em;background-color: white;}#sk-container-id-1 div.sk-label label {font-family: monospace;font-weight: bold;display: inline-block;line-height: 1.2em;}#sk-container-id-1 div.sk-label-container {text-align: center;}#sk-container-id-1 div.sk-container {/* jupyter's `normalize.less` sets `[hidden] { display: none; }` but bootstrap.min.css set `[hidden] { display: none !important; }` so we also need the `!important` here to be able to override the default hidden behavior on the sphinx rendered scikit-learn.org. See: https://github.com/scikit-learn/scikit-learn/issues/21755 */display: inline-block !important;position: relative;}#sk-container-id-1 div.sk-text-repr-fallback {display: none;}</style><div id=\"sk-container-id-1\" class=\"sk-top-container\"><div class=\"sk-text-repr-fallback\"><pre>StandardScaler()</pre><b>In a Jupyter environment, please rerun this cell to show the HTML representation or trust the notebook. <br />On GitHub, the HTML representation is unable to render, please try loading this page with nbviewer.org.</b></div><div class=\"sk-container\" hidden><div class=\"sk-item\"><div class=\"sk-estimator sk-toggleable\"><input class=\"sk-toggleable__control sk-hidden--visually\" id=\"sk-estimator-id-1\" type=\"checkbox\" checked><label for=\"sk-estimator-id-1\" class=\"sk-toggleable__label sk-toggleable__label-arrow\">StandardScaler</label><div class=\"sk-toggleable__content\"><pre>StandardScaler()</pre></div></div></div></div></div>"
            ]
          },
          "metadata": {},
          "execution_count": 11
        }
      ]
    },
    {
      "cell_type": "code",
      "source": [
        "standardized_data = scaler.transform(features)"
      ],
      "metadata": {
        "id": "RrN4ckEcra9w"
      },
      "execution_count": null,
      "outputs": []
    },
    {
      "cell_type": "code",
      "source": [
        "features = standardized_data\n",
        "target = df2['Outcome']"
      ],
      "metadata": {
        "id": "pTG2aH6hreSg"
      },
      "execution_count": null,
      "outputs": []
    },
    {
      "cell_type": "code",
      "source": [
        "X_train, X_test, Y_train, Y_test = train_test_split(features, target, test_size=0.2, random_state = 2)"
      ],
      "metadata": {
        "id": "1Z5V53N3rm6G"
      },
      "execution_count": null,
      "outputs": []
    },
    {
      "cell_type": "code",
      "source": [
        "#using diabetes dataset , preprocessing done in logistic_regression\n",
        "svm_classifier=SVM_classifier(learning_rate=0.001, no_of_iterations=1000, lambda_parameter=0.01)"
      ],
      "metadata": {
        "id": "cVt15ubW0ZHI"
      },
      "execution_count": null,
      "outputs": []
    },
    {
      "cell_type": "code",
      "source": [
        "svm_classifier.fit(X_train,Y_train)"
      ],
      "metadata": {
        "id": "-91Z4S6u1S_g"
      },
      "execution_count": null,
      "outputs": []
    },
    {
      "cell_type": "code",
      "source": [
        "X_train_prediction = svm_classifier.predict(X_train)\n",
        "training_data_accuracy = accuracy_score(Y_train, X_train_prediction)"
      ],
      "metadata": {
        "id": "hEM0sGrtr0a2"
      },
      "execution_count": null,
      "outputs": []
    },
    {
      "cell_type": "code",
      "source": [
        "print(training_data_accuracy)"
      ],
      "metadata": {
        "colab": {
          "base_uri": "https://localhost:8080/"
        },
        "id": "rDdrt9Ylup3I",
        "outputId": "0287e02d-18a9-42da-f9bb-57bdbb1ec21b"
      },
      "execution_count": null,
      "outputs": [
        {
          "output_type": "stream",
          "name": "stdout",
          "text": [
            "0.6677524429967426\n"
          ]
        }
      ]
    },
    {
      "cell_type": "code",
      "source": [
        "X_test_prediction = svm_classifier.predict(X_test)\n",
        "test_data_accuracy = accuracy_score(Y_test, X_test_prediction)"
      ],
      "metadata": {
        "id": "SZ0SpPvduy80"
      },
      "execution_count": null,
      "outputs": []
    },
    {
      "cell_type": "code",
      "source": [
        "print(test_data_accuracy)"
      ],
      "metadata": {
        "colab": {
          "base_uri": "https://localhost:8080/"
        },
        "id": "YS_ZPRJRu3jV",
        "outputId": "e17162e4-438f-46a5-d214-72f5666b27ab"
      },
      "execution_count": null,
      "outputs": [
        {
          "output_type": "stream",
          "name": "stdout",
          "text": [
            "0.6103896103896104\n"
          ]
        }
      ]
    },
    {
      "cell_type": "code",
      "source": [
        "input_data = (5,166,72,19,175,25.8,0.587,51)\n",
        "\n",
        "# change the input data to numpy array\n",
        "input_data_as_numpy_array = np.asarray(input_data)\n",
        "\n",
        "# reshape the array\n",
        "input_data_reshaped = input_data_as_numpy_array.reshape(1,-1)\n",
        "\n",
        "# standardizing the input data\n",
        "std_data = scaler.transform(input_data_reshaped)\n",
        "print(std_data)\n",
        "\n",
        "prediction = svm_classifier.predict(std_data)\n",
        "print(prediction)\n",
        "\n",
        "if (prediction[0] == 0):\n",
        "  print('The person is not diabetic')\n",
        "\n",
        "else:\n",
        "  print('The Person is diabetic')"
      ],
      "metadata": {
        "colab": {
          "base_uri": "https://localhost:8080/"
        },
        "id": "xLOsaip3u9_X",
        "outputId": "2cc46ff1-79db-4e74-d47f-806c31c93773"
      },
      "execution_count": null,
      "outputs": [
        {
          "output_type": "stream",
          "name": "stdout",
          "text": [
            "[[ 0.3429808   1.41167241  0.14964075 -0.09637905  0.82661621 -0.78595734\n",
            "   0.34768723  1.51108316]]\n",
            "[1]\n",
            "The Person is diabetic\n"
          ]
        },
        {
          "output_type": "stream",
          "name": "stderr",
          "text": [
            "/usr/local/lib/python3.10/dist-packages/sklearn/base.py:439: UserWarning: X does not have valid feature names, but StandardScaler was fitted with feature names\n",
            "  warnings.warn(\n"
          ]
        }
      ]
    },
    {
      "cell_type": "markdown",
      "source": [
        "Lasso Regression"
      ],
      "metadata": {
        "id": "CF0kMYSL9P11"
      }
    },
    {
      "cell_type": "markdown",
      "source": [
        "Y = wX + b\n",
        "\n",
        "Y --> Dependent Variable\n",
        "\n",
        "X --> Independent Variable\n",
        "\n",
        "w --> weight\n",
        "\n",
        "b --> bias"
      ],
      "metadata": {
        "id": "8IuNDLH09Rkd"
      }
    },
    {
      "cell_type": "markdown",
      "source": [
        "**Gradient Descent:**\n",
        "\n",
        "Gradient Descent is an optimization algorithm used for minimizing the loss function in various machine learning algorithms. It is used for updating the parameters of the learning model.\n",
        "\n",
        "w = w - α*dw\n",
        "\n",
        "b = b - α*db"
      ],
      "metadata": {
        "id": "iI6UHom_9aq3"
      }
    },
    {
      "cell_type": "markdown",
      "source": [
        "**Learning Rate:**\n",
        "\n",
        "Learning rate is a tuning parameter in an optimization algorithm that determines the step size at each iteration while moving toward a minimum of a loss function."
      ],
      "metadata": {
        "id": "kcCDFVur9db4"
      }
    },
    {
      "cell_type": "markdown",
      "source": [
        "Gradient for Weights\n",
        "\n",
        "![image.png](data:image/png;base64,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)\n",
        "![image.png](data:image/png;base64,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)"
      ],
      "metadata": {
        "id": "1EIeV_Lp9gii"
      }
    },
    {
      "cell_type": "markdown",
      "source": [
        "Gradient for Bias\n",
        "![image.png](data:image/png;base64,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)"
      ],
      "metadata": {
        "id": "oHrnF2H69rte"
      }
    },
    {
      "cell_type": "code",
      "source": [
        "class lasso_regression():\n",
        "  def __init__(self, learning_rate, no_of_iterations, lambda_parameter):\n",
        "\n",
        "    self.learning_rate = learning_rate\n",
        "    self.no_of_iterations = no_of_iterations\n",
        "    self.lambda_parameter = lambda_parameter\n",
        "\n",
        "  def fit(self,x,y):\n",
        "    self.m,self.n=x.shape\n",
        "    self.w=np.zeros(self.n)\n",
        "    self.b=0\n",
        "    self.x=x\n",
        "    self.y=y\n",
        "\n",
        "    for i in range(self.no_of_iterations):\n",
        "      self.update_weights()\n",
        "\n",
        "\n",
        "\n",
        "  def update_weights(self):\n",
        "    y_pred=self.predict(self.x)\n",
        "    # gradient for weight\n",
        "    dw = np.zeros(self.n)\n",
        "    for i in range(self.n):\n",
        "      if self.w[i]>0:\n",
        "        dw=(-2/self.m)*(((self.x[:,i]).dot(self.y - y_pred)) + self.lambda_parameter)\n",
        "      else:\n",
        "        dw=(-2/self.m)*(((self.x[:,i]).dot(self.y - y_pred)) - self.lambda_parameter)\n",
        "      db=- 2 * np.sum(self.y - y_pred) / self.m\n",
        "    self.w = self.w - self.learning_rate*dw\n",
        "    self.b = self.b - self.learning_rate*db\n",
        "\n",
        "\n",
        "  def predict(self,x):\n",
        "    return x.dot(self.w) +self.b\n",
        "\n"
      ],
      "metadata": {
        "id": "aZS981Po9xIx"
      },
      "execution_count": null,
      "outputs": []
    },
    {
      "cell_type": "markdown",
      "source": [
        "K nearest neighbour"
      ],
      "metadata": {
        "id": "fsgbNaf6GeXk"
      }
    },
    {
      "cell_type": "markdown",
      "source": [
        "Distance calculation"
      ],
      "metadata": {
        "id": "UUwOq_kMGiCl"
      }
    },
    {
      "cell_type": "markdown",
      "source": [
        "Euclidean Distance\n",
        "![image.png](data:image/png;base64,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)"
      ],
      "metadata": {
        "id": "x0Ie6oaHGjwL"
      }
    },
    {
      "cell_type": "code",
      "source": [
        "# consider two points with 2 dimensions\n",
        "p1 = (1,1)\n",
        "p2 = (2,2)"
      ],
      "metadata": {
        "id": "Z4Nwi1jxBQzx"
      },
      "execution_count": null,
      "outputs": []
    },
    {
      "cell_type": "code",
      "source": [
        "#calculate euclidean distance\n",
        "dist = (p1[0] - p2[0])**2 + (p1[1] - p2[1])**2\n",
        "euclidean_distance=np.sqrt(dist)\n",
        "print(euclidean_distance)"
      ],
      "metadata": {
        "colab": {
          "base_uri": "https://localhost:8080/"
        },
        "id": "8ADZtC3eG3Oq",
        "outputId": "7a61571d-f3ec-4dba-e19b-12a46e82c9f5"
      },
      "execution_count": null,
      "outputs": [
        {
          "output_type": "stream",
          "name": "stdout",
          "text": [
            "1.4142135623730951\n"
          ]
        }
      ]
    },
    {
      "cell_type": "code",
      "source": [
        "# consider two points with 3 dimensions\n",
        "p1 = (1,1,1)\n",
        "p2 = (2,2,2)\n",
        "\n",
        "# calculating Euclidean Distance\n",
        "\n",
        "dist = (p1[0] - p2[0])**2 + (p1[1] - p2[1])**2 + (p1[2] - p2[2])**2\n",
        "\n",
        "euclidean_dist = np.sqrt(dist)\n",
        "print(euclidean_dist)"
      ],
      "metadata": {
        "colab": {
          "base_uri": "https://localhost:8080/"
        },
        "id": "8d4q4FfRHJc6",
        "outputId": "0e094007-804c-4334-c980-a9856f86b65d"
      },
      "execution_count": null,
      "outputs": [
        {
          "output_type": "stream",
          "name": "stdout",
          "text": [
            "1.7320508075688772\n"
          ]
        }
      ]
    },
    {
      "cell_type": "code",
      "source": [
        "# consider two points with 4 dimensions\n",
        "p1 = (1,1,1,1)\n",
        "p2 = (2,2,2,2)\n",
        "\n",
        "dist = 0\n",
        "\n",
        "for i in range(len(p1)):\n",
        "  dist = dist + (p1[i] - p2[i])**2\n",
        "\n",
        "euclidean_dist = np.sqrt(dist)\n",
        "print(euclidean_dist)"
      ],
      "metadata": {
        "id": "twsHaU3RHQ9P"
      },
      "execution_count": null,
      "outputs": []
    },
    {
      "cell_type": "code",
      "source": [
        "#function for calculating euclidean distance\n",
        "def get_euclidean_distance(p1, p2):\n",
        "\n",
        "  dist = 0\n",
        "\n",
        "  for i in range(len(p1)):\n",
        "    dist = dist + (p1[i] - p2[i])**2\n",
        "\n",
        "  euclidean_dist = np.sqrt(dist)\n",
        "  print(euclidean_dist)"
      ],
      "metadata": {
        "id": "SR8aeespHT_7"
      },
      "execution_count": null,
      "outputs": []
    },
    {
      "cell_type": "code",
      "source": [
        "get_euclidean_distance((1,1,1), (2,2,2))"
      ],
      "metadata": {
        "colab": {
          "base_uri": "https://localhost:8080/"
        },
        "id": "8BwKxP6dHjD9",
        "outputId": "8c711327-a8fd-4fd8-fe31-a3182e27dae5"
      },
      "execution_count": null,
      "outputs": [
        {
          "output_type": "stream",
          "name": "stdout",
          "text": [
            "1.7320508075688772\n"
          ]
        }
      ]
    },
    {
      "cell_type": "markdown",
      "source": [
        "Manhattan distance\n",
        "![image.png](data:image/png;base64,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)"
      ],
      "metadata": {
        "id": "3eUHpG3kHktv"
      }
    },
    {
      "cell_type": "code",
      "source": [
        "def get_manhattan_distance(p1, p2):\n",
        "\n",
        "  dist = 0\n",
        "\n",
        "  for i in range(len(p1)):\n",
        "    dist = dist + abs(p1[i] - p2[i])\n",
        "\n",
        "    manhattan_dist = dist\n",
        "\n",
        "  print(manhattan_dist)"
      ],
      "metadata": {
        "id": "fj7EALG7HoUs"
      },
      "execution_count": null,
      "outputs": []
    },
    {
      "cell_type": "code",
      "source": [
        "get_manhattan_distance((1,1,1,1),(2,2,2,2))"
      ],
      "metadata": {
        "colab": {
          "base_uri": "https://localhost:8080/"
        },
        "id": "ZnEY_L9eHtK2",
        "outputId": "4d2523c9-567d-4a4e-f432-0b50bd88a65b"
      },
      "execution_count": null,
      "outputs": [
        {
          "output_type": "stream",
          "name": "stdout",
          "text": [
            "4\n"
          ]
        }
      ]
    },
    {
      "cell_type": "markdown",
      "source": [
        "Model"
      ],
      "metadata": {
        "id": "bL2pLeGrJB6q"
      }
    },
    {
      "cell_type": "code",
      "source": [
        "import statistics"
      ],
      "metadata": {
        "id": "l_RbYkjzJC1k"
      },
      "execution_count": null,
      "outputs": []
    },
    {
      "cell_type": "code",
      "source": [
        "class knn_classifier:\n",
        "  def __init__(self,distance_metric):\n",
        "    self.distance_metric=distance_metric\n",
        "\n",
        "  def get_distance_metric(self,training_data_point, test_data_point):\n",
        "    if (self.distance_metric == 'euclidean'):\n",
        "\n",
        "      dist = 0\n",
        "      for i in range(len(training_data_point) - 1):\n",
        "        dist = dist + (training_data_point[i] - test_data_point[i])**2\n",
        "\n",
        "      euclidean_dist = np.sqrt(dist)\n",
        "\n",
        "      return euclidean_dist\n",
        "\n",
        "    elif(self.distance_metric == 'manhattan'):\n",
        "      dist=0\n",
        "      for i in range(len(training_data_point) - 1):\n",
        "        dist = dist + abs(training_data_point[i] - test_data_point[i])\n",
        "\n",
        "      manhattan_dist = dist\n",
        "      return manhattan_dist\n",
        "\n",
        "  def nearest_neighbors(self,X_train, test_data, k):\n",
        "    distance_list = []\n",
        "\n",
        "    for training_data in X_train:\n",
        "\n",
        "      distance = self.get_distance_metric(training_data, test_data)\n",
        "      distance_list.append((training_data, distance))\n",
        "\n",
        "    distance_list.sort(key=lambda x: x[1])\n",
        "    neighbors_list=[]\n",
        "    for j in range(k):\n",
        "      neighbors_list.append(distance_list[j][0])\n",
        "\n",
        "    return neighbors_list\n",
        "\n",
        "\n",
        "  def predict(self,X_train, test_data, k):\n",
        "    neighbors = self.nearest_neighbors(X_train, test_data, k)\n",
        "    for data in neighbors:\n",
        "      label = []\n",
        "      label.append(data[-1])\n",
        "\n",
        "    predicted_class = statistics.mode(label)\n",
        "\n",
        "    return predicted_class"
      ],
      "metadata": {
        "id": "0Z876QYiJD9c"
      },
      "execution_count": null,
      "outputs": []
    },
    {
      "cell_type": "code",
      "source": [
        "from sklearn.model_selection import train_test_split\n",
        "from sklearn.metrics import accuracy_score"
      ],
      "metadata": {
        "id": "Da2vk-XtHaCW"
      },
      "execution_count": null,
      "outputs": []
    },
    {
      "cell_type": "code",
      "source": [
        "df3=pd.read_csv('/content/diabetes (1).csv')"
      ],
      "metadata": {
        "id": "VaRWmghqHjaw"
      },
      "execution_count": null,
      "outputs": []
    },
    {
      "cell_type": "code",
      "source": [
        "df3.head()"
      ],
      "metadata": {
        "colab": {
          "base_uri": "https://localhost:8080/",
          "height": 206
        },
        "id": "UrASfVlXHwRj",
        "outputId": "d130f987-3337-46e8-8e86-4983a1b7c894"
      },
      "execution_count": null,
      "outputs": [
        {
          "output_type": "execute_result",
          "data": {
            "text/plain": [
              "   Pregnancies  Glucose  BloodPressure  SkinThickness  Insulin   BMI  \\\n",
              "0            6      148             72             35        0  33.6   \n",
              "1            1       85             66             29        0  26.6   \n",
              "2            8      183             64              0        0  23.3   \n",
              "3            1       89             66             23       94  28.1   \n",
              "4            0      137             40             35      168  43.1   \n",
              "\n",
              "   DiabetesPedigreeFunction  Age  Outcome  \n",
              "0                     0.627   50        1  \n",
              "1                     0.351   31        0  \n",
              "2                     0.672   32        1  \n",
              "3                     0.167   21        0  \n",
              "4                     2.288   33        1  "
            ],
            "text/html": [
              "\n",
              "  <div id=\"df-139c5d86-a848-4ecc-b909-34821b0f5b3b\" class=\"colab-df-container\">\n",
              "    <div>\n",
              "<style scoped>\n",
              "    .dataframe tbody tr th:only-of-type {\n",
              "        vertical-align: middle;\n",
              "    }\n",
              "\n",
              "    .dataframe tbody tr th {\n",
              "        vertical-align: top;\n",
              "    }\n",
              "\n",
              "    .dataframe thead th {\n",
              "        text-align: right;\n",
              "    }\n",
              "</style>\n",
              "<table border=\"1\" class=\"dataframe\">\n",
              "  <thead>\n",
              "    <tr style=\"text-align: right;\">\n",
              "      <th></th>\n",
              "      <th>Pregnancies</th>\n",
              "      <th>Glucose</th>\n",
              "      <th>BloodPressure</th>\n",
              "      <th>SkinThickness</th>\n",
              "      <th>Insulin</th>\n",
              "      <th>BMI</th>\n",
              "      <th>DiabetesPedigreeFunction</th>\n",
              "      <th>Age</th>\n",
              "      <th>Outcome</th>\n",
              "    </tr>\n",
              "  </thead>\n",
              "  <tbody>\n",
              "    <tr>\n",
              "      <th>0</th>\n",
              "      <td>6</td>\n",
              "      <td>148</td>\n",
              "      <td>72</td>\n",
              "      <td>35</td>\n",
              "      <td>0</td>\n",
              "      <td>33.6</td>\n",
              "      <td>0.627</td>\n",
              "      <td>50</td>\n",
              "      <td>1</td>\n",
              "    </tr>\n",
              "    <tr>\n",
              "      <th>1</th>\n",
              "      <td>1</td>\n",
              "      <td>85</td>\n",
              "      <td>66</td>\n",
              "      <td>29</td>\n",
              "      <td>0</td>\n",
              "      <td>26.6</td>\n",
              "      <td>0.351</td>\n",
              "      <td>31</td>\n",
              "      <td>0</td>\n",
              "    </tr>\n",
              "    <tr>\n",
              "      <th>2</th>\n",
              "      <td>8</td>\n",
              "      <td>183</td>\n",
              "      <td>64</td>\n",
              "      <td>0</td>\n",
              "      <td>0</td>\n",
              "      <td>23.3</td>\n",
              "      <td>0.672</td>\n",
              "      <td>32</td>\n",
              "      <td>1</td>\n",
              "    </tr>\n",
              "    <tr>\n",
              "      <th>3</th>\n",
              "      <td>1</td>\n",
              "      <td>89</td>\n",
              "      <td>66</td>\n",
              "      <td>23</td>\n",
              "      <td>94</td>\n",
              "      <td>28.1</td>\n",
              "      <td>0.167</td>\n",
              "      <td>21</td>\n",
              "      <td>0</td>\n",
              "    </tr>\n",
              "    <tr>\n",
              "      <th>4</th>\n",
              "      <td>0</td>\n",
              "      <td>137</td>\n",
              "      <td>40</td>\n",
              "      <td>35</td>\n",
              "      <td>168</td>\n",
              "      <td>43.1</td>\n",
              "      <td>2.288</td>\n",
              "      <td>33</td>\n",
              "      <td>1</td>\n",
              "    </tr>\n",
              "  </tbody>\n",
              "</table>\n",
              "</div>\n",
              "    <div class=\"colab-df-buttons\">\n",
              "\n",
              "  <div class=\"colab-df-container\">\n",
              "    <button class=\"colab-df-convert\" onclick=\"convertToInteractive('df-139c5d86-a848-4ecc-b909-34821b0f5b3b')\"\n",
              "            title=\"Convert this dataframe to an interactive table.\"\n",
              "            style=\"display:none;\">\n",
              "\n",
              "  <svg xmlns=\"http://www.w3.org/2000/svg\" height=\"24px\" viewBox=\"0 -960 960 960\">\n",
              "    <path d=\"M120-120v-720h720v720H120Zm60-500h600v-160H180v160Zm220 220h160v-160H400v160Zm0 220h160v-160H400v160ZM180-400h160v-160H180v160Zm440 0h160v-160H620v160ZM180-180h160v-160H180v160Zm440 0h160v-160H620v160Z\"/>\n",
              "  </svg>\n",
              "    </button>\n",
              "\n",
              "  <style>\n",
              "    .colab-df-container {\n",
              "      display:flex;\n",
              "      gap: 12px;\n",
              "    }\n",
              "\n",
              "    .colab-df-convert {\n",
              "      background-color: #E8F0FE;\n",
              "      border: none;\n",
              "      border-radius: 50%;\n",
              "      cursor: pointer;\n",
              "      display: none;\n",
              "      fill: #1967D2;\n",
              "      height: 32px;\n",
              "      padding: 0 0 0 0;\n",
              "      width: 32px;\n",
              "    }\n",
              "\n",
              "    .colab-df-convert:hover {\n",
              "      background-color: #E2EBFA;\n",
              "      box-shadow: 0px 1px 2px rgba(60, 64, 67, 0.3), 0px 1px 3px 1px rgba(60, 64, 67, 0.15);\n",
              "      fill: #174EA6;\n",
              "    }\n",
              "\n",
              "    .colab-df-buttons div {\n",
              "      margin-bottom: 4px;\n",
              "    }\n",
              "\n",
              "    [theme=dark] .colab-df-convert {\n",
              "      background-color: #3B4455;\n",
              "      fill: #D2E3FC;\n",
              "    }\n",
              "\n",
              "    [theme=dark] .colab-df-convert:hover {\n",
              "      background-color: #434B5C;\n",
              "      box-shadow: 0px 1px 3px 1px rgba(0, 0, 0, 0.15);\n",
              "      filter: drop-shadow(0px 1px 2px rgba(0, 0, 0, 0.3));\n",
              "      fill: #FFFFFF;\n",
              "    }\n",
              "  </style>\n",
              "\n",
              "    <script>\n",
              "      const buttonEl =\n",
              "        document.querySelector('#df-139c5d86-a848-4ecc-b909-34821b0f5b3b button.colab-df-convert');\n",
              "      buttonEl.style.display =\n",
              "        google.colab.kernel.accessAllowed ? 'block' : 'none';\n",
              "\n",
              "      async function convertToInteractive(key) {\n",
              "        const element = document.querySelector('#df-139c5d86-a848-4ecc-b909-34821b0f5b3b');\n",
              "        const dataTable =\n",
              "          await google.colab.kernel.invokeFunction('convertToInteractive',\n",
              "                                                    [key], {});\n",
              "        if (!dataTable) return;\n",
              "\n",
              "        const docLinkHtml = 'Like what you see? Visit the ' +\n",
              "          '<a target=\"_blank\" href=https://colab.research.google.com/notebooks/data_table.ipynb>data table notebook</a>'\n",
              "          + ' to learn more about interactive tables.';\n",
              "        element.innerHTML = '';\n",
              "        dataTable['output_type'] = 'display_data';\n",
              "        await google.colab.output.renderOutput(dataTable, element);\n",
              "        const docLink = document.createElement('div');\n",
              "        docLink.innerHTML = docLinkHtml;\n",
              "        element.appendChild(docLink);\n",
              "      }\n",
              "    </script>\n",
              "  </div>\n",
              "\n",
              "\n",
              "<div id=\"df-cc9a100b-3d34-48aa-858b-22884111fc4a\">\n",
              "  <button class=\"colab-df-quickchart\" onclick=\"quickchart('df-cc9a100b-3d34-48aa-858b-22884111fc4a')\"\n",
              "            title=\"Suggest charts.\"\n",
              "            style=\"display:none;\">\n",
              "\n",
              "<svg xmlns=\"http://www.w3.org/2000/svg\" height=\"24px\"viewBox=\"0 0 24 24\"\n",
              "     width=\"24px\">\n",
              "    <g>\n",
              "        <path d=\"M19 3H5c-1.1 0-2 .9-2 2v14c0 1.1.9 2 2 2h14c1.1 0 2-.9 2-2V5c0-1.1-.9-2-2-2zM9 17H7v-7h2v7zm4 0h-2V7h2v10zm4 0h-2v-4h2v4z\"/>\n",
              "    </g>\n",
              "</svg>\n",
              "  </button>\n",
              "\n",
              "<style>\n",
              "  .colab-df-quickchart {\n",
              "      --bg-color: #E8F0FE;\n",
              "      --fill-color: #1967D2;\n",
              "      --hover-bg-color: #E2EBFA;\n",
              "      --hover-fill-color: #174EA6;\n",
              "      --disabled-fill-color: #AAA;\n",
              "      --disabled-bg-color: #DDD;\n",
              "  }\n",
              "\n",
              "  [theme=dark] .colab-df-quickchart {\n",
              "      --bg-color: #3B4455;\n",
              "      --fill-color: #D2E3FC;\n",
              "      --hover-bg-color: #434B5C;\n",
              "      --hover-fill-color: #FFFFFF;\n",
              "      --disabled-bg-color: #3B4455;\n",
              "      --disabled-fill-color: #666;\n",
              "  }\n",
              "\n",
              "  .colab-df-quickchart {\n",
              "    background-color: var(--bg-color);\n",
              "    border: none;\n",
              "    border-radius: 50%;\n",
              "    cursor: pointer;\n",
              "    display: none;\n",
              "    fill: var(--fill-color);\n",
              "    height: 32px;\n",
              "    padding: 0;\n",
              "    width: 32px;\n",
              "  }\n",
              "\n",
              "  .colab-df-quickchart:hover {\n",
              "    background-color: var(--hover-bg-color);\n",
              "    box-shadow: 0 1px 2px rgba(60, 64, 67, 0.3), 0 1px 3px 1px rgba(60, 64, 67, 0.15);\n",
              "    fill: var(--button-hover-fill-color);\n",
              "  }\n",
              "\n",
              "  .colab-df-quickchart-complete:disabled,\n",
              "  .colab-df-quickchart-complete:disabled:hover {\n",
              "    background-color: var(--disabled-bg-color);\n",
              "    fill: var(--disabled-fill-color);\n",
              "    box-shadow: none;\n",
              "  }\n",
              "\n",
              "  .colab-df-spinner {\n",
              "    border: 2px solid var(--fill-color);\n",
              "    border-color: transparent;\n",
              "    border-bottom-color: var(--fill-color);\n",
              "    animation:\n",
              "      spin 1s steps(1) infinite;\n",
              "  }\n",
              "\n",
              "  @keyframes spin {\n",
              "    0% {\n",
              "      border-color: transparent;\n",
              "      border-bottom-color: var(--fill-color);\n",
              "      border-left-color: var(--fill-color);\n",
              "    }\n",
              "    20% {\n",
              "      border-color: transparent;\n",
              "      border-left-color: var(--fill-color);\n",
              "      border-top-color: var(--fill-color);\n",
              "    }\n",
              "    30% {\n",
              "      border-color: transparent;\n",
              "      border-left-color: var(--fill-color);\n",
              "      border-top-color: var(--fill-color);\n",
              "      border-right-color: var(--fill-color);\n",
              "    }\n",
              "    40% {\n",
              "      border-color: transparent;\n",
              "      border-right-color: var(--fill-color);\n",
              "      border-top-color: var(--fill-color);\n",
              "    }\n",
              "    60% {\n",
              "      border-color: transparent;\n",
              "      border-right-color: var(--fill-color);\n",
              "    }\n",
              "    80% {\n",
              "      border-color: transparent;\n",
              "      border-right-color: var(--fill-color);\n",
              "      border-bottom-color: var(--fill-color);\n",
              "    }\n",
              "    90% {\n",
              "      border-color: transparent;\n",
              "      border-bottom-color: var(--fill-color);\n",
              "    }\n",
              "  }\n",
              "</style>\n",
              "\n",
              "  <script>\n",
              "    async function quickchart(key) {\n",
              "      const quickchartButtonEl =\n",
              "        document.querySelector('#' + key + ' button');\n",
              "      quickchartButtonEl.disabled = true;  // To prevent multiple clicks.\n",
              "      quickchartButtonEl.classList.add('colab-df-spinner');\n",
              "      try {\n",
              "        const charts = await google.colab.kernel.invokeFunction(\n",
              "            'suggestCharts', [key], {});\n",
              "      } catch (error) {\n",
              "        console.error('Error during call to suggestCharts:', error);\n",
              "      }\n",
              "      quickchartButtonEl.classList.remove('colab-df-spinner');\n",
              "      quickchartButtonEl.classList.add('colab-df-quickchart-complete');\n",
              "    }\n",
              "    (() => {\n",
              "      let quickchartButtonEl =\n",
              "        document.querySelector('#df-cc9a100b-3d34-48aa-858b-22884111fc4a button');\n",
              "      quickchartButtonEl.style.display =\n",
              "        google.colab.kernel.accessAllowed ? 'block' : 'none';\n",
              "    })();\n",
              "  </script>\n",
              "</div>\n",
              "    </div>\n",
              "  </div>\n"
            ]
          },
          "metadata": {},
          "execution_count": 4
        }
      ]
    },
    {
      "cell_type": "code",
      "source": [
        "X = df3.drop(columns='Outcome', axis = 1)\n",
        "Y = df3['Outcome']"
      ],
      "metadata": {
        "id": "-LoXHnoTH2De"
      },
      "execution_count": null,
      "outputs": []
    },
    {
      "cell_type": "code",
      "source": [
        "X = X.to_numpy()\n",
        "Y = Y.to_numpy()"
      ],
      "metadata": {
        "id": "mMGjffvNH8tb"
      },
      "execution_count": null,
      "outputs": []
    },
    {
      "cell_type": "code",
      "source": [
        "X_train, X_test, Y_train, Y_test = train_test_split(X, Y, test_size=0.2, stratify=Y, random_state=2)"
      ],
      "metadata": {
        "id": "WpUU0VEKIAT1"
      },
      "execution_count": null,
      "outputs": []
    },
    {
      "cell_type": "code",
      "source": [
        "X_train = np.insert(X_train, 8, Y_train, axis=1)"
      ],
      "metadata": {
        "id": "ADgmBa1xIp1c"
      },
      "execution_count": null,
      "outputs": []
    },
    {
      "cell_type": "code",
      "source": [
        "classifier = knn_classifier(distance_metric='manhattan')"
      ],
      "metadata": {
        "id": "DUtitdDQIrkA"
      },
      "execution_count": null,
      "outputs": []
    },
    {
      "cell_type": "code",
      "source": [
        "prediction = classifier.predict(X_train, X_test[2], k=5)"
      ],
      "metadata": {
        "id": "AX24poH3I4Bp"
      },
      "execution_count": null,
      "outputs": []
    },
    {
      "cell_type": "code",
      "source": [
        "X_test_size = X_test.shape[0]\n",
        "print(X_test_size)"
      ],
      "metadata": {
        "colab": {
          "base_uri": "https://localhost:8080/"
        },
        "id": "5DtP3iaqKAVO",
        "outputId": "aca9f5b4-e166-4ce3-b158-a45b3daffb65"
      },
      "execution_count": null,
      "outputs": [
        {
          "output_type": "stream",
          "name": "stdout",
          "text": [
            "154\n"
          ]
        }
      ]
    },
    {
      "cell_type": "code",
      "source": [
        "y_pred = []\n",
        "\n",
        "for i in range(X_test_size):\n",
        "  prediction = classifier.predict(X_train, X_test[i], k=5)\n",
        "  y_pred.append(prediction)"
      ],
      "metadata": {
        "id": "AIntaCcKJ60U"
      },
      "execution_count": null,
      "outputs": []
    },
    {
      "cell_type": "code",
      "source": [
        "y_true = Y_test"
      ],
      "metadata": {
        "id": "RAwf5Vl9KFep"
      },
      "execution_count": null,
      "outputs": []
    },
    {
      "cell_type": "code",
      "source": [
        "accuracy = accuracy_score(y_true, y_pred)"
      ],
      "metadata": {
        "id": "s_0vY3JbKJ6_"
      },
      "execution_count": null,
      "outputs": []
    },
    {
      "cell_type": "code",
      "source": [
        "print(accuracy*100)"
      ],
      "metadata": {
        "id": "JlLLov2PKMrq",
        "outputId": "d4cf3816-1364-41e4-c88d-ccad4676d0d9",
        "colab": {
          "base_uri": "https://localhost:8080/"
        }
      },
      "execution_count": null,
      "outputs": [
        {
          "output_type": "stream",
          "name": "stdout",
          "text": [
            "74.02597402597402\n"
          ]
        }
      ]
    },
    {
      "cell_type": "markdown",
      "source": [
        "Decision tree"
      ],
      "metadata": {
        "id": "9eJeRc9pcwyQ"
      }
    },
    {
      "cell_type": "markdown",
      "source": [
        "Post pruning"
      ],
      "metadata": {
        "id": "XOq-79vNcypY"
      }
    },
    {
      "cell_type": "code",
      "source": [
        "import pandas as pd\n",
        "import matplotlib.pyplot as plt\n",
        "%matplotlib inline"
      ],
      "metadata": {
        "id": "T3GJtp5wc02q"
      },
      "execution_count": null,
      "outputs": []
    },
    {
      "cell_type": "code",
      "source": [
        "from sklearn.datasets import load_iris"
      ],
      "metadata": {
        "id": "acQSJhYQc5Sg"
      },
      "execution_count": null,
      "outputs": []
    },
    {
      "cell_type": "code",
      "source": [
        "iris=load_iris()"
      ],
      "metadata": {
        "id": "QfQlRW2yc_WO"
      },
      "execution_count": null,
      "outputs": []
    },
    {
      "cell_type": "code",
      "source": [
        "iris.data"
      ],
      "metadata": {
        "colab": {
          "base_uri": "https://localhost:8080/"
        },
        "id": "XQrZ2PSzdBNr",
        "outputId": "488db9f1-dfa4-4e90-a3b9-14b129e44db0"
      },
      "execution_count": null,
      "outputs": [
        {
          "output_type": "execute_result",
          "data": {
            "text/plain": [
              "array([[5.1, 3.5, 1.4, 0.2],\n",
              "       [4.9, 3. , 1.4, 0.2],\n",
              "       [4.7, 3.2, 1.3, 0.2],\n",
              "       [4.6, 3.1, 1.5, 0.2],\n",
              "       [5. , 3.6, 1.4, 0.2],\n",
              "       [5.4, 3.9, 1.7, 0.4],\n",
              "       [4.6, 3.4, 1.4, 0.3],\n",
              "       [5. , 3.4, 1.5, 0.2],\n",
              "       [4.4, 2.9, 1.4, 0.2],\n",
              "       [4.9, 3.1, 1.5, 0.1],\n",
              "       [5.4, 3.7, 1.5, 0.2],\n",
              "       [4.8, 3.4, 1.6, 0.2],\n",
              "       [4.8, 3. , 1.4, 0.1],\n",
              "       [4.3, 3. , 1.1, 0.1],\n",
              "       [5.8, 4. , 1.2, 0.2],\n",
              "       [5.7, 4.4, 1.5, 0.4],\n",
              "       [5.4, 3.9, 1.3, 0.4],\n",
              "       [5.1, 3.5, 1.4, 0.3],\n",
              "       [5.7, 3.8, 1.7, 0.3],\n",
              "       [5.1, 3.8, 1.5, 0.3],\n",
              "       [5.4, 3.4, 1.7, 0.2],\n",
              "       [5.1, 3.7, 1.5, 0.4],\n",
              "       [4.6, 3.6, 1. , 0.2],\n",
              "       [5.1, 3.3, 1.7, 0.5],\n",
              "       [4.8, 3.4, 1.9, 0.2],\n",
              "       [5. , 3. , 1.6, 0.2],\n",
              "       [5. , 3.4, 1.6, 0.4],\n",
              "       [5.2, 3.5, 1.5, 0.2],\n",
              "       [5.2, 3.4, 1.4, 0.2],\n",
              "       [4.7, 3.2, 1.6, 0.2],\n",
              "       [4.8, 3.1, 1.6, 0.2],\n",
              "       [5.4, 3.4, 1.5, 0.4],\n",
              "       [5.2, 4.1, 1.5, 0.1],\n",
              "       [5.5, 4.2, 1.4, 0.2],\n",
              "       [4.9, 3.1, 1.5, 0.2],\n",
              "       [5. , 3.2, 1.2, 0.2],\n",
              "       [5.5, 3.5, 1.3, 0.2],\n",
              "       [4.9, 3.6, 1.4, 0.1],\n",
              "       [4.4, 3. , 1.3, 0.2],\n",
              "       [5.1, 3.4, 1.5, 0.2],\n",
              "       [5. , 3.5, 1.3, 0.3],\n",
              "       [4.5, 2.3, 1.3, 0.3],\n",
              "       [4.4, 3.2, 1.3, 0.2],\n",
              "       [5. , 3.5, 1.6, 0.6],\n",
              "       [5.1, 3.8, 1.9, 0.4],\n",
              "       [4.8, 3. , 1.4, 0.3],\n",
              "       [5.1, 3.8, 1.6, 0.2],\n",
              "       [4.6, 3.2, 1.4, 0.2],\n",
              "       [5.3, 3.7, 1.5, 0.2],\n",
              "       [5. , 3.3, 1.4, 0.2],\n",
              "       [7. , 3.2, 4.7, 1.4],\n",
              "       [6.4, 3.2, 4.5, 1.5],\n",
              "       [6.9, 3.1, 4.9, 1.5],\n",
              "       [5.5, 2.3, 4. , 1.3],\n",
              "       [6.5, 2.8, 4.6, 1.5],\n",
              "       [5.7, 2.8, 4.5, 1.3],\n",
              "       [6.3, 3.3, 4.7, 1.6],\n",
              "       [4.9, 2.4, 3.3, 1. ],\n",
              "       [6.6, 2.9, 4.6, 1.3],\n",
              "       [5.2, 2.7, 3.9, 1.4],\n",
              "       [5. , 2. , 3.5, 1. ],\n",
              "       [5.9, 3. , 4.2, 1.5],\n",
              "       [6. , 2.2, 4. , 1. ],\n",
              "       [6.1, 2.9, 4.7, 1.4],\n",
              "       [5.6, 2.9, 3.6, 1.3],\n",
              "       [6.7, 3.1, 4.4, 1.4],\n",
              "       [5.6, 3. , 4.5, 1.5],\n",
              "       [5.8, 2.7, 4.1, 1. ],\n",
              "       [6.2, 2.2, 4.5, 1.5],\n",
              "       [5.6, 2.5, 3.9, 1.1],\n",
              "       [5.9, 3.2, 4.8, 1.8],\n",
              "       [6.1, 2.8, 4. , 1.3],\n",
              "       [6.3, 2.5, 4.9, 1.5],\n",
              "       [6.1, 2.8, 4.7, 1.2],\n",
              "       [6.4, 2.9, 4.3, 1.3],\n",
              "       [6.6, 3. , 4.4, 1.4],\n",
              "       [6.8, 2.8, 4.8, 1.4],\n",
              "       [6.7, 3. , 5. , 1.7],\n",
              "       [6. , 2.9, 4.5, 1.5],\n",
              "       [5.7, 2.6, 3.5, 1. ],\n",
              "       [5.5, 2.4, 3.8, 1.1],\n",
              "       [5.5, 2.4, 3.7, 1. ],\n",
              "       [5.8, 2.7, 3.9, 1.2],\n",
              "       [6. , 2.7, 5.1, 1.6],\n",
              "       [5.4, 3. , 4.5, 1.5],\n",
              "       [6. , 3.4, 4.5, 1.6],\n",
              "       [6.7, 3.1, 4.7, 1.5],\n",
              "       [6.3, 2.3, 4.4, 1.3],\n",
              "       [5.6, 3. , 4.1, 1.3],\n",
              "       [5.5, 2.5, 4. , 1.3],\n",
              "       [5.5, 2.6, 4.4, 1.2],\n",
              "       [6.1, 3. , 4.6, 1.4],\n",
              "       [5.8, 2.6, 4. , 1.2],\n",
              "       [5. , 2.3, 3.3, 1. ],\n",
              "       [5.6, 2.7, 4.2, 1.3],\n",
              "       [5.7, 3. , 4.2, 1.2],\n",
              "       [5.7, 2.9, 4.2, 1.3],\n",
              "       [6.2, 2.9, 4.3, 1.3],\n",
              "       [5.1, 2.5, 3. , 1.1],\n",
              "       [5.7, 2.8, 4.1, 1.3],\n",
              "       [6.3, 3.3, 6. , 2.5],\n",
              "       [5.8, 2.7, 5.1, 1.9],\n",
              "       [7.1, 3. , 5.9, 2.1],\n",
              "       [6.3, 2.9, 5.6, 1.8],\n",
              "       [6.5, 3. , 5.8, 2.2],\n",
              "       [7.6, 3. , 6.6, 2.1],\n",
              "       [4.9, 2.5, 4.5, 1.7],\n",
              "       [7.3, 2.9, 6.3, 1.8],\n",
              "       [6.7, 2.5, 5.8, 1.8],\n",
              "       [7.2, 3.6, 6.1, 2.5],\n",
              "       [6.5, 3.2, 5.1, 2. ],\n",
              "       [6.4, 2.7, 5.3, 1.9],\n",
              "       [6.8, 3. , 5.5, 2.1],\n",
              "       [5.7, 2.5, 5. , 2. ],\n",
              "       [5.8, 2.8, 5.1, 2.4],\n",
              "       [6.4, 3.2, 5.3, 2.3],\n",
              "       [6.5, 3. , 5.5, 1.8],\n",
              "       [7.7, 3.8, 6.7, 2.2],\n",
              "       [7.7, 2.6, 6.9, 2.3],\n",
              "       [6. , 2.2, 5. , 1.5],\n",
              "       [6.9, 3.2, 5.7, 2.3],\n",
              "       [5.6, 2.8, 4.9, 2. ],\n",
              "       [7.7, 2.8, 6.7, 2. ],\n",
              "       [6.3, 2.7, 4.9, 1.8],\n",
              "       [6.7, 3.3, 5.7, 2.1],\n",
              "       [7.2, 3.2, 6. , 1.8],\n",
              "       [6.2, 2.8, 4.8, 1.8],\n",
              "       [6.1, 3. , 4.9, 1.8],\n",
              "       [6.4, 2.8, 5.6, 2.1],\n",
              "       [7.2, 3. , 5.8, 1.6],\n",
              "       [7.4, 2.8, 6.1, 1.9],\n",
              "       [7.9, 3.8, 6.4, 2. ],\n",
              "       [6.4, 2.8, 5.6, 2.2],\n",
              "       [6.3, 2.8, 5.1, 1.5],\n",
              "       [6.1, 2.6, 5.6, 1.4],\n",
              "       [7.7, 3. , 6.1, 2.3],\n",
              "       [6.3, 3.4, 5.6, 2.4],\n",
              "       [6.4, 3.1, 5.5, 1.8],\n",
              "       [6. , 3. , 4.8, 1.8],\n",
              "       [6.9, 3.1, 5.4, 2.1],\n",
              "       [6.7, 3.1, 5.6, 2.4],\n",
              "       [6.9, 3.1, 5.1, 2.3],\n",
              "       [5.8, 2.7, 5.1, 1.9],\n",
              "       [6.8, 3.2, 5.9, 2.3],\n",
              "       [6.7, 3.3, 5.7, 2.5],\n",
              "       [6.7, 3. , 5.2, 2.3],\n",
              "       [6.3, 2.5, 5. , 1.9],\n",
              "       [6.5, 3. , 5.2, 2. ],\n",
              "       [6.2, 3.4, 5.4, 2.3],\n",
              "       [5.9, 3. , 5.1, 1.8]])"
            ]
          },
          "metadata": {},
          "execution_count": 4
        }
      ]
    },
    {
      "cell_type": "code",
      "source": [
        "iris.target"
      ],
      "metadata": {
        "id": "oGAiRX5jdIAY",
        "outputId": "e355170f-5f5f-4063-d9c3-141eb3a62500",
        "colab": {
          "base_uri": "https://localhost:8080/"
        }
      },
      "execution_count": null,
      "outputs": [
        {
          "output_type": "execute_result",
          "data": {
            "text/plain": [
              "array([0, 0, 0, 0, 0, 0, 0, 0, 0, 0, 0, 0, 0, 0, 0, 0, 0, 0, 0, 0, 0, 0,\n",
              "       0, 0, 0, 0, 0, 0, 0, 0, 0, 0, 0, 0, 0, 0, 0, 0, 0, 0, 0, 0, 0, 0,\n",
              "       0, 0, 0, 0, 0, 0, 1, 1, 1, 1, 1, 1, 1, 1, 1, 1, 1, 1, 1, 1, 1, 1,\n",
              "       1, 1, 1, 1, 1, 1, 1, 1, 1, 1, 1, 1, 1, 1, 1, 1, 1, 1, 1, 1, 1, 1,\n",
              "       1, 1, 1, 1, 1, 1, 1, 1, 1, 1, 1, 1, 2, 2, 2, 2, 2, 2, 2, 2, 2, 2,\n",
              "       2, 2, 2, 2, 2, 2, 2, 2, 2, 2, 2, 2, 2, 2, 2, 2, 2, 2, 2, 2, 2, 2,\n",
              "       2, 2, 2, 2, 2, 2, 2, 2, 2, 2, 2, 2, 2, 2, 2, 2, 2, 2])"
            ]
          },
          "metadata": {},
          "execution_count": 5
        }
      ]
    },
    {
      "cell_type": "code",
      "source": [
        "import seaborn as sns\n",
        "df=sns.load_dataset('iris')"
      ],
      "metadata": {
        "id": "oNEVlg4UdM_D"
      },
      "execution_count": null,
      "outputs": []
    },
    {
      "cell_type": "code",
      "source": [
        "df.head()"
      ],
      "metadata": {
        "colab": {
          "base_uri": "https://localhost:8080/",
          "height": 206
        },
        "id": "DXcnWzpGRzp1",
        "outputId": "efe0db8e-bda6-4377-faa0-d2ca8faa6a4e"
      },
      "execution_count": null,
      "outputs": [
        {
          "output_type": "execute_result",
          "data": {
            "text/plain": [
              "   sepal_length  sepal_width  petal_length  petal_width species\n",
              "0           5.1          3.5           1.4          0.2  setosa\n",
              "1           4.9          3.0           1.4          0.2  setosa\n",
              "2           4.7          3.2           1.3          0.2  setosa\n",
              "3           4.6          3.1           1.5          0.2  setosa\n",
              "4           5.0          3.6           1.4          0.2  setosa"
            ],
            "text/html": [
              "\n",
              "  <div id=\"df-14d395ca-1468-4645-8569-f62912415df3\" class=\"colab-df-container\">\n",
              "    <div>\n",
              "<style scoped>\n",
              "    .dataframe tbody tr th:only-of-type {\n",
              "        vertical-align: middle;\n",
              "    }\n",
              "\n",
              "    .dataframe tbody tr th {\n",
              "        vertical-align: top;\n",
              "    }\n",
              "\n",
              "    .dataframe thead th {\n",
              "        text-align: right;\n",
              "    }\n",
              "</style>\n",
              "<table border=\"1\" class=\"dataframe\">\n",
              "  <thead>\n",
              "    <tr style=\"text-align: right;\">\n",
              "      <th></th>\n",
              "      <th>sepal_length</th>\n",
              "      <th>sepal_width</th>\n",
              "      <th>petal_length</th>\n",
              "      <th>petal_width</th>\n",
              "      <th>species</th>\n",
              "    </tr>\n",
              "  </thead>\n",
              "  <tbody>\n",
              "    <tr>\n",
              "      <th>0</th>\n",
              "      <td>5.1</td>\n",
              "      <td>3.5</td>\n",
              "      <td>1.4</td>\n",
              "      <td>0.2</td>\n",
              "      <td>setosa</td>\n",
              "    </tr>\n",
              "    <tr>\n",
              "      <th>1</th>\n",
              "      <td>4.9</td>\n",
              "      <td>3.0</td>\n",
              "      <td>1.4</td>\n",
              "      <td>0.2</td>\n",
              "      <td>setosa</td>\n",
              "    </tr>\n",
              "    <tr>\n",
              "      <th>2</th>\n",
              "      <td>4.7</td>\n",
              "      <td>3.2</td>\n",
              "      <td>1.3</td>\n",
              "      <td>0.2</td>\n",
              "      <td>setosa</td>\n",
              "    </tr>\n",
              "    <tr>\n",
              "      <th>3</th>\n",
              "      <td>4.6</td>\n",
              "      <td>3.1</td>\n",
              "      <td>1.5</td>\n",
              "      <td>0.2</td>\n",
              "      <td>setosa</td>\n",
              "    </tr>\n",
              "    <tr>\n",
              "      <th>4</th>\n",
              "      <td>5.0</td>\n",
              "      <td>3.6</td>\n",
              "      <td>1.4</td>\n",
              "      <td>0.2</td>\n",
              "      <td>setosa</td>\n",
              "    </tr>\n",
              "  </tbody>\n",
              "</table>\n",
              "</div>\n",
              "    <div class=\"colab-df-buttons\">\n",
              "\n",
              "  <div class=\"colab-df-container\">\n",
              "    <button class=\"colab-df-convert\" onclick=\"convertToInteractive('df-14d395ca-1468-4645-8569-f62912415df3')\"\n",
              "            title=\"Convert this dataframe to an interactive table.\"\n",
              "            style=\"display:none;\">\n",
              "\n",
              "  <svg xmlns=\"http://www.w3.org/2000/svg\" height=\"24px\" viewBox=\"0 -960 960 960\">\n",
              "    <path d=\"M120-120v-720h720v720H120Zm60-500h600v-160H180v160Zm220 220h160v-160H400v160Zm0 220h160v-160H400v160ZM180-400h160v-160H180v160Zm440 0h160v-160H620v160ZM180-180h160v-160H180v160Zm440 0h160v-160H620v160Z\"/>\n",
              "  </svg>\n",
              "    </button>\n",
              "\n",
              "  <style>\n",
              "    .colab-df-container {\n",
              "      display:flex;\n",
              "      gap: 12px;\n",
              "    }\n",
              "\n",
              "    .colab-df-convert {\n",
              "      background-color: #E8F0FE;\n",
              "      border: none;\n",
              "      border-radius: 50%;\n",
              "      cursor: pointer;\n",
              "      display: none;\n",
              "      fill: #1967D2;\n",
              "      height: 32px;\n",
              "      padding: 0 0 0 0;\n",
              "      width: 32px;\n",
              "    }\n",
              "\n",
              "    .colab-df-convert:hover {\n",
              "      background-color: #E2EBFA;\n",
              "      box-shadow: 0px 1px 2px rgba(60, 64, 67, 0.3), 0px 1px 3px 1px rgba(60, 64, 67, 0.15);\n",
              "      fill: #174EA6;\n",
              "    }\n",
              "\n",
              "    .colab-df-buttons div {\n",
              "      margin-bottom: 4px;\n",
              "    }\n",
              "\n",
              "    [theme=dark] .colab-df-convert {\n",
              "      background-color: #3B4455;\n",
              "      fill: #D2E3FC;\n",
              "    }\n",
              "\n",
              "    [theme=dark] .colab-df-convert:hover {\n",
              "      background-color: #434B5C;\n",
              "      box-shadow: 0px 1px 3px 1px rgba(0, 0, 0, 0.15);\n",
              "      filter: drop-shadow(0px 1px 2px rgba(0, 0, 0, 0.3));\n",
              "      fill: #FFFFFF;\n",
              "    }\n",
              "  </style>\n",
              "\n",
              "    <script>\n",
              "      const buttonEl =\n",
              "        document.querySelector('#df-14d395ca-1468-4645-8569-f62912415df3 button.colab-df-convert');\n",
              "      buttonEl.style.display =\n",
              "        google.colab.kernel.accessAllowed ? 'block' : 'none';\n",
              "\n",
              "      async function convertToInteractive(key) {\n",
              "        const element = document.querySelector('#df-14d395ca-1468-4645-8569-f62912415df3');\n",
              "        const dataTable =\n",
              "          await google.colab.kernel.invokeFunction('convertToInteractive',\n",
              "                                                    [key], {});\n",
              "        if (!dataTable) return;\n",
              "\n",
              "        const docLinkHtml = 'Like what you see? Visit the ' +\n",
              "          '<a target=\"_blank\" href=https://colab.research.google.com/notebooks/data_table.ipynb>data table notebook</a>'\n",
              "          + ' to learn more about interactive tables.';\n",
              "        element.innerHTML = '';\n",
              "        dataTable['output_type'] = 'display_data';\n",
              "        await google.colab.output.renderOutput(dataTable, element);\n",
              "        const docLink = document.createElement('div');\n",
              "        docLink.innerHTML = docLinkHtml;\n",
              "        element.appendChild(docLink);\n",
              "      }\n",
              "    </script>\n",
              "  </div>\n",
              "\n",
              "\n",
              "<div id=\"df-add9376c-b79b-4f09-9370-eae43e991f90\">\n",
              "  <button class=\"colab-df-quickchart\" onclick=\"quickchart('df-add9376c-b79b-4f09-9370-eae43e991f90')\"\n",
              "            title=\"Suggest charts.\"\n",
              "            style=\"display:none;\">\n",
              "\n",
              "<svg xmlns=\"http://www.w3.org/2000/svg\" height=\"24px\"viewBox=\"0 0 24 24\"\n",
              "     width=\"24px\">\n",
              "    <g>\n",
              "        <path d=\"M19 3H5c-1.1 0-2 .9-2 2v14c0 1.1.9 2 2 2h14c1.1 0 2-.9 2-2V5c0-1.1-.9-2-2-2zM9 17H7v-7h2v7zm4 0h-2V7h2v10zm4 0h-2v-4h2v4z\"/>\n",
              "    </g>\n",
              "</svg>\n",
              "  </button>\n",
              "\n",
              "<style>\n",
              "  .colab-df-quickchart {\n",
              "      --bg-color: #E8F0FE;\n",
              "      --fill-color: #1967D2;\n",
              "      --hover-bg-color: #E2EBFA;\n",
              "      --hover-fill-color: #174EA6;\n",
              "      --disabled-fill-color: #AAA;\n",
              "      --disabled-bg-color: #DDD;\n",
              "  }\n",
              "\n",
              "  [theme=dark] .colab-df-quickchart {\n",
              "      --bg-color: #3B4455;\n",
              "      --fill-color: #D2E3FC;\n",
              "      --hover-bg-color: #434B5C;\n",
              "      --hover-fill-color: #FFFFFF;\n",
              "      --disabled-bg-color: #3B4455;\n",
              "      --disabled-fill-color: #666;\n",
              "  }\n",
              "\n",
              "  .colab-df-quickchart {\n",
              "    background-color: var(--bg-color);\n",
              "    border: none;\n",
              "    border-radius: 50%;\n",
              "    cursor: pointer;\n",
              "    display: none;\n",
              "    fill: var(--fill-color);\n",
              "    height: 32px;\n",
              "    padding: 0;\n",
              "    width: 32px;\n",
              "  }\n",
              "\n",
              "  .colab-df-quickchart:hover {\n",
              "    background-color: var(--hover-bg-color);\n",
              "    box-shadow: 0 1px 2px rgba(60, 64, 67, 0.3), 0 1px 3px 1px rgba(60, 64, 67, 0.15);\n",
              "    fill: var(--button-hover-fill-color);\n",
              "  }\n",
              "\n",
              "  .colab-df-quickchart-complete:disabled,\n",
              "  .colab-df-quickchart-complete:disabled:hover {\n",
              "    background-color: var(--disabled-bg-color);\n",
              "    fill: var(--disabled-fill-color);\n",
              "    box-shadow: none;\n",
              "  }\n",
              "\n",
              "  .colab-df-spinner {\n",
              "    border: 2px solid var(--fill-color);\n",
              "    border-color: transparent;\n",
              "    border-bottom-color: var(--fill-color);\n",
              "    animation:\n",
              "      spin 1s steps(1) infinite;\n",
              "  }\n",
              "\n",
              "  @keyframes spin {\n",
              "    0% {\n",
              "      border-color: transparent;\n",
              "      border-bottom-color: var(--fill-color);\n",
              "      border-left-color: var(--fill-color);\n",
              "    }\n",
              "    20% {\n",
              "      border-color: transparent;\n",
              "      border-left-color: var(--fill-color);\n",
              "      border-top-color: var(--fill-color);\n",
              "    }\n",
              "    30% {\n",
              "      border-color: transparent;\n",
              "      border-left-color: var(--fill-color);\n",
              "      border-top-color: var(--fill-color);\n",
              "      border-right-color: var(--fill-color);\n",
              "    }\n",
              "    40% {\n",
              "      border-color: transparent;\n",
              "      border-right-color: var(--fill-color);\n",
              "      border-top-color: var(--fill-color);\n",
              "    }\n",
              "    60% {\n",
              "      border-color: transparent;\n",
              "      border-right-color: var(--fill-color);\n",
              "    }\n",
              "    80% {\n",
              "      border-color: transparent;\n",
              "      border-right-color: var(--fill-color);\n",
              "      border-bottom-color: var(--fill-color);\n",
              "    }\n",
              "    90% {\n",
              "      border-color: transparent;\n",
              "      border-bottom-color: var(--fill-color);\n",
              "    }\n",
              "  }\n",
              "</style>\n",
              "\n",
              "  <script>\n",
              "    async function quickchart(key) {\n",
              "      const quickchartButtonEl =\n",
              "        document.querySelector('#' + key + ' button');\n",
              "      quickchartButtonEl.disabled = true;  // To prevent multiple clicks.\n",
              "      quickchartButtonEl.classList.add('colab-df-spinner');\n",
              "      try {\n",
              "        const charts = await google.colab.kernel.invokeFunction(\n",
              "            'suggestCharts', [key], {});\n",
              "      } catch (error) {\n",
              "        console.error('Error during call to suggestCharts:', error);\n",
              "      }\n",
              "      quickchartButtonEl.classList.remove('colab-df-spinner');\n",
              "      quickchartButtonEl.classList.add('colab-df-quickchart-complete');\n",
              "    }\n",
              "    (() => {\n",
              "      let quickchartButtonEl =\n",
              "        document.querySelector('#df-add9376c-b79b-4f09-9370-eae43e991f90 button');\n",
              "      quickchartButtonEl.style.display =\n",
              "        google.colab.kernel.accessAllowed ? 'block' : 'none';\n",
              "    })();\n",
              "  </script>\n",
              "</div>\n",
              "    </div>\n",
              "  </div>\n"
            ]
          },
          "metadata": {},
          "execution_count": 7
        }
      ]
    },
    {
      "cell_type": "code",
      "source": [
        "X=df.iloc[:,:-1]\n",
        "y=iris.target"
      ],
      "metadata": {
        "id": "sKBYHilySEmh"
      },
      "execution_count": null,
      "outputs": []
    },
    {
      "cell_type": "code",
      "source": [
        "from sklearn.model_selection import train_test_split\n",
        "X_train, X_test, y_train, y_test = train_test_split(\n",
        "     X, y, test_size=0.33, random_state=42)"
      ],
      "metadata": {
        "id": "5nLppkyBSTLA"
      },
      "execution_count": null,
      "outputs": []
    },
    {
      "cell_type": "code",
      "source": [
        "from sklearn.tree import DecisionTreeClassifier"
      ],
      "metadata": {
        "id": "6iHqvenCSa-i"
      },
      "execution_count": null,
      "outputs": []
    },
    {
      "cell_type": "code",
      "source": [
        "treemodel=DecisionTreeClassifier(max_depth=2)"
      ],
      "metadata": {
        "id": "n_1Od_eVTH5V"
      },
      "execution_count": null,
      "outputs": []
    },
    {
      "cell_type": "code",
      "source": [
        "treemodel.fit(X_train,y_train)"
      ],
      "metadata": {
        "colab": {
          "base_uri": "https://localhost:8080/",
          "height": 74
        },
        "id": "H_kA_3p9S8wr",
        "outputId": "ad9dd872-8a9f-4d9c-a2d8-82641552b875"
      },
      "execution_count": null,
      "outputs": [
        {
          "output_type": "execute_result",
          "data": {
            "text/plain": [
              "DecisionTreeClassifier(max_depth=2)"
            ],
            "text/html": [
              "<style>#sk-container-id-2 {color: black;background-color: white;}#sk-container-id-2 pre{padding: 0;}#sk-container-id-2 div.sk-toggleable {background-color: white;}#sk-container-id-2 label.sk-toggleable__label {cursor: pointer;display: block;width: 100%;margin-bottom: 0;padding: 0.3em;box-sizing: border-box;text-align: center;}#sk-container-id-2 label.sk-toggleable__label-arrow:before {content: \"▸\";float: left;margin-right: 0.25em;color: #696969;}#sk-container-id-2 label.sk-toggleable__label-arrow:hover:before {color: black;}#sk-container-id-2 div.sk-estimator:hover label.sk-toggleable__label-arrow:before {color: black;}#sk-container-id-2 div.sk-toggleable__content {max-height: 0;max-width: 0;overflow: hidden;text-align: left;background-color: #f0f8ff;}#sk-container-id-2 div.sk-toggleable__content pre {margin: 0.2em;color: black;border-radius: 0.25em;background-color: #f0f8ff;}#sk-container-id-2 input.sk-toggleable__control:checked~div.sk-toggleable__content {max-height: 200px;max-width: 100%;overflow: auto;}#sk-container-id-2 input.sk-toggleable__control:checked~label.sk-toggleable__label-arrow:before {content: \"▾\";}#sk-container-id-2 div.sk-estimator input.sk-toggleable__control:checked~label.sk-toggleable__label {background-color: #d4ebff;}#sk-container-id-2 div.sk-label input.sk-toggleable__control:checked~label.sk-toggleable__label {background-color: #d4ebff;}#sk-container-id-2 input.sk-hidden--visually {border: 0;clip: rect(1px 1px 1px 1px);clip: rect(1px, 1px, 1px, 1px);height: 1px;margin: -1px;overflow: hidden;padding: 0;position: absolute;width: 1px;}#sk-container-id-2 div.sk-estimator {font-family: monospace;background-color: #f0f8ff;border: 1px dotted black;border-radius: 0.25em;box-sizing: border-box;margin-bottom: 0.5em;}#sk-container-id-2 div.sk-estimator:hover {background-color: #d4ebff;}#sk-container-id-2 div.sk-parallel-item::after {content: \"\";width: 100%;border-bottom: 1px solid gray;flex-grow: 1;}#sk-container-id-2 div.sk-label:hover label.sk-toggleable__label {background-color: #d4ebff;}#sk-container-id-2 div.sk-serial::before {content: \"\";position: absolute;border-left: 1px solid gray;box-sizing: border-box;top: 0;bottom: 0;left: 50%;z-index: 0;}#sk-container-id-2 div.sk-serial {display: flex;flex-direction: column;align-items: center;background-color: white;padding-right: 0.2em;padding-left: 0.2em;position: relative;}#sk-container-id-2 div.sk-item {position: relative;z-index: 1;}#sk-container-id-2 div.sk-parallel {display: flex;align-items: stretch;justify-content: center;background-color: white;position: relative;}#sk-container-id-2 div.sk-item::before, #sk-container-id-2 div.sk-parallel-item::before {content: \"\";position: absolute;border-left: 1px solid gray;box-sizing: border-box;top: 0;bottom: 0;left: 50%;z-index: -1;}#sk-container-id-2 div.sk-parallel-item {display: flex;flex-direction: column;z-index: 1;position: relative;background-color: white;}#sk-container-id-2 div.sk-parallel-item:first-child::after {align-self: flex-end;width: 50%;}#sk-container-id-2 div.sk-parallel-item:last-child::after {align-self: flex-start;width: 50%;}#sk-container-id-2 div.sk-parallel-item:only-child::after {width: 0;}#sk-container-id-2 div.sk-dashed-wrapped {border: 1px dashed gray;margin: 0 0.4em 0.5em 0.4em;box-sizing: border-box;padding-bottom: 0.4em;background-color: white;}#sk-container-id-2 div.sk-label label {font-family: monospace;font-weight: bold;display: inline-block;line-height: 1.2em;}#sk-container-id-2 div.sk-label-container {text-align: center;}#sk-container-id-2 div.sk-container {/* jupyter's `normalize.less` sets `[hidden] { display: none; }` but bootstrap.min.css set `[hidden] { display: none !important; }` so we also need the `!important` here to be able to override the default hidden behavior on the sphinx rendered scikit-learn.org. See: https://github.com/scikit-learn/scikit-learn/issues/21755 */display: inline-block !important;position: relative;}#sk-container-id-2 div.sk-text-repr-fallback {display: none;}</style><div id=\"sk-container-id-2\" class=\"sk-top-container\"><div class=\"sk-text-repr-fallback\"><pre>DecisionTreeClassifier(max_depth=2)</pre><b>In a Jupyter environment, please rerun this cell to show the HTML representation or trust the notebook. <br />On GitHub, the HTML representation is unable to render, please try loading this page with nbviewer.org.</b></div><div class=\"sk-container\" hidden><div class=\"sk-item\"><div class=\"sk-estimator sk-toggleable\"><input class=\"sk-toggleable__control sk-hidden--visually\" id=\"sk-estimator-id-2\" type=\"checkbox\" checked><label for=\"sk-estimator-id-2\" class=\"sk-toggleable__label sk-toggleable__label-arrow\">DecisionTreeClassifier</label><div class=\"sk-toggleable__content\"><pre>DecisionTreeClassifier(max_depth=2)</pre></div></div></div></div></div>"
            ]
          },
          "metadata": {},
          "execution_count": 20
        }
      ]
    },
    {
      "cell_type": "code",
      "source": [
        "from sklearn import tree\n",
        "plt.figure(figsize=(15,10))\n",
        "tree.plot_tree(treemodel,filled=True)"
      ],
      "metadata": {
        "colab": {
          "base_uri": "https://localhost:8080/",
          "height": 581
        },
        "id": "pRpBINGOTV1_",
        "outputId": "9b2ba608-d4ff-47c4-ad2f-b9b796a0a0a4"
      },
      "execution_count": null,
      "outputs": [
        {
          "output_type": "execute_result",
          "data": {
            "text/plain": [
              "[Text(0.4, 0.8333333333333334, 'x[2] <= 2.45\\ngini = 0.666\\nsamples = 100\\nvalue = [31, 35, 34]'),\n",
              " Text(0.2, 0.5, 'gini = 0.0\\nsamples = 31\\nvalue = [31, 0, 0]'),\n",
              " Text(0.6, 0.5, 'x[3] <= 1.75\\ngini = 0.5\\nsamples = 69\\nvalue = [0, 35, 34]'),\n",
              " Text(0.4, 0.16666666666666666, 'gini = 0.188\\nsamples = 38\\nvalue = [0, 34, 4]'),\n",
              " Text(0.8, 0.16666666666666666, 'gini = 0.062\\nsamples = 31\\nvalue = [0, 1, 30]')]"
            ]
          },
          "metadata": {},
          "execution_count": 21
        },
        {
          "output_type": "display_data",
          "data": {
            "text/plain": [
              "<Figure size 1500x1000 with 1 Axes>"
            ],
            "image/png": "[encoded data removed]"
          },
          "metadata": {}
        }
      ]
    },
    {
      "cell_type": "code",
      "source": [
        "y_pred=treemodel.predict(X_test)"
      ],
      "metadata": {
        "id": "6d-waS0CaHyS",
        "colab": {
          "base_uri": "https://localhost:8080/",
          "height": 347
        },
        "outputId": "184d3ae8-8df3-4520-8819-5573c98cf366"
      },
      "execution_count": null,
      "outputs": [
        {
          "output_type": "error",
          "ename": "NotFittedError",
          "evalue": "ignored",
          "traceback": [
            "\u001b[0;31m---------------------------------------------------------------------------\u001b[0m",
            "\u001b[0;31mNotFittedError\u001b[0m                            Traceback (most recent call last)",
            "\u001b[0;32m<ipython-input-18-f1bf64a9cd3d>\u001b[0m in \u001b[0;36m<cell line: 1>\u001b[0;34m()\u001b[0m\n\u001b[0;32m----> 1\u001b[0;31m \u001b[0my_pred\u001b[0m\u001b[0;34m=\u001b[0m\u001b[0mtreemodel\u001b[0m\u001b[0;34m.\u001b[0m\u001b[0mpredict\u001b[0m\u001b[0;34m(\u001b[0m\u001b[0mX_test\u001b[0m\u001b[0;34m)\u001b[0m\u001b[0;34m\u001b[0m\u001b[0;34m\u001b[0m\u001b[0m\n\u001b[0m",
            "\u001b[0;32m/usr/local/lib/python3.10/dist-packages/sklearn/tree/_classes.py\u001b[0m in \u001b[0;36mpredict\u001b[0;34m(self, X, check_input)\u001b[0m\n\u001b[1;32m    423\u001b[0m             \u001b[0mThe\u001b[0m \u001b[0mpredicted\u001b[0m \u001b[0mclasses\u001b[0m\u001b[0;34m,\u001b[0m \u001b[0;32mor\u001b[0m \u001b[0mthe\u001b[0m \u001b[0mpredict\u001b[0m \u001b[0mvalues\u001b[0m\u001b[0;34m.\u001b[0m\u001b[0;34m\u001b[0m\u001b[0;34m\u001b[0m\u001b[0m\n\u001b[1;32m    424\u001b[0m         \"\"\"\n\u001b[0;32m--> 425\u001b[0;31m         \u001b[0mcheck_is_fitted\u001b[0m\u001b[0;34m(\u001b[0m\u001b[0mself\u001b[0m\u001b[0;34m)\u001b[0m\u001b[0;34m\u001b[0m\u001b[0;34m\u001b[0m\u001b[0m\n\u001b[0m\u001b[1;32m    426\u001b[0m         \u001b[0mX\u001b[0m \u001b[0;34m=\u001b[0m \u001b[0mself\u001b[0m\u001b[0;34m.\u001b[0m\u001b[0m_validate_X_predict\u001b[0m\u001b[0;34m(\u001b[0m\u001b[0mX\u001b[0m\u001b[0;34m,\u001b[0m \u001b[0mcheck_input\u001b[0m\u001b[0;34m)\u001b[0m\u001b[0;34m\u001b[0m\u001b[0;34m\u001b[0m\u001b[0m\n\u001b[1;32m    427\u001b[0m         \u001b[0mproba\u001b[0m \u001b[0;34m=\u001b[0m \u001b[0mself\u001b[0m\u001b[0;34m.\u001b[0m\u001b[0mtree_\u001b[0m\u001b[0;34m.\u001b[0m\u001b[0mpredict\u001b[0m\u001b[0;34m(\u001b[0m\u001b[0mX\u001b[0m\u001b[0;34m)\u001b[0m\u001b[0;34m\u001b[0m\u001b[0;34m\u001b[0m\u001b[0m\n",
            "\u001b[0;32m/usr/local/lib/python3.10/dist-packages/sklearn/utils/validation.py\u001b[0m in \u001b[0;36mcheck_is_fitted\u001b[0;34m(estimator, attributes, msg, all_or_any)\u001b[0m\n\u001b[1;32m   1388\u001b[0m \u001b[0;34m\u001b[0m\u001b[0m\n\u001b[1;32m   1389\u001b[0m     \u001b[0;32mif\u001b[0m \u001b[0;32mnot\u001b[0m \u001b[0mfitted\u001b[0m\u001b[0;34m:\u001b[0m\u001b[0;34m\u001b[0m\u001b[0;34m\u001b[0m\u001b[0m\n\u001b[0;32m-> 1390\u001b[0;31m         \u001b[0;32mraise\u001b[0m \u001b[0mNotFittedError\u001b[0m\u001b[0;34m(\u001b[0m\u001b[0mmsg\u001b[0m \u001b[0;34m%\u001b[0m \u001b[0;34m{\u001b[0m\u001b[0;34m\"name\"\u001b[0m\u001b[0;34m:\u001b[0m \u001b[0mtype\u001b[0m\u001b[0;34m(\u001b[0m\u001b[0mestimator\u001b[0m\u001b[0;34m)\u001b[0m\u001b[0;34m.\u001b[0m\u001b[0m__name__\u001b[0m\u001b[0;34m}\u001b[0m\u001b[0;34m)\u001b[0m\u001b[0;34m\u001b[0m\u001b[0;34m\u001b[0m\u001b[0m\n\u001b[0m\u001b[1;32m   1391\u001b[0m \u001b[0;34m\u001b[0m\u001b[0m\n\u001b[1;32m   1392\u001b[0m \u001b[0;34m\u001b[0m\u001b[0m\n",
            "\u001b[0;31mNotFittedError\u001b[0m: This DecisionTreeClassifier instance is not fitted yet. Call 'fit' with appropriate arguments before using this estimator."
          ]
        }
      ]
    },
    {
      "cell_type": "code",
      "source": [
        "y_pred"
      ],
      "metadata": {
        "colab": {
          "base_uri": "https://localhost:8080/"
        },
        "id": "8hXURbwzaLBI",
        "outputId": "3c4be896-258f-44b8-8515-cb18f62810d0"
      },
      "execution_count": null,
      "outputs": [
        {
          "output_type": "execute_result",
          "data": {
            "text/plain": [
              "array([1, 0, 2, 1, 1, 0, 1, 2, 1, 1, 2, 0, 0, 0, 0, 1, 2, 1, 1, 2, 0, 2,\n",
              "       0, 2, 2, 2, 2, 2, 0, 0, 0, 0, 1, 0, 0, 2, 1, 0, 0, 0, 2, 1, 1, 0,\n",
              "       0, 1, 1, 2, 1, 2])"
            ]
          },
          "metadata": {},
          "execution_count": 23
        }
      ]
    },
    {
      "cell_type": "code",
      "source": [
        "from sklearn.metrics import accuracy_score,classification_report\n"
      ],
      "metadata": {
        "id": "0GM4ISmpaPAp"
      },
      "execution_count": null,
      "outputs": []
    },
    {
      "cell_type": "code",
      "source": [
        "score=accuracy_score(y_pred,y_test)\n",
        "print(score)"
      ],
      "metadata": {
        "colab": {
          "base_uri": "https://localhost:8080/"
        },
        "id": "4fXD-rT8aTBq",
        "outputId": "9ed3fb36-d98e-4999-8337-a65d67e69264"
      },
      "execution_count": null,
      "outputs": [
        {
          "output_type": "stream",
          "name": "stdout",
          "text": [
            "0.98\n"
          ]
        }
      ]
    },
    {
      "cell_type": "code",
      "source": [
        "print(classification_report(y_pred,y_test))"
      ],
      "metadata": {
        "id": "nHziMV4iaYD6",
        "outputId": "31a99b0a-5832-4455-a1b8-9bcbbcc120a6",
        "colab": {
          "base_uri": "https://localhost:8080/"
        }
      },
      "execution_count": null,
      "outputs": [
        {
          "output_type": "stream",
          "name": "stdout",
          "text": [
            "              precision    recall  f1-score   support\n",
            "\n",
            "           0       1.00      1.00      1.00        19\n",
            "           1       1.00      0.94      0.97        16\n",
            "           2       0.94      1.00      0.97        15\n",
            "\n",
            "    accuracy                           0.98        50\n",
            "   macro avg       0.98      0.98      0.98        50\n",
            "weighted avg       0.98      0.98      0.98        50\n",
            "\n"
          ]
        }
      ]
    },
    {
      "cell_type": "markdown",
      "source": [
        "Decision tree with prepruning"
      ],
      "metadata": {
        "id": "4Tps9HSqYWW9"
      }
    },
    {
      "cell_type": "code",
      "source": [
        "parameter={\n",
        " 'criterion':['gini','entropy','log_loss'],\n",
        "  'splitter':['best','random'],\n",
        "  'max_depth':[1,2,3,4,5],\n",
        "  'max_features':['auto', 'sqrt', 'log2']\n",
        "\n",
        "}"
      ],
      "metadata": {
        "id": "HYfZKkzJYZqt"
      },
      "execution_count": null,
      "outputs": []
    },
    {
      "cell_type": "code",
      "source": [
        "from sklearn.model_selection import GridSearchCV\n"
      ],
      "metadata": {
        "id": "oGmE5re3cfC1"
      },
      "execution_count": null,
      "outputs": []
    },
    {
      "cell_type": "code",
      "source": [
        "treemodel=DecisionTreeClassifier()\n",
        "cv=GridSearchCV(treemodel,param_grid=parameter,cv=5,scoring='accuracy')\n"
      ],
      "metadata": {
        "id": "kB1epZrrcfe0"
      },
      "execution_count": null,
      "outputs": []
    },
    {
      "cell_type": "code",
      "source": [
        "cv.fit(X_train,y_train)\n"
      ],
      "metadata": {
        "colab": {
          "base_uri": "https://localhost:8080/",
          "height": 1000
        },
        "id": "pZrcJ4-EcqRi",
        "outputId": "08612cf1-1e76-4bf6-daf6-9abc221520a2"
      },
      "execution_count": null,
      "outputs": [
        {
          "output_type": "stream",
          "name": "stderr",
          "text": [
            "/usr/local/lib/python3.10/dist-packages/sklearn/tree/_classes.py:269: FutureWarning: `max_features='auto'` has been deprecated in 1.1 and will be removed in 1.3. To keep the past behaviour, explicitly set `max_features='sqrt'`.\n",
            "  warnings.warn(\n",
            "/usr/local/lib/python3.10/dist-packages/sklearn/tree/_classes.py:269: FutureWarning: `max_features='auto'` has been deprecated in 1.1 and will be removed in 1.3. To keep the past behaviour, explicitly set `max_features='sqrt'`.\n",
            "  warnings.warn(\n",
            "/usr/local/lib/python3.10/dist-packages/sklearn/tree/_classes.py:269: FutureWarning: `max_features='auto'` has been deprecated in 1.1 and will be removed in 1.3. To keep the past behaviour, explicitly set `max_features='sqrt'`.\n",
            "  warnings.warn(\n",
            "/usr/local/lib/python3.10/dist-packages/sklearn/tree/_classes.py:269: FutureWarning: `max_features='auto'` has been deprecated in 1.1 and will be removed in 1.3. To keep the past behaviour, explicitly set `max_features='sqrt'`.\n",
            "  warnings.warn(\n",
            "/usr/local/lib/python3.10/dist-packages/sklearn/tree/_classes.py:269: FutureWarning: `max_features='auto'` has been deprecated in 1.1 and will be removed in 1.3. To keep the past behaviour, explicitly set `max_features='sqrt'`.\n",
            "  warnings.warn(\n",
            "/usr/local/lib/python3.10/dist-packages/sklearn/tree/_classes.py:269: FutureWarning: `max_features='auto'` has been deprecated in 1.1 and will be removed in 1.3. To keep the past behaviour, explicitly set `max_features='sqrt'`.\n",
            "  warnings.warn(\n",
            "/usr/local/lib/python3.10/dist-packages/sklearn/tree/_classes.py:269: FutureWarning: `max_features='auto'` has been deprecated in 1.1 and will be removed in 1.3. To keep the past behaviour, explicitly set `max_features='sqrt'`.\n",
            "  warnings.warn(\n",
            "/usr/local/lib/python3.10/dist-packages/sklearn/tree/_classes.py:269: FutureWarning: `max_features='auto'` has been deprecated in 1.1 and will be removed in 1.3. To keep the past behaviour, explicitly set `max_features='sqrt'`.\n",
            "  warnings.warn(\n",
            "/usr/local/lib/python3.10/dist-packages/sklearn/tree/_classes.py:269: FutureWarning: `max_features='auto'` has been deprecated in 1.1 and will be removed in 1.3. To keep the past behaviour, explicitly set `max_features='sqrt'`.\n",
            "  warnings.warn(\n",
            "/usr/local/lib/python3.10/dist-packages/sklearn/tree/_classes.py:269: FutureWarning: `max_features='auto'` has been deprecated in 1.1 and will be removed in 1.3. To keep the past behaviour, explicitly set `max_features='sqrt'`.\n",
            "  warnings.warn(\n",
            "/usr/local/lib/python3.10/dist-packages/sklearn/tree/_classes.py:269: FutureWarning: `max_features='auto'` has been deprecated in 1.1 and will be removed in 1.3. To keep the past behaviour, explicitly set `max_features='sqrt'`.\n",
            "  warnings.warn(\n",
            "/usr/local/lib/python3.10/dist-packages/sklearn/tree/_classes.py:269: FutureWarning: `max_features='auto'` has been deprecated in 1.1 and will be removed in 1.3. To keep the past behaviour, explicitly set `max_features='sqrt'`.\n",
            "  warnings.warn(\n",
            "/usr/local/lib/python3.10/dist-packages/sklearn/tree/_classes.py:269: FutureWarning: `max_features='auto'` has been deprecated in 1.1 and will be removed in 1.3. To keep the past behaviour, explicitly set `max_features='sqrt'`.\n",
            "  warnings.warn(\n",
            "/usr/local/lib/python3.10/dist-packages/sklearn/tree/_classes.py:269: FutureWarning: `max_features='auto'` has been deprecated in 1.1 and will be removed in 1.3. To keep the past behaviour, explicitly set `max_features='sqrt'`.\n",
            "  warnings.warn(\n",
            "/usr/local/lib/python3.10/dist-packages/sklearn/tree/_classes.py:269: FutureWarning: `max_features='auto'` has been deprecated in 1.1 and will be removed in 1.3. To keep the past behaviour, explicitly set `max_features='sqrt'`.\n",
            "  warnings.warn(\n",
            "/usr/local/lib/python3.10/dist-packages/sklearn/tree/_classes.py:269: FutureWarning: `max_features='auto'` has been deprecated in 1.1 and will be removed in 1.3. To keep the past behaviour, explicitly set `max_features='sqrt'`.\n",
            "  warnings.warn(\n",
            "/usr/local/lib/python3.10/dist-packages/sklearn/tree/_classes.py:269: FutureWarning: `max_features='auto'` has been deprecated in 1.1 and will be removed in 1.3. To keep the past behaviour, explicitly set `max_features='sqrt'`.\n",
            "  warnings.warn(\n",
            "/usr/local/lib/python3.10/dist-packages/sklearn/tree/_classes.py:269: FutureWarning: `max_features='auto'` has been deprecated in 1.1 and will be removed in 1.3. To keep the past behaviour, explicitly set `max_features='sqrt'`.\n",
            "  warnings.warn(\n",
            "/usr/local/lib/python3.10/dist-packages/sklearn/tree/_classes.py:269: FutureWarning: `max_features='auto'` has been deprecated in 1.1 and will be removed in 1.3. To keep the past behaviour, explicitly set `max_features='sqrt'`.\n",
            "  warnings.warn(\n",
            "/usr/local/lib/python3.10/dist-packages/sklearn/tree/_classes.py:269: FutureWarning: `max_features='auto'` has been deprecated in 1.1 and will be removed in 1.3. To keep the past behaviour, explicitly set `max_features='sqrt'`.\n",
            "  warnings.warn(\n",
            "/usr/local/lib/python3.10/dist-packages/sklearn/tree/_classes.py:269: FutureWarning: `max_features='auto'` has been deprecated in 1.1 and will be removed in 1.3. To keep the past behaviour, explicitly set `max_features='sqrt'`.\n",
            "  warnings.warn(\n",
            "/usr/local/lib/python3.10/dist-packages/sklearn/tree/_classes.py:269: FutureWarning: `max_features='auto'` has been deprecated in 1.1 and will be removed in 1.3. To keep the past behaviour, explicitly set `max_features='sqrt'`.\n",
            "  warnings.warn(\n",
            "/usr/local/lib/python3.10/dist-packages/sklearn/tree/_classes.py:269: FutureWarning: `max_features='auto'` has been deprecated in 1.1 and will be removed in 1.3. To keep the past behaviour, explicitly set `max_features='sqrt'`.\n",
            "  warnings.warn(\n",
            "/usr/local/lib/python3.10/dist-packages/sklearn/tree/_classes.py:269: FutureWarning: `max_features='auto'` has been deprecated in 1.1 and will be removed in 1.3. To keep the past behaviour, explicitly set `max_features='sqrt'`.\n",
            "  warnings.warn(\n",
            "/usr/local/lib/python3.10/dist-packages/sklearn/tree/_classes.py:269: FutureWarning: `max_features='auto'` has been deprecated in 1.1 and will be removed in 1.3. To keep the past behaviour, explicitly set `max_features='sqrt'`.\n",
            "  warnings.warn(\n",
            "/usr/local/lib/python3.10/dist-packages/sklearn/tree/_classes.py:269: FutureWarning: `max_features='auto'` has been deprecated in 1.1 and will be removed in 1.3. To keep the past behaviour, explicitly set `max_features='sqrt'`.\n",
            "  warnings.warn(\n",
            "/usr/local/lib/python3.10/dist-packages/sklearn/tree/_classes.py:269: FutureWarning: `max_features='auto'` has been deprecated in 1.1 and will be removed in 1.3. To keep the past behaviour, explicitly set `max_features='sqrt'`.\n",
            "  warnings.warn(\n",
            "/usr/local/lib/python3.10/dist-packages/sklearn/tree/_classes.py:269: FutureWarning: `max_features='auto'` has been deprecated in 1.1 and will be removed in 1.3. To keep the past behaviour, explicitly set `max_features='sqrt'`.\n",
            "  warnings.warn(\n",
            "/usr/local/lib/python3.10/dist-packages/sklearn/tree/_classes.py:269: FutureWarning: `max_features='auto'` has been deprecated in 1.1 and will be removed in 1.3. To keep the past behaviour, explicitly set `max_features='sqrt'`.\n",
            "  warnings.warn(\n",
            "/usr/local/lib/python3.10/dist-packages/sklearn/tree/_classes.py:269: FutureWarning: `max_features='auto'` has been deprecated in 1.1 and will be removed in 1.3. To keep the past behaviour, explicitly set `max_features='sqrt'`.\n",
            "  warnings.warn(\n",
            "/usr/local/lib/python3.10/dist-packages/sklearn/tree/_classes.py:269: FutureWarning: `max_features='auto'` has been deprecated in 1.1 and will be removed in 1.3. To keep the past behaviour, explicitly set `max_features='sqrt'`.\n",
            "  warnings.warn(\n",
            "/usr/local/lib/python3.10/dist-packages/sklearn/tree/_classes.py:269: FutureWarning: `max_features='auto'` has been deprecated in 1.1 and will be removed in 1.3. To keep the past behaviour, explicitly set `max_features='sqrt'`.\n",
            "  warnings.warn(\n",
            "/usr/local/lib/python3.10/dist-packages/sklearn/tree/_classes.py:269: FutureWarning: `max_features='auto'` has been deprecated in 1.1 and will be removed in 1.3. To keep the past behaviour, explicitly set `max_features='sqrt'`.\n",
            "  warnings.warn(\n",
            "/usr/local/lib/python3.10/dist-packages/sklearn/tree/_classes.py:269: FutureWarning: `max_features='auto'` has been deprecated in 1.1 and will be removed in 1.3. To keep the past behaviour, explicitly set `max_features='sqrt'`.\n",
            "  warnings.warn(\n",
            "/usr/local/lib/python3.10/dist-packages/sklearn/tree/_classes.py:269: FutureWarning: `max_features='auto'` has been deprecated in 1.1 and will be removed in 1.3. To keep the past behaviour, explicitly set `max_features='sqrt'`.\n",
            "  warnings.warn(\n",
            "/usr/local/lib/python3.10/dist-packages/sklearn/tree/_classes.py:269: FutureWarning: `max_features='auto'` has been deprecated in 1.1 and will be removed in 1.3. To keep the past behaviour, explicitly set `max_features='sqrt'`.\n",
            "  warnings.warn(\n",
            "/usr/local/lib/python3.10/dist-packages/sklearn/tree/_classes.py:269: FutureWarning: `max_features='auto'` has been deprecated in 1.1 and will be removed in 1.3. To keep the past behaviour, explicitly set `max_features='sqrt'`.\n",
            "  warnings.warn(\n",
            "/usr/local/lib/python3.10/dist-packages/sklearn/tree/_classes.py:269: FutureWarning: `max_features='auto'` has been deprecated in 1.1 and will be removed in 1.3. To keep the past behaviour, explicitly set `max_features='sqrt'`.\n",
            "  warnings.warn(\n",
            "/usr/local/lib/python3.10/dist-packages/sklearn/tree/_classes.py:269: FutureWarning: `max_features='auto'` has been deprecated in 1.1 and will be removed in 1.3. To keep the past behaviour, explicitly set `max_features='sqrt'`.\n",
            "  warnings.warn(\n",
            "/usr/local/lib/python3.10/dist-packages/sklearn/tree/_classes.py:269: FutureWarning: `max_features='auto'` has been deprecated in 1.1 and will be removed in 1.3. To keep the past behaviour, explicitly set `max_features='sqrt'`.\n",
            "  warnings.warn(\n",
            "/usr/local/lib/python3.10/dist-packages/sklearn/tree/_classes.py:269: FutureWarning: `max_features='auto'` has been deprecated in 1.1 and will be removed in 1.3. To keep the past behaviour, explicitly set `max_features='sqrt'`.\n",
            "  warnings.warn(\n",
            "/usr/local/lib/python3.10/dist-packages/sklearn/tree/_classes.py:269: FutureWarning: `max_features='auto'` has been deprecated in 1.1 and will be removed in 1.3. To keep the past behaviour, explicitly set `max_features='sqrt'`.\n",
            "  warnings.warn(\n",
            "/usr/local/lib/python3.10/dist-packages/sklearn/tree/_classes.py:269: FutureWarning: `max_features='auto'` has been deprecated in 1.1 and will be removed in 1.3. To keep the past behaviour, explicitly set `max_features='sqrt'`.\n",
            "  warnings.warn(\n",
            "/usr/local/lib/python3.10/dist-packages/sklearn/tree/_classes.py:269: FutureWarning: `max_features='auto'` has been deprecated in 1.1 and will be removed in 1.3. To keep the past behaviour, explicitly set `max_features='sqrt'`.\n",
            "  warnings.warn(\n",
            "/usr/local/lib/python3.10/dist-packages/sklearn/tree/_classes.py:269: FutureWarning: `max_features='auto'` has been deprecated in 1.1 and will be removed in 1.3. To keep the past behaviour, explicitly set `max_features='sqrt'`.\n",
            "  warnings.warn(\n",
            "/usr/local/lib/python3.10/dist-packages/sklearn/tree/_classes.py:269: FutureWarning: `max_features='auto'` has been deprecated in 1.1 and will be removed in 1.3. To keep the past behaviour, explicitly set `max_features='sqrt'`.\n",
            "  warnings.warn(\n",
            "/usr/local/lib/python3.10/dist-packages/sklearn/tree/_classes.py:269: FutureWarning: `max_features='auto'` has been deprecated in 1.1 and will be removed in 1.3. To keep the past behaviour, explicitly set `max_features='sqrt'`.\n",
            "  warnings.warn(\n",
            "/usr/local/lib/python3.10/dist-packages/sklearn/tree/_classes.py:269: FutureWarning: `max_features='auto'` has been deprecated in 1.1 and will be removed in 1.3. To keep the past behaviour, explicitly set `max_features='sqrt'`.\n",
            "  warnings.warn(\n",
            "/usr/local/lib/python3.10/dist-packages/sklearn/tree/_classes.py:269: FutureWarning: `max_features='auto'` has been deprecated in 1.1 and will be removed in 1.3. To keep the past behaviour, explicitly set `max_features='sqrt'`.\n",
            "  warnings.warn(\n",
            "/usr/local/lib/python3.10/dist-packages/sklearn/tree/_classes.py:269: FutureWarning: `max_features='auto'` has been deprecated in 1.1 and will be removed in 1.3. To keep the past behaviour, explicitly set `max_features='sqrt'`.\n",
            "  warnings.warn(\n",
            "/usr/local/lib/python3.10/dist-packages/sklearn/tree/_classes.py:269: FutureWarning: `max_features='auto'` has been deprecated in 1.1 and will be removed in 1.3. To keep the past behaviour, explicitly set `max_features='sqrt'`.\n",
            "  warnings.warn(\n",
            "/usr/local/lib/python3.10/dist-packages/sklearn/tree/_classes.py:269: FutureWarning: `max_features='auto'` has been deprecated in 1.1 and will be removed in 1.3. To keep the past behaviour, explicitly set `max_features='sqrt'`.\n",
            "  warnings.warn(\n",
            "/usr/local/lib/python3.10/dist-packages/sklearn/tree/_classes.py:269: FutureWarning: `max_features='auto'` has been deprecated in 1.1 and will be removed in 1.3. To keep the past behaviour, explicitly set `max_features='sqrt'`.\n",
            "  warnings.warn(\n",
            "/usr/local/lib/python3.10/dist-packages/sklearn/tree/_classes.py:269: FutureWarning: `max_features='auto'` has been deprecated in 1.1 and will be removed in 1.3. To keep the past behaviour, explicitly set `max_features='sqrt'`.\n",
            "  warnings.warn(\n",
            "/usr/local/lib/python3.10/dist-packages/sklearn/tree/_classes.py:269: FutureWarning: `max_features='auto'` has been deprecated in 1.1 and will be removed in 1.3. To keep the past behaviour, explicitly set `max_features='sqrt'`.\n",
            "  warnings.warn(\n",
            "/usr/local/lib/python3.10/dist-packages/sklearn/tree/_classes.py:269: FutureWarning: `max_features='auto'` has been deprecated in 1.1 and will be removed in 1.3. To keep the past behaviour, explicitly set `max_features='sqrt'`.\n",
            "  warnings.warn(\n",
            "/usr/local/lib/python3.10/dist-packages/sklearn/tree/_classes.py:269: FutureWarning: `max_features='auto'` has been deprecated in 1.1 and will be removed in 1.3. To keep the past behaviour, explicitly set `max_features='sqrt'`.\n",
            "  warnings.warn(\n",
            "/usr/local/lib/python3.10/dist-packages/sklearn/tree/_classes.py:269: FutureWarning: `max_features='auto'` has been deprecated in 1.1 and will be removed in 1.3. To keep the past behaviour, explicitly set `max_features='sqrt'`.\n",
            "  warnings.warn(\n",
            "/usr/local/lib/python3.10/dist-packages/sklearn/tree/_classes.py:269: FutureWarning: `max_features='auto'` has been deprecated in 1.1 and will be removed in 1.3. To keep the past behaviour, explicitly set `max_features='sqrt'`.\n",
            "  warnings.warn(\n",
            "/usr/local/lib/python3.10/dist-packages/sklearn/tree/_classes.py:269: FutureWarning: `max_features='auto'` has been deprecated in 1.1 and will be removed in 1.3. To keep the past behaviour, explicitly set `max_features='sqrt'`.\n",
            "  warnings.warn(\n",
            "/usr/local/lib/python3.10/dist-packages/sklearn/tree/_classes.py:269: FutureWarning: `max_features='auto'` has been deprecated in 1.1 and will be removed in 1.3. To keep the past behaviour, explicitly set `max_features='sqrt'`.\n",
            "  warnings.warn(\n",
            "/usr/local/lib/python3.10/dist-packages/sklearn/tree/_classes.py:269: FutureWarning: `max_features='auto'` has been deprecated in 1.1 and will be removed in 1.3. To keep the past behaviour, explicitly set `max_features='sqrt'`.\n",
            "  warnings.warn(\n",
            "/usr/local/lib/python3.10/dist-packages/sklearn/tree/_classes.py:269: FutureWarning: `max_features='auto'` has been deprecated in 1.1 and will be removed in 1.3. To keep the past behaviour, explicitly set `max_features='sqrt'`.\n",
            "  warnings.warn(\n",
            "/usr/local/lib/python3.10/dist-packages/sklearn/tree/_classes.py:269: FutureWarning: `max_features='auto'` has been deprecated in 1.1 and will be removed in 1.3. To keep the past behaviour, explicitly set `max_features='sqrt'`.\n",
            "  warnings.warn(\n",
            "/usr/local/lib/python3.10/dist-packages/sklearn/tree/_classes.py:269: FutureWarning: `max_features='auto'` has been deprecated in 1.1 and will be removed in 1.3. To keep the past behaviour, explicitly set `max_features='sqrt'`.\n",
            "  warnings.warn(\n",
            "/usr/local/lib/python3.10/dist-packages/sklearn/tree/_classes.py:269: FutureWarning: `max_features='auto'` has been deprecated in 1.1 and will be removed in 1.3. To keep the past behaviour, explicitly set `max_features='sqrt'`.\n",
            "  warnings.warn(\n",
            "/usr/local/lib/python3.10/dist-packages/sklearn/tree/_classes.py:269: FutureWarning: `max_features='auto'` has been deprecated in 1.1 and will be removed in 1.3. To keep the past behaviour, explicitly set `max_features='sqrt'`.\n",
            "  warnings.warn(\n",
            "/usr/local/lib/python3.10/dist-packages/sklearn/tree/_classes.py:269: FutureWarning: `max_features='auto'` has been deprecated in 1.1 and will be removed in 1.3. To keep the past behaviour, explicitly set `max_features='sqrt'`.\n",
            "  warnings.warn(\n",
            "/usr/local/lib/python3.10/dist-packages/sklearn/tree/_classes.py:269: FutureWarning: `max_features='auto'` has been deprecated in 1.1 and will be removed in 1.3. To keep the past behaviour, explicitly set `max_features='sqrt'`.\n",
            "  warnings.warn(\n",
            "/usr/local/lib/python3.10/dist-packages/sklearn/tree/_classes.py:269: FutureWarning: `max_features='auto'` has been deprecated in 1.1 and will be removed in 1.3. To keep the past behaviour, explicitly set `max_features='sqrt'`.\n",
            "  warnings.warn(\n",
            "/usr/local/lib/python3.10/dist-packages/sklearn/tree/_classes.py:269: FutureWarning: `max_features='auto'` has been deprecated in 1.1 and will be removed in 1.3. To keep the past behaviour, explicitly set `max_features='sqrt'`.\n",
            "  warnings.warn(\n",
            "/usr/local/lib/python3.10/dist-packages/sklearn/tree/_classes.py:269: FutureWarning: `max_features='auto'` has been deprecated in 1.1 and will be removed in 1.3. To keep the past behaviour, explicitly set `max_features='sqrt'`.\n",
            "  warnings.warn(\n",
            "/usr/local/lib/python3.10/dist-packages/sklearn/tree/_classes.py:269: FutureWarning: `max_features='auto'` has been deprecated in 1.1 and will be removed in 1.3. To keep the past behaviour, explicitly set `max_features='sqrt'`.\n",
            "  warnings.warn(\n",
            "/usr/local/lib/python3.10/dist-packages/sklearn/tree/_classes.py:269: FutureWarning: `max_features='auto'` has been deprecated in 1.1 and will be removed in 1.3. To keep the past behaviour, explicitly set `max_features='sqrt'`.\n",
            "  warnings.warn(\n",
            "/usr/local/lib/python3.10/dist-packages/sklearn/tree/_classes.py:269: FutureWarning: `max_features='auto'` has been deprecated in 1.1 and will be removed in 1.3. To keep the past behaviour, explicitly set `max_features='sqrt'`.\n",
            "  warnings.warn(\n",
            "/usr/local/lib/python3.10/dist-packages/sklearn/tree/_classes.py:269: FutureWarning: `max_features='auto'` has been deprecated in 1.1 and will be removed in 1.3. To keep the past behaviour, explicitly set `max_features='sqrt'`.\n",
            "  warnings.warn(\n",
            "/usr/local/lib/python3.10/dist-packages/sklearn/tree/_classes.py:269: FutureWarning: `max_features='auto'` has been deprecated in 1.1 and will be removed in 1.3. To keep the past behaviour, explicitly set `max_features='sqrt'`.\n",
            "  warnings.warn(\n",
            "/usr/local/lib/python3.10/dist-packages/sklearn/tree/_classes.py:269: FutureWarning: `max_features='auto'` has been deprecated in 1.1 and will be removed in 1.3. To keep the past behaviour, explicitly set `max_features='sqrt'`.\n",
            "  warnings.warn(\n",
            "/usr/local/lib/python3.10/dist-packages/sklearn/tree/_classes.py:269: FutureWarning: `max_features='auto'` has been deprecated in 1.1 and will be removed in 1.3. To keep the past behaviour, explicitly set `max_features='sqrt'`.\n",
            "  warnings.warn(\n",
            "/usr/local/lib/python3.10/dist-packages/sklearn/tree/_classes.py:269: FutureWarning: `max_features='auto'` has been deprecated in 1.1 and will be removed in 1.3. To keep the past behaviour, explicitly set `max_features='sqrt'`.\n",
            "  warnings.warn(\n",
            "/usr/local/lib/python3.10/dist-packages/sklearn/tree/_classes.py:269: FutureWarning: `max_features='auto'` has been deprecated in 1.1 and will be removed in 1.3. To keep the past behaviour, explicitly set `max_features='sqrt'`.\n",
            "  warnings.warn(\n",
            "/usr/local/lib/python3.10/dist-packages/sklearn/tree/_classes.py:269: FutureWarning: `max_features='auto'` has been deprecated in 1.1 and will be removed in 1.3. To keep the past behaviour, explicitly set `max_features='sqrt'`.\n",
            "  warnings.warn(\n",
            "/usr/local/lib/python3.10/dist-packages/sklearn/tree/_classes.py:269: FutureWarning: `max_features='auto'` has been deprecated in 1.1 and will be removed in 1.3. To keep the past behaviour, explicitly set `max_features='sqrt'`.\n",
            "  warnings.warn(\n",
            "/usr/local/lib/python3.10/dist-packages/sklearn/tree/_classes.py:269: FutureWarning: `max_features='auto'` has been deprecated in 1.1 and will be removed in 1.3. To keep the past behaviour, explicitly set `max_features='sqrt'`.\n",
            "  warnings.warn(\n",
            "/usr/local/lib/python3.10/dist-packages/sklearn/tree/_classes.py:269: FutureWarning: `max_features='auto'` has been deprecated in 1.1 and will be removed in 1.3. To keep the past behaviour, explicitly set `max_features='sqrt'`.\n",
            "  warnings.warn(\n",
            "/usr/local/lib/python3.10/dist-packages/sklearn/tree/_classes.py:269: FutureWarning: `max_features='auto'` has been deprecated in 1.1 and will be removed in 1.3. To keep the past behaviour, explicitly set `max_features='sqrt'`.\n",
            "  warnings.warn(\n",
            "/usr/local/lib/python3.10/dist-packages/sklearn/tree/_classes.py:269: FutureWarning: `max_features='auto'` has been deprecated in 1.1 and will be removed in 1.3. To keep the past behaviour, explicitly set `max_features='sqrt'`.\n",
            "  warnings.warn(\n",
            "/usr/local/lib/python3.10/dist-packages/sklearn/tree/_classes.py:269: FutureWarning: `max_features='auto'` has been deprecated in 1.1 and will be removed in 1.3. To keep the past behaviour, explicitly set `max_features='sqrt'`.\n",
            "  warnings.warn(\n",
            "/usr/local/lib/python3.10/dist-packages/sklearn/tree/_classes.py:269: FutureWarning: `max_features='auto'` has been deprecated in 1.1 and will be removed in 1.3. To keep the past behaviour, explicitly set `max_features='sqrt'`.\n",
            "  warnings.warn(\n",
            "/usr/local/lib/python3.10/dist-packages/sklearn/tree/_classes.py:269: FutureWarning: `max_features='auto'` has been deprecated in 1.1 and will be removed in 1.3. To keep the past behaviour, explicitly set `max_features='sqrt'`.\n",
            "  warnings.warn(\n",
            "/usr/local/lib/python3.10/dist-packages/sklearn/tree/_classes.py:269: FutureWarning: `max_features='auto'` has been deprecated in 1.1 and will be removed in 1.3. To keep the past behaviour, explicitly set `max_features='sqrt'`.\n",
            "  warnings.warn(\n",
            "/usr/local/lib/python3.10/dist-packages/sklearn/tree/_classes.py:269: FutureWarning: `max_features='auto'` has been deprecated in 1.1 and will be removed in 1.3. To keep the past behaviour, explicitly set `max_features='sqrt'`.\n",
            "  warnings.warn(\n",
            "/usr/local/lib/python3.10/dist-packages/sklearn/tree/_classes.py:269: FutureWarning: `max_features='auto'` has been deprecated in 1.1 and will be removed in 1.3. To keep the past behaviour, explicitly set `max_features='sqrt'`.\n",
            "  warnings.warn(\n",
            "/usr/local/lib/python3.10/dist-packages/sklearn/tree/_classes.py:269: FutureWarning: `max_features='auto'` has been deprecated in 1.1 and will be removed in 1.3. To keep the past behaviour, explicitly set `max_features='sqrt'`.\n",
            "  warnings.warn(\n",
            "/usr/local/lib/python3.10/dist-packages/sklearn/tree/_classes.py:269: FutureWarning: `max_features='auto'` has been deprecated in 1.1 and will be removed in 1.3. To keep the past behaviour, explicitly set `max_features='sqrt'`.\n",
            "  warnings.warn(\n",
            "/usr/local/lib/python3.10/dist-packages/sklearn/tree/_classes.py:269: FutureWarning: `max_features='auto'` has been deprecated in 1.1 and will be removed in 1.3. To keep the past behaviour, explicitly set `max_features='sqrt'`.\n",
            "  warnings.warn(\n",
            "/usr/local/lib/python3.10/dist-packages/sklearn/tree/_classes.py:269: FutureWarning: `max_features='auto'` has been deprecated in 1.1 and will be removed in 1.3. To keep the past behaviour, explicitly set `max_features='sqrt'`.\n",
            "  warnings.warn(\n",
            "/usr/local/lib/python3.10/dist-packages/sklearn/tree/_classes.py:269: FutureWarning: `max_features='auto'` has been deprecated in 1.1 and will be removed in 1.3. To keep the past behaviour, explicitly set `max_features='sqrt'`.\n",
            "  warnings.warn(\n",
            "/usr/local/lib/python3.10/dist-packages/sklearn/tree/_classes.py:269: FutureWarning: `max_features='auto'` has been deprecated in 1.1 and will be removed in 1.3. To keep the past behaviour, explicitly set `max_features='sqrt'`.\n",
            "  warnings.warn(\n",
            "/usr/local/lib/python3.10/dist-packages/sklearn/tree/_classes.py:269: FutureWarning: `max_features='auto'` has been deprecated in 1.1 and will be removed in 1.3. To keep the past behaviour, explicitly set `max_features='sqrt'`.\n",
            "  warnings.warn(\n",
            "/usr/local/lib/python3.10/dist-packages/sklearn/tree/_classes.py:269: FutureWarning: `max_features='auto'` has been deprecated in 1.1 and will be removed in 1.3. To keep the past behaviour, explicitly set `max_features='sqrt'`.\n",
            "  warnings.warn(\n",
            "/usr/local/lib/python3.10/dist-packages/sklearn/tree/_classes.py:269: FutureWarning: `max_features='auto'` has been deprecated in 1.1 and will be removed in 1.3. To keep the past behaviour, explicitly set `max_features='sqrt'`.\n",
            "  warnings.warn(\n",
            "/usr/local/lib/python3.10/dist-packages/sklearn/tree/_classes.py:269: FutureWarning: `max_features='auto'` has been deprecated in 1.1 and will be removed in 1.3. To keep the past behaviour, explicitly set `max_features='sqrt'`.\n",
            "  warnings.warn(\n",
            "/usr/local/lib/python3.10/dist-packages/sklearn/tree/_classes.py:269: FutureWarning: `max_features='auto'` has been deprecated in 1.1 and will be removed in 1.3. To keep the past behaviour, explicitly set `max_features='sqrt'`.\n",
            "  warnings.warn(\n",
            "/usr/local/lib/python3.10/dist-packages/sklearn/tree/_classes.py:269: FutureWarning: `max_features='auto'` has been deprecated in 1.1 and will be removed in 1.3. To keep the past behaviour, explicitly set `max_features='sqrt'`.\n",
            "  warnings.warn(\n",
            "/usr/local/lib/python3.10/dist-packages/sklearn/tree/_classes.py:269: FutureWarning: `max_features='auto'` has been deprecated in 1.1 and will be removed in 1.3. To keep the past behaviour, explicitly set `max_features='sqrt'`.\n",
            "  warnings.warn(\n",
            "/usr/local/lib/python3.10/dist-packages/sklearn/tree/_classes.py:269: FutureWarning: `max_features='auto'` has been deprecated in 1.1 and will be removed in 1.3. To keep the past behaviour, explicitly set `max_features='sqrt'`.\n",
            "  warnings.warn(\n",
            "/usr/local/lib/python3.10/dist-packages/sklearn/tree/_classes.py:269: FutureWarning: `max_features='auto'` has been deprecated in 1.1 and will be removed in 1.3. To keep the past behaviour, explicitly set `max_features='sqrt'`.\n",
            "  warnings.warn(\n",
            "/usr/local/lib/python3.10/dist-packages/sklearn/tree/_classes.py:269: FutureWarning: `max_features='auto'` has been deprecated in 1.1 and will be removed in 1.3. To keep the past behaviour, explicitly set `max_features='sqrt'`.\n",
            "  warnings.warn(\n",
            "/usr/local/lib/python3.10/dist-packages/sklearn/tree/_classes.py:269: FutureWarning: `max_features='auto'` has been deprecated in 1.1 and will be removed in 1.3. To keep the past behaviour, explicitly set `max_features='sqrt'`.\n",
            "  warnings.warn(\n",
            "/usr/local/lib/python3.10/dist-packages/sklearn/tree/_classes.py:269: FutureWarning: `max_features='auto'` has been deprecated in 1.1 and will be removed in 1.3. To keep the past behaviour, explicitly set `max_features='sqrt'`.\n",
            "  warnings.warn(\n",
            "/usr/local/lib/python3.10/dist-packages/sklearn/tree/_classes.py:269: FutureWarning: `max_features='auto'` has been deprecated in 1.1 and will be removed in 1.3. To keep the past behaviour, explicitly set `max_features='sqrt'`.\n",
            "  warnings.warn(\n",
            "/usr/local/lib/python3.10/dist-packages/sklearn/tree/_classes.py:269: FutureWarning: `max_features='auto'` has been deprecated in 1.1 and will be removed in 1.3. To keep the past behaviour, explicitly set `max_features='sqrt'`.\n",
            "  warnings.warn(\n",
            "/usr/local/lib/python3.10/dist-packages/sklearn/tree/_classes.py:269: FutureWarning: `max_features='auto'` has been deprecated in 1.1 and will be removed in 1.3. To keep the past behaviour, explicitly set `max_features='sqrt'`.\n",
            "  warnings.warn(\n",
            "/usr/local/lib/python3.10/dist-packages/sklearn/tree/_classes.py:269: FutureWarning: `max_features='auto'` has been deprecated in 1.1 and will be removed in 1.3. To keep the past behaviour, explicitly set `max_features='sqrt'`.\n",
            "  warnings.warn(\n",
            "/usr/local/lib/python3.10/dist-packages/sklearn/tree/_classes.py:269: FutureWarning: `max_features='auto'` has been deprecated in 1.1 and will be removed in 1.3. To keep the past behaviour, explicitly set `max_features='sqrt'`.\n",
            "  warnings.warn(\n",
            "/usr/local/lib/python3.10/dist-packages/sklearn/tree/_classes.py:269: FutureWarning: `max_features='auto'` has been deprecated in 1.1 and will be removed in 1.3. To keep the past behaviour, explicitly set `max_features='sqrt'`.\n",
            "  warnings.warn(\n",
            "/usr/local/lib/python3.10/dist-packages/sklearn/tree/_classes.py:269: FutureWarning: `max_features='auto'` has been deprecated in 1.1 and will be removed in 1.3. To keep the past behaviour, explicitly set `max_features='sqrt'`.\n",
            "  warnings.warn(\n",
            "/usr/local/lib/python3.10/dist-packages/sklearn/tree/_classes.py:269: FutureWarning: `max_features='auto'` has been deprecated in 1.1 and will be removed in 1.3. To keep the past behaviour, explicitly set `max_features='sqrt'`.\n",
            "  warnings.warn(\n",
            "/usr/local/lib/python3.10/dist-packages/sklearn/tree/_classes.py:269: FutureWarning: `max_features='auto'` has been deprecated in 1.1 and will be removed in 1.3. To keep the past behaviour, explicitly set `max_features='sqrt'`.\n",
            "  warnings.warn(\n",
            "/usr/local/lib/python3.10/dist-packages/sklearn/tree/_classes.py:269: FutureWarning: `max_features='auto'` has been deprecated in 1.1 and will be removed in 1.3. To keep the past behaviour, explicitly set `max_features='sqrt'`.\n",
            "  warnings.warn(\n",
            "/usr/local/lib/python3.10/dist-packages/sklearn/tree/_classes.py:269: FutureWarning: `max_features='auto'` has been deprecated in 1.1 and will be removed in 1.3. To keep the past behaviour, explicitly set `max_features='sqrt'`.\n",
            "  warnings.warn(\n",
            "/usr/local/lib/python3.10/dist-packages/sklearn/tree/_classes.py:269: FutureWarning: `max_features='auto'` has been deprecated in 1.1 and will be removed in 1.3. To keep the past behaviour, explicitly set `max_features='sqrt'`.\n",
            "  warnings.warn(\n",
            "/usr/local/lib/python3.10/dist-packages/sklearn/tree/_classes.py:269: FutureWarning: `max_features='auto'` has been deprecated in 1.1 and will be removed in 1.3. To keep the past behaviour, explicitly set `max_features='sqrt'`.\n",
            "  warnings.warn(\n",
            "/usr/local/lib/python3.10/dist-packages/sklearn/tree/_classes.py:269: FutureWarning: `max_features='auto'` has been deprecated in 1.1 and will be removed in 1.3. To keep the past behaviour, explicitly set `max_features='sqrt'`.\n",
            "  warnings.warn(\n",
            "/usr/local/lib/python3.10/dist-packages/sklearn/tree/_classes.py:269: FutureWarning: `max_features='auto'` has been deprecated in 1.1 and will be removed in 1.3. To keep the past behaviour, explicitly set `max_features='sqrt'`.\n",
            "  warnings.warn(\n",
            "/usr/local/lib/python3.10/dist-packages/sklearn/tree/_classes.py:269: FutureWarning: `max_features='auto'` has been deprecated in 1.1 and will be removed in 1.3. To keep the past behaviour, explicitly set `max_features='sqrt'`.\n",
            "  warnings.warn(\n",
            "/usr/local/lib/python3.10/dist-packages/sklearn/tree/_classes.py:269: FutureWarning: `max_features='auto'` has been deprecated in 1.1 and will be removed in 1.3. To keep the past behaviour, explicitly set `max_features='sqrt'`.\n",
            "  warnings.warn(\n",
            "/usr/local/lib/python3.10/dist-packages/sklearn/tree/_classes.py:269: FutureWarning: `max_features='auto'` has been deprecated in 1.1 and will be removed in 1.3. To keep the past behaviour, explicitly set `max_features='sqrt'`.\n",
            "  warnings.warn(\n",
            "/usr/local/lib/python3.10/dist-packages/sklearn/tree/_classes.py:269: FutureWarning: `max_features='auto'` has been deprecated in 1.1 and will be removed in 1.3. To keep the past behaviour, explicitly set `max_features='sqrt'`.\n",
            "  warnings.warn(\n",
            "/usr/local/lib/python3.10/dist-packages/sklearn/tree/_classes.py:269: FutureWarning: `max_features='auto'` has been deprecated in 1.1 and will be removed in 1.3. To keep the past behaviour, explicitly set `max_features='sqrt'`.\n",
            "  warnings.warn(\n",
            "/usr/local/lib/python3.10/dist-packages/sklearn/tree/_classes.py:269: FutureWarning: `max_features='auto'` has been deprecated in 1.1 and will be removed in 1.3. To keep the past behaviour, explicitly set `max_features='sqrt'`.\n",
            "  warnings.warn(\n",
            "/usr/local/lib/python3.10/dist-packages/sklearn/tree/_classes.py:269: FutureWarning: `max_features='auto'` has been deprecated in 1.1 and will be removed in 1.3. To keep the past behaviour, explicitly set `max_features='sqrt'`.\n",
            "  warnings.warn(\n",
            "/usr/local/lib/python3.10/dist-packages/sklearn/tree/_classes.py:269: FutureWarning: `max_features='auto'` has been deprecated in 1.1 and will be removed in 1.3. To keep the past behaviour, explicitly set `max_features='sqrt'`.\n",
            "  warnings.warn(\n",
            "/usr/local/lib/python3.10/dist-packages/sklearn/tree/_classes.py:269: FutureWarning: `max_features='auto'` has been deprecated in 1.1 and will be removed in 1.3. To keep the past behaviour, explicitly set `max_features='sqrt'`.\n",
            "  warnings.warn(\n",
            "/usr/local/lib/python3.10/dist-packages/sklearn/tree/_classes.py:269: FutureWarning: `max_features='auto'` has been deprecated in 1.1 and will be removed in 1.3. To keep the past behaviour, explicitly set `max_features='sqrt'`.\n",
            "  warnings.warn(\n",
            "/usr/local/lib/python3.10/dist-packages/sklearn/tree/_classes.py:269: FutureWarning: `max_features='auto'` has been deprecated in 1.1 and will be removed in 1.3. To keep the past behaviour, explicitly set `max_features='sqrt'`.\n",
            "  warnings.warn(\n",
            "/usr/local/lib/python3.10/dist-packages/sklearn/tree/_classes.py:269: FutureWarning: `max_features='auto'` has been deprecated in 1.1 and will be removed in 1.3. To keep the past behaviour, explicitly set `max_features='sqrt'`.\n",
            "  warnings.warn(\n",
            "/usr/local/lib/python3.10/dist-packages/sklearn/tree/_classes.py:269: FutureWarning: `max_features='auto'` has been deprecated in 1.1 and will be removed in 1.3. To keep the past behaviour, explicitly set `max_features='sqrt'`.\n",
            "  warnings.warn(\n",
            "/usr/local/lib/python3.10/dist-packages/sklearn/tree/_classes.py:269: FutureWarning: `max_features='auto'` has been deprecated in 1.1 and will be removed in 1.3. To keep the past behaviour, explicitly set `max_features='sqrt'`.\n",
            "  warnings.warn(\n",
            "/usr/local/lib/python3.10/dist-packages/sklearn/tree/_classes.py:269: FutureWarning: `max_features='auto'` has been deprecated in 1.1 and will be removed in 1.3. To keep the past behaviour, explicitly set `max_features='sqrt'`.\n",
            "  warnings.warn(\n",
            "/usr/local/lib/python3.10/dist-packages/sklearn/tree/_classes.py:269: FutureWarning: `max_features='auto'` has been deprecated in 1.1 and will be removed in 1.3. To keep the past behaviour, explicitly set `max_features='sqrt'`.\n",
            "  warnings.warn(\n",
            "/usr/local/lib/python3.10/dist-packages/sklearn/tree/_classes.py:269: FutureWarning: `max_features='auto'` has been deprecated in 1.1 and will be removed in 1.3. To keep the past behaviour, explicitly set `max_features='sqrt'`.\n",
            "  warnings.warn(\n",
            "/usr/local/lib/python3.10/dist-packages/sklearn/tree/_classes.py:269: FutureWarning: `max_features='auto'` has been deprecated in 1.1 and will be removed in 1.3. To keep the past behaviour, explicitly set `max_features='sqrt'`.\n",
            "  warnings.warn(\n",
            "/usr/local/lib/python3.10/dist-packages/sklearn/tree/_classes.py:269: FutureWarning: `max_features='auto'` has been deprecated in 1.1 and will be removed in 1.3. To keep the past behaviour, explicitly set `max_features='sqrt'`.\n",
            "  warnings.warn(\n",
            "/usr/local/lib/python3.10/dist-packages/sklearn/tree/_classes.py:269: FutureWarning: `max_features='auto'` has been deprecated in 1.1 and will be removed in 1.3. To keep the past behaviour, explicitly set `max_features='sqrt'`.\n",
            "  warnings.warn(\n",
            "/usr/local/lib/python3.10/dist-packages/sklearn/tree/_classes.py:269: FutureWarning: `max_features='auto'` has been deprecated in 1.1 and will be removed in 1.3. To keep the past behaviour, explicitly set `max_features='sqrt'`.\n",
            "  warnings.warn(\n",
            "/usr/local/lib/python3.10/dist-packages/sklearn/tree/_classes.py:269: FutureWarning: `max_features='auto'` has been deprecated in 1.1 and will be removed in 1.3. To keep the past behaviour, explicitly set `max_features='sqrt'`.\n",
            "  warnings.warn(\n",
            "/usr/local/lib/python3.10/dist-packages/sklearn/tree/_classes.py:269: FutureWarning: `max_features='auto'` has been deprecated in 1.1 and will be removed in 1.3. To keep the past behaviour, explicitly set `max_features='sqrt'`.\n",
            "  warnings.warn(\n",
            "/usr/local/lib/python3.10/dist-packages/sklearn/tree/_classes.py:269: FutureWarning: `max_features='auto'` has been deprecated in 1.1 and will be removed in 1.3. To keep the past behaviour, explicitly set `max_features='sqrt'`.\n",
            "  warnings.warn(\n"
          ]
        },
        {
          "output_type": "execute_result",
          "data": {
            "text/plain": [
              "GridSearchCV(cv=5, estimator=DecisionTreeClassifier(),\n",
              "             param_grid={'criterion': ['gini', 'entropy', 'log_loss'],\n",
              "                         'max_depth': [1, 2, 3, 4, 5],\n",
              "                         'max_features': ['auto', 'sqrt', 'log2'],\n",
              "                         'splitter': ['best', 'random']},\n",
              "             scoring='accuracy')"
            ],
            "text/html": [
              "<style>#sk-container-id-1 {color: black;background-color: white;}#sk-container-id-1 pre{padding: 0;}#sk-container-id-1 div.sk-toggleable {background-color: white;}#sk-container-id-1 label.sk-toggleable__label {cursor: pointer;display: block;width: 100%;margin-bottom: 0;padding: 0.3em;box-sizing: border-box;text-align: center;}#sk-container-id-1 label.sk-toggleable__label-arrow:before {content: \"▸\";float: left;margin-right: 0.25em;color: #696969;}#sk-container-id-1 label.sk-toggleable__label-arrow:hover:before {color: black;}#sk-container-id-1 div.sk-estimator:hover label.sk-toggleable__label-arrow:before {color: black;}#sk-container-id-1 div.sk-toggleable__content {max-height: 0;max-width: 0;overflow: hidden;text-align: left;background-color: #f0f8ff;}#sk-container-id-1 div.sk-toggleable__content pre {margin: 0.2em;color: black;border-radius: 0.25em;background-color: #f0f8ff;}#sk-container-id-1 input.sk-toggleable__control:checked~div.sk-toggleable__content {max-height: 200px;max-width: 100%;overflow: auto;}#sk-container-id-1 input.sk-toggleable__control:checked~label.sk-toggleable__label-arrow:before {content: \"▾\";}#sk-container-id-1 div.sk-estimator input.sk-toggleable__control:checked~label.sk-toggleable__label {background-color: #d4ebff;}#sk-container-id-1 div.sk-label input.sk-toggleable__control:checked~label.sk-toggleable__label {background-color: #d4ebff;}#sk-container-id-1 input.sk-hidden--visually {border: 0;clip: rect(1px 1px 1px 1px);clip: rect(1px, 1px, 1px, 1px);height: 1px;margin: -1px;overflow: hidden;padding: 0;position: absolute;width: 1px;}#sk-container-id-1 div.sk-estimator {font-family: monospace;background-color: #f0f8ff;border: 1px dotted black;border-radius: 0.25em;box-sizing: border-box;margin-bottom: 0.5em;}#sk-container-id-1 div.sk-estimator:hover {background-color: #d4ebff;}#sk-container-id-1 div.sk-parallel-item::after {content: \"\";width: 100%;border-bottom: 1px solid gray;flex-grow: 1;}#sk-container-id-1 div.sk-label:hover label.sk-toggleable__label {background-color: #d4ebff;}#sk-container-id-1 div.sk-serial::before {content: \"\";position: absolute;border-left: 1px solid gray;box-sizing: border-box;top: 0;bottom: 0;left: 50%;z-index: 0;}#sk-container-id-1 div.sk-serial {display: flex;flex-direction: column;align-items: center;background-color: white;padding-right: 0.2em;padding-left: 0.2em;position: relative;}#sk-container-id-1 div.sk-item {position: relative;z-index: 1;}#sk-container-id-1 div.sk-parallel {display: flex;align-items: stretch;justify-content: center;background-color: white;position: relative;}#sk-container-id-1 div.sk-item::before, #sk-container-id-1 div.sk-parallel-item::before {content: \"\";position: absolute;border-left: 1px solid gray;box-sizing: border-box;top: 0;bottom: 0;left: 50%;z-index: -1;}#sk-container-id-1 div.sk-parallel-item {display: flex;flex-direction: column;z-index: 1;position: relative;background-color: white;}#sk-container-id-1 div.sk-parallel-item:first-child::after {align-self: flex-end;width: 50%;}#sk-container-id-1 div.sk-parallel-item:last-child::after {align-self: flex-start;width: 50%;}#sk-container-id-1 div.sk-parallel-item:only-child::after {width: 0;}#sk-container-id-1 div.sk-dashed-wrapped {border: 1px dashed gray;margin: 0 0.4em 0.5em 0.4em;box-sizing: border-box;padding-bottom: 0.4em;background-color: white;}#sk-container-id-1 div.sk-label label {font-family: monospace;font-weight: bold;display: inline-block;line-height: 1.2em;}#sk-container-id-1 div.sk-label-container {text-align: center;}#sk-container-id-1 div.sk-container {/* jupyter's `normalize.less` sets `[hidden] { display: none; }` but bootstrap.min.css set `[hidden] { display: none !important; }` so we also need the `!important` here to be able to override the default hidden behavior on the sphinx rendered scikit-learn.org. See: https://github.com/scikit-learn/scikit-learn/issues/21755 */display: inline-block !important;position: relative;}#sk-container-id-1 div.sk-text-repr-fallback {display: none;}</style><div id=\"sk-container-id-1\" class=\"sk-top-container\"><div class=\"sk-text-repr-fallback\"><pre>GridSearchCV(cv=5, estimator=DecisionTreeClassifier(),\n",
              "             param_grid={&#x27;criterion&#x27;: [&#x27;gini&#x27;, &#x27;entropy&#x27;, &#x27;log_loss&#x27;],\n",
              "                         &#x27;max_depth&#x27;: [1, 2, 3, 4, 5],\n",
              "                         &#x27;max_features&#x27;: [&#x27;auto&#x27;, &#x27;sqrt&#x27;, &#x27;log2&#x27;],\n",
              "                         &#x27;splitter&#x27;: [&#x27;best&#x27;, &#x27;random&#x27;]},\n",
              "             scoring=&#x27;accuracy&#x27;)</pre><b>In a Jupyter environment, please rerun this cell to show the HTML representation or trust the notebook. <br />On GitHub, the HTML representation is unable to render, please try loading this page with nbviewer.org.</b></div><div class=\"sk-container\" hidden><div class=\"sk-item sk-dashed-wrapped\"><div class=\"sk-label-container\"><div class=\"sk-label sk-toggleable\"><input class=\"sk-toggleable__control sk-hidden--visually\" id=\"sk-estimator-id-1\" type=\"checkbox\" ><label for=\"sk-estimator-id-1\" class=\"sk-toggleable__label sk-toggleable__label-arrow\">GridSearchCV</label><div class=\"sk-toggleable__content\"><pre>GridSearchCV(cv=5, estimator=DecisionTreeClassifier(),\n",
              "             param_grid={&#x27;criterion&#x27;: [&#x27;gini&#x27;, &#x27;entropy&#x27;, &#x27;log_loss&#x27;],\n",
              "                         &#x27;max_depth&#x27;: [1, 2, 3, 4, 5],\n",
              "                         &#x27;max_features&#x27;: [&#x27;auto&#x27;, &#x27;sqrt&#x27;, &#x27;log2&#x27;],\n",
              "                         &#x27;splitter&#x27;: [&#x27;best&#x27;, &#x27;random&#x27;]},\n",
              "             scoring=&#x27;accuracy&#x27;)</pre></div></div></div><div class=\"sk-parallel\"><div class=\"sk-parallel-item\"><div class=\"sk-item\"><div class=\"sk-label-container\"><div class=\"sk-label sk-toggleable\"><input class=\"sk-toggleable__control sk-hidden--visually\" id=\"sk-estimator-id-2\" type=\"checkbox\" ><label for=\"sk-estimator-id-2\" class=\"sk-toggleable__label sk-toggleable__label-arrow\">estimator: DecisionTreeClassifier</label><div class=\"sk-toggleable__content\"><pre>DecisionTreeClassifier()</pre></div></div></div><div class=\"sk-serial\"><div class=\"sk-item\"><div class=\"sk-estimator sk-toggleable\"><input class=\"sk-toggleable__control sk-hidden--visually\" id=\"sk-estimator-id-3\" type=\"checkbox\" ><label for=\"sk-estimator-id-3\" class=\"sk-toggleable__label sk-toggleable__label-arrow\">DecisionTreeClassifier</label><div class=\"sk-toggleable__content\"><pre>DecisionTreeClassifier()</pre></div></div></div></div></div></div></div></div></div></div>"
            ]
          },
          "metadata": {},
          "execution_count": 14
        }
      ]
    },
    {
      "cell_type": "code",
      "source": [
        "cv.best_params_\n"
      ],
      "metadata": {
        "colab": {
          "base_uri": "https://localhost:8080/"
        },
        "id": "9DvvN9LZc7WO",
        "outputId": "699de9eb-7dfe-4ab9-e736-230a23587c36"
      },
      "execution_count": null,
      "outputs": [
        {
          "output_type": "execute_result",
          "data": {
            "text/plain": [
              "{'criterion': 'gini',\n",
              " 'max_depth': 4,\n",
              " 'max_features': 'sqrt',\n",
              " 'splitter': 'best'}"
            ]
          },
          "metadata": {},
          "execution_count": 15
        }
      ]
    },
    {
      "cell_type": "code",
      "source": [
        "y_test"
      ],
      "metadata": {
        "colab": {
          "base_uri": "https://localhost:8080/"
        },
        "id": "0yuNr1M0c-_p",
        "outputId": "4b7bddde-f365-475b-ff81-7608ed636268"
      },
      "execution_count": null,
      "outputs": [
        {
          "output_type": "execute_result",
          "data": {
            "text/plain": [
              "array([1, 0, 2, 1, 1, 0, 1, 2, 1, 1, 2, 0, 0, 0, 0, 1, 2, 1, 1, 2, 0, 2,\n",
              "       0, 2, 2, 2, 2, 2, 0, 0, 0, 0, 1, 0, 0, 2, 1, 0, 0, 0, 2, 1, 1, 0,\n",
              "       0, 1, 2, 2, 1, 2])"
            ]
          },
          "metadata": {},
          "execution_count": 16
        }
      ]
    },
    {
      "cell_type": "code",
      "source": [
        "y_pred=cv.predict(X_test)\n"
      ],
      "metadata": {
        "id": "J6OaNYrRdCkk"
      },
      "execution_count": null,
      "outputs": []
    },
    {
      "cell_type": "code",
      "source": [
        "from sklearn.metrics import accuracy_score, classification_report\n"
      ],
      "metadata": {
        "id": "Yf88D3d7daas"
      },
      "execution_count": null,
      "outputs": []
    },
    {
      "cell_type": "code",
      "source": [
        "score=accuracy_score(y_pred,y_test)\n"
      ],
      "metadata": {
        "id": "yL141WhIdiW9"
      },
      "execution_count": null,
      "outputs": []
    },
    {
      "cell_type": "code",
      "source": [
        "print(classification_report(y_pred,y_test))\n"
      ],
      "metadata": {
        "id": "AM6n8qBndmKh",
        "outputId": "0ce41143-bff2-4deb-edaa-060f2223588c",
        "colab": {
          "base_uri": "https://localhost:8080/"
        }
      },
      "execution_count": null,
      "outputs": [
        {
          "output_type": "stream",
          "name": "stdout",
          "text": [
            "              precision    recall  f1-score   support\n",
            "\n",
            "           0       1.00      1.00      1.00        19\n",
            "           1       1.00      0.94      0.97        16\n",
            "           2       0.94      1.00      0.97        15\n",
            "\n",
            "    accuracy                           0.98        50\n",
            "   macro avg       0.98      0.98      0.98        50\n",
            "weighted avg       0.98      0.98      0.98        50\n",
            "\n"
          ]
        }
      ]
    },
    {
      "cell_type": "markdown",
      "source": [
        "Naive Bayes"
      ],
      "metadata": {
        "id": "spNXD2bm81Jf"
      }
    },
    {
      "cell_type": "code",
      "source": [
        "import numpy as np\n",
        "import pandas as pd\n",
        "import matplotlib.pyplot as plt\n",
        "import seaborn as sns\n"
      ],
      "metadata": {
        "id": "84h0Pk2x8260"
      },
      "execution_count": null,
      "outputs": []
    },
    {
      "cell_type": "code",
      "source": [],
      "metadata": {
        "id": "OxrvPD3HAOm0"
      },
      "execution_count": null,
      "outputs": []
    }
  ],
  "metadata": {
    "colab": {
      "provenance": [],
      "authorship_tag": "ABX9TyPOc3A8pCn/JkZco+CBDQjn",
      "include_colab_link": true
    },
    "kernelspec": {
      "display_name": "Python 3",
      "name": "python3"
    },
    "language_info": {
      "name": "python"
    }
  },
  "nbformat": 4,
  "nbformat_minor": 0
}